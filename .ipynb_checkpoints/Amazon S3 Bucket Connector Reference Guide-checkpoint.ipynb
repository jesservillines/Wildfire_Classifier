{
 "cells": [
  {
   "cell_type": "markdown",
   "id": "breathing-assault",
   "metadata": {},
   "source": [
    "# Amazon S3 Bucket Connector Reference Guide"
   ]
  },
  {
   "cell_type": "markdown",
   "id": "detailed-orientation",
   "metadata": {},
   "source": [
    "   "
   ]
  },
  {
   "cell_type": "markdown",
   "id": "focal-provider",
   "metadata": {},
   "source": [
    "   "
   ]
  },
  {
   "cell_type": "markdown",
   "id": "automated-orchestra",
   "metadata": {},
   "source": [
    "This guide assumes you have followed instructions here:  \n",
    "    `https://aws.amazon.com/cli/`   \n",
    "and here:    \n",
    "    `https://boto3.amazonaws.com/v1/documentation/api/latest/guide/credentials.html`  \n",
    "To set up the Amazon CLI on your machine and set up our shared creds on your home directory."
   ]
  },
  {
   "cell_type": "markdown",
   "id": "swiss-electricity",
   "metadata": {},
   "source": [
    "### command line - install boto3"
   ]
  },
  {
   "cell_type": "markdown",
   "id": "devoted-institution",
   "metadata": {},
   "source": [
    "#### In your command line, install boto3\n",
    "\n",
    "` $ pip install boto3 `"
   ]
  },
  {
   "cell_type": "markdown",
   "id": "aggregate-meter",
   "metadata": {},
   "source": [
    "### Import boto3 to the notebook you are using it in"
   ]
  },
  {
   "cell_type": "code",
   "execution_count": 1,
   "id": "affected-limit",
   "metadata": {},
   "outputs": [],
   "source": [
    "# import boto3\n",
    "import boto3\n",
    "import io\n",
    "import pandas as pd"
   ]
  },
  {
   "cell_type": "markdown",
   "id": "revised-tension",
   "metadata": {},
   "source": [
    "#### Set up Boto3 with Amazon AWS S3 in your notebook.\n",
    "You will need just the top line of the following code (sans #notes)"
   ]
  },
  {
   "cell_type": "code",
   "execution_count": 2,
   "id": "decimal-zealand",
   "metadata": {},
   "outputs": [],
   "source": [
    "# Set S3 to use AWS s3\n",
    "s3 = boto3.resource('s3')"
   ]
  },
  {
   "cell_type": "markdown",
   "id": "sustained-growth",
   "metadata": {},
   "source": [
    "####  *  Optional if you want to see the buckets and test that your connection was successful  * \n",
    "In this example you will see all of my buckets here because permissions were weird for my rconnector user"
   ]
  },
  {
   "cell_type": "code",
   "execution_count": 3,
   "id": "connected-remains",
   "metadata": {},
   "outputs": [
    {
     "name": "stdout",
     "output_type": "stream",
     "text": [
      "Existing buckets:\n",
      "  git-to-amazon-s3-keybucket-1uuivb4f4dj7q\n",
      "  git-to-amazon-s3-lambdazipsbucket-zzvq775qyhgl\n",
      "  git-to-amazon-s3-outputbucket-rorni8oehk4l\n",
      "  medicinejardesign.com\n",
      "  meteorology-fire-impact\n",
      "  www.medicinejardesign.com\n"
     ]
    }
   ],
   "source": [
    "# Retrieve the list of existing buckets\n",
    "s3 = boto3.client('s3')\n",
    "response = s3.list_buckets()\n",
    "\n",
    "# Output the bucket names\n",
    "print('Existing buckets:')\n",
    "for bucket in response['Buckets']:\n",
    "    print(f'  {bucket[\"Name\"]}')"
   ]
  },
  {
   "cell_type": "markdown",
   "id": "integral-bunch",
   "metadata": {},
   "source": [
    "### Download files from AWS using Bucket, Object, Filename"
   ]
  },
  {
   "cell_type": "markdown",
   "id": "cathedral-drawing",
   "metadata": {},
   "source": [
    "#### Adding this because I wasn't quite sure it was asking for when I first filled the input\n",
    "* **Bucket Name** = bucket name (this one's easy)\n",
    "* **Object Name** = path/to/file/within/bucket/including_file_name.csv (path does **NOT** include bucket name)\n",
    "* **File_Name** = file_name (does not include path) "
   ]
  },
  {
   "cell_type": "markdown",
   "id": "fabulous-graduation",
   "metadata": {},
   "source": [
    "#### Download a new file\n",
    "`df = pd.read_csv(URI for the file)`"
   ]
  },
  {
   "cell_type": "code",
   "execution_count": 4,
   "id": "unique-dakota",
   "metadata": {},
   "outputs": [],
   "source": [
    "# Example : \n",
    "df = pd.read_csv('s3://git-to-amazon-s3-outputbucket-rorni8oehk4l/soulclimberchick/meteorology-fire-impact/data-files/cell_phone_churn.csv')"
   ]
  },
  {
   "cell_type": "code",
   "execution_count": 5,
   "id": "critical-orientation",
   "metadata": {},
   "outputs": [
    {
     "data": {
      "text/html": [
       "<div>\n",
       "<style scoped>\n",
       "    .dataframe tbody tr th:only-of-type {\n",
       "        vertical-align: middle;\n",
       "    }\n",
       "\n",
       "    .dataframe tbody tr th {\n",
       "        vertical-align: top;\n",
       "    }\n",
       "\n",
       "    .dataframe thead th {\n",
       "        text-align: right;\n",
       "    }\n",
       "</style>\n",
       "<table border=\"1\" class=\"dataframe\">\n",
       "  <thead>\n",
       "    <tr style=\"text-align: right;\">\n",
       "      <th></th>\n",
       "      <th>state</th>\n",
       "      <th>account_length</th>\n",
       "      <th>area_code</th>\n",
       "      <th>intl_plan</th>\n",
       "      <th>vmail_plan</th>\n",
       "      <th>vmail_message</th>\n",
       "      <th>day_mins</th>\n",
       "      <th>day_calls</th>\n",
       "      <th>day_charge</th>\n",
       "      <th>eve_mins</th>\n",
       "      <th>eve_calls</th>\n",
       "      <th>eve_charge</th>\n",
       "      <th>night_mins</th>\n",
       "      <th>night_calls</th>\n",
       "      <th>night_charge</th>\n",
       "      <th>intl_mins</th>\n",
       "      <th>intl_calls</th>\n",
       "      <th>intl_charge</th>\n",
       "      <th>custserv_calls</th>\n",
       "      <th>churn</th>\n",
       "    </tr>\n",
       "  </thead>\n",
       "  <tbody>\n",
       "    <tr>\n",
       "      <th>0</th>\n",
       "      <td>KS</td>\n",
       "      <td>128</td>\n",
       "      <td>415</td>\n",
       "      <td>no</td>\n",
       "      <td>yes</td>\n",
       "      <td>25</td>\n",
       "      <td>265.1</td>\n",
       "      <td>110</td>\n",
       "      <td>45.07</td>\n",
       "      <td>197.4</td>\n",
       "      <td>99</td>\n",
       "      <td>16.78</td>\n",
       "      <td>244.7</td>\n",
       "      <td>91</td>\n",
       "      <td>11.01</td>\n",
       "      <td>10.0</td>\n",
       "      <td>3</td>\n",
       "      <td>2.70</td>\n",
       "      <td>1</td>\n",
       "      <td>False</td>\n",
       "    </tr>\n",
       "    <tr>\n",
       "      <th>1</th>\n",
       "      <td>OH</td>\n",
       "      <td>107</td>\n",
       "      <td>415</td>\n",
       "      <td>no</td>\n",
       "      <td>yes</td>\n",
       "      <td>26</td>\n",
       "      <td>161.6</td>\n",
       "      <td>123</td>\n",
       "      <td>27.47</td>\n",
       "      <td>195.5</td>\n",
       "      <td>103</td>\n",
       "      <td>16.62</td>\n",
       "      <td>254.4</td>\n",
       "      <td>103</td>\n",
       "      <td>11.45</td>\n",
       "      <td>13.7</td>\n",
       "      <td>3</td>\n",
       "      <td>3.70</td>\n",
       "      <td>1</td>\n",
       "      <td>False</td>\n",
       "    </tr>\n",
       "    <tr>\n",
       "      <th>2</th>\n",
       "      <td>NJ</td>\n",
       "      <td>137</td>\n",
       "      <td>415</td>\n",
       "      <td>no</td>\n",
       "      <td>no</td>\n",
       "      <td>0</td>\n",
       "      <td>243.4</td>\n",
       "      <td>114</td>\n",
       "      <td>41.38</td>\n",
       "      <td>121.2</td>\n",
       "      <td>110</td>\n",
       "      <td>10.30</td>\n",
       "      <td>162.6</td>\n",
       "      <td>104</td>\n",
       "      <td>7.32</td>\n",
       "      <td>12.2</td>\n",
       "      <td>5</td>\n",
       "      <td>3.29</td>\n",
       "      <td>0</td>\n",
       "      <td>False</td>\n",
       "    </tr>\n",
       "    <tr>\n",
       "      <th>3</th>\n",
       "      <td>OH</td>\n",
       "      <td>84</td>\n",
       "      <td>408</td>\n",
       "      <td>yes</td>\n",
       "      <td>no</td>\n",
       "      <td>0</td>\n",
       "      <td>299.4</td>\n",
       "      <td>71</td>\n",
       "      <td>50.90</td>\n",
       "      <td>61.9</td>\n",
       "      <td>88</td>\n",
       "      <td>5.26</td>\n",
       "      <td>196.9</td>\n",
       "      <td>89</td>\n",
       "      <td>8.86</td>\n",
       "      <td>6.6</td>\n",
       "      <td>7</td>\n",
       "      <td>1.78</td>\n",
       "      <td>2</td>\n",
       "      <td>False</td>\n",
       "    </tr>\n",
       "    <tr>\n",
       "      <th>4</th>\n",
       "      <td>OK</td>\n",
       "      <td>75</td>\n",
       "      <td>415</td>\n",
       "      <td>yes</td>\n",
       "      <td>no</td>\n",
       "      <td>0</td>\n",
       "      <td>166.7</td>\n",
       "      <td>113</td>\n",
       "      <td>28.34</td>\n",
       "      <td>148.3</td>\n",
       "      <td>122</td>\n",
       "      <td>12.61</td>\n",
       "      <td>186.9</td>\n",
       "      <td>121</td>\n",
       "      <td>8.41</td>\n",
       "      <td>10.1</td>\n",
       "      <td>3</td>\n",
       "      <td>2.73</td>\n",
       "      <td>3</td>\n",
       "      <td>False</td>\n",
       "    </tr>\n",
       "  </tbody>\n",
       "</table>\n",
       "</div>"
      ],
      "text/plain": [
       "  state  account_length  area_code intl_plan vmail_plan  vmail_message  \\\n",
       "0    KS             128        415        no        yes             25   \n",
       "1    OH             107        415        no        yes             26   \n",
       "2    NJ             137        415        no         no              0   \n",
       "3    OH              84        408       yes         no              0   \n",
       "4    OK              75        415       yes         no              0   \n",
       "\n",
       "   day_mins  day_calls  day_charge  eve_mins  eve_calls  eve_charge  \\\n",
       "0     265.1        110       45.07     197.4         99       16.78   \n",
       "1     161.6        123       27.47     195.5        103       16.62   \n",
       "2     243.4        114       41.38     121.2        110       10.30   \n",
       "3     299.4         71       50.90      61.9         88        5.26   \n",
       "4     166.7        113       28.34     148.3        122       12.61   \n",
       "\n",
       "   night_mins  night_calls  night_charge  intl_mins  intl_calls  intl_charge  \\\n",
       "0       244.7           91         11.01       10.0           3         2.70   \n",
       "1       254.4          103         11.45       13.7           3         3.70   \n",
       "2       162.6          104          7.32       12.2           5         3.29   \n",
       "3       196.9           89          8.86        6.6           7         1.78   \n",
       "4       186.9          121          8.41       10.1           3         2.73   \n",
       "\n",
       "   custserv_calls  churn  \n",
       "0               1  False  \n",
       "1               1  False  \n",
       "2               0  False  \n",
       "3               2  False  \n",
       "4               3  False  "
      ]
     },
     "execution_count": 5,
     "metadata": {},
     "output_type": "execute_result"
    }
   ],
   "source": [
    "df.head()"
   ]
  },
  {
   "cell_type": "markdown",
   "id": "preliminary-convert",
   "metadata": {},
   "source": [
    "### Uploading (saving) files from the notebook to the AWS bucket"
   ]
  },
  {
   "cell_type": "markdown",
   "id": "personalized-raise",
   "metadata": {},
   "source": [
    "#### Upload a new file:\n",
    "\n",
    "`s3.upload_file(\n",
    "    'FILE_NAME', 'BUCKET_NAME', 'OBJECT_NAME'\n",
    ")`"
   ]
  },
  {
   "cell_type": "code",
   "execution_count": 6,
   "id": "lovely-broad",
   "metadata": {},
   "outputs": [],
   "source": [
    "# - example:\n",
    "s3.upload_file(\n",
    "    'cell_phone_churn.csv', 'git-to-amazon-s3-outputbucket-rorni8oehk4l', 'soulclimberchick/meteorology-fire-impact/data-files/cell_phone_churn.csv',\n",
    ")"
   ]
  }
 ],
 "metadata": {
  "kernelspec": {
   "display_name": "Python 3",
   "language": "python",
   "name": "python3"
  },
  "language_info": {
   "codemirror_mode": {
    "name": "ipython",
    "version": 3
   },
   "file_extension": ".py",
   "mimetype": "text/x-python",
   "name": "python",
   "nbconvert_exporter": "python",
   "pygments_lexer": "ipython3",
   "version": "3.8.5"
  }
 },
 "nbformat": 4,
 "nbformat_minor": 5
}
