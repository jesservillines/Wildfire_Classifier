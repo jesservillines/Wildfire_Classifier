{
 "cells": [
  {
   "cell_type": "markdown",
   "id": "excited-shannon",
   "metadata": {},
   "source": [
    "# KH Temp Fire Modeling Notebook"
   ]
  },
  {
   "cell_type": "code",
   "execution_count": 2,
   "id": "geographic-blast",
   "metadata": {},
   "outputs": [],
   "source": [
    "# Import libraries.\n",
    "import pandas as pd\n",
    "import numpy as np\n",
    "from sklearn.ensemble import RandomForestClassifier, ExtraTreesClassifier\n",
    "from sklearn.metrics import plot_confusion_matrix, recall_score, accuracy_score, f1_score, make_scorer, precision_score\n",
    "from sklearn.model_selection import cross_val_score, train_test_split, GridSearchCV\n",
    "from sklearn.preprocessing import StandardScaler\n",
    "\n",
    "%config InlineBackend.figure_format = 'retina'"
   ]
  },
  {
   "cell_type": "code",
   "execution_count": 3,
   "id": "faced-eleven",
   "metadata": {},
   "outputs": [],
   "source": [
    "noaa_on_fire = pd.read_csv('data/DONT_PUSH_mfi_df_yr_trail.csv')\n",
    "noaa_on_fire = pd.get_dummies(noaa_on_fire, columns=['state', 'month'], drop_first= True)\n",
    "\n",
    "noaa_on_fire_btstrp = pd.concat([noaa_on_fire, \n",
    "                                 noaa_on_fire[noaa_on_fire['fire_size_class'] == 'C'].sample(n = 100000, replace = True, random_state=11),\n",
    "                                 noaa_on_fire[noaa_on_fire['fire_size_class'] == 'D'].sample(n = 100000, replace = True, random_state=11),\n",
    "                                 noaa_on_fire[noaa_on_fire['fire_size_class'] == 'E'].sample(n = 100000, replace = True, random_state=11),\n",
    "                                 noaa_on_fire[noaa_on_fire['fire_size_class'] == 'F'].sample(n = 100000, replace = True, random_state=11),\n",
    "                                 noaa_on_fire[noaa_on_fire['fire_size_class'] == 'G'].sample(n = 100000, replace = True, random_state=11)], axis = 0)"
   ]
  },
  {
   "cell_type": "code",
   "execution_count": 4,
   "id": "encouraging-album",
   "metadata": {},
   "outputs": [],
   "source": [
    "X_vars = ['state_CA', 'state_CO', 'state_ID',\n",
    "       'state_MT', 'state_NM', 'state_NV', 'state_OR', 'state_UT', 'state_WA',\n",
    "       'state_WY', 'month_2', 'month_3', 'month_4', 'month_5', 'month_6',\n",
    "       'month_7', 'month_8', 'month_9', 'month_10', 'month_11', 'month_12','tavg_t12m',\n",
    "       'tavg_t9m', 'tavg_t6m', 'tavg_t3m', 'pcp_t12m', 'pcp_t9m', 'pcp_t6m',\n",
    "       'pcp_t3m', 'pmdi_t12m', 'pmdi_t9m', 'pmdi_t6m', 'pmdi_t3m', 'pdsi_t12m',\n",
    "       'pdsi_t9m', 'pdsi_t6m', 'pdsi_t3m', 'zndx', 'cdd', 'hdd']\n",
    "\n",
    "noaa_on_fire_btstrp = noaa_on_fire.dropna(subset = X_vars)\n",
    "\n",
    "\n",
    "X = noaa_on_fire_btstrp[X_vars]\n",
    "y = noaa_on_fire_btstrp['fire_size_class']"
   ]
  },
  {
   "cell_type": "code",
   "execution_count": 5,
   "id": "funded-regard",
   "metadata": {},
   "outputs": [],
   "source": [
    "X_train, X_test, y_train, y_test = train_test_split(X,y, stratify = y)\n",
    "\n",
    "stan = StandardScaler()\n",
    "X_train = stan.fit_transform(X_train)\n",
    "X_test = stan.transform(X_test)"
   ]
  },
  {
   "cell_type": "code",
   "execution_count": 6,
   "id": "external-cause",
   "metadata": {},
   "outputs": [
    {
     "data": {
      "text/plain": [
       "A    0.613502\n",
       "B    0.290010\n",
       "C    0.055196\n",
       "D    0.015331\n",
       "E    0.011383\n",
       "F    0.009211\n",
       "G    0.005367\n",
       "Name: fire_size_class, dtype: float64"
      ]
     },
     "execution_count": 6,
     "metadata": {},
     "output_type": "execute_result"
    }
   ],
   "source": [
    "# What is the accuracy of our baseline model?\n",
    "y.value_counts(normalize=True)"
   ]
  },
  {
   "cell_type": "code",
   "execution_count": 8,
   "id": "biblical-internship",
   "metadata": {},
   "outputs": [],
   "source": [
    "# Instantiate `RandomForestClassifier` object.\n",
    "rf = RandomForestClassifier(n_estimators=100, n_jobs=-1)\n",
    "et = ExtraTreesClassifier(n_estimators=100, n_jobs=-1)\n",
    "\n",
    "rf.fit(X_train, y_train)\n",
    "y_pred = rf.predict(X_test)"
   ]
  },
  {
   "cell_type": "code",
   "execution_count": 24,
   "id": "fitting-january",
   "metadata": {},
   "outputs": [
    {
     "data": {
      "text/plain": [
       "0.6201274318355503"
      ]
     },
     "execution_count": 24,
     "metadata": {},
     "output_type": "execute_result"
    }
   ],
   "source": [
    "# Fit and score on the training data.\n",
    "cross_val_score(rf, X_train, y_train, cv=5).mean()"
   ]
  },
  {
   "cell_type": "code",
   "execution_count": 25,
   "id": "first-crowd",
   "metadata": {},
   "outputs": [
    {
     "data": {
      "text/plain": [
       "0.620220544082727"
      ]
     },
     "execution_count": 25,
     "metadata": {},
     "output_type": "execute_result"
    }
   ],
   "source": [
    "# Fit and score on the training data.\n",
    "cross_val_score(et, X_train, y_train, cv=5).mean()"
   ]
  },
  {
   "cell_type": "code",
   "execution_count": 26,
   "id": "intended-passion",
   "metadata": {},
   "outputs": [
    {
     "data": {
      "text/plain": [
       "0.6215008280292903"
      ]
     },
     "execution_count": 26,
     "metadata": {},
     "output_type": "execute_result"
    }
   ],
   "source": [
    "# Score on the testing data.\n",
    "rf.score(X_test, y_test)"
   ]
  },
  {
   "cell_type": "code",
   "execution_count": null,
   "id": "fabulous-essay",
   "metadata": {},
   "outputs": [],
   "source": [
    "# # Generate one bootstrapped sample\n",
    "# # of size n from X_train.\n",
    "\n",
    "# X_train.sample(n = X_train.shape[0],\n",
    "#                replace = True,\n",
    "#                random_state = 42)\n",
    "\n",
    "# def bootstrap(data, num_B):\n",
    "#     # Create empty list for output.\n",
    "#     output = []\n",
    "    \n",
    "#     # Generate num_B bootstrapped samples.\n",
    "#     for B in range(num_B):\n",
    "        \n",
    "#         # Each sample is sampled from data with\n",
    "#         # the same sample size as the original\n",
    "#         # data, and samples with replacement.\n",
    "#         bootstrapped_sample = data.sample(n = data.shape[0],\n",
    "#                                         replace = True)\n",
    "        \n",
    "#         # Append sample to list.\n",
    "#         output.append(bootstrapped_sample)\n",
    "        \n",
    "#     # Returns num_B bootstrapped samples in list.\n",
    "#     return output\n",
    "\n",
    "# # Adapted from Boom D. - NYC\n",
    "\n"
   ]
  },
  {
   "cell_type": "code",
   "execution_count": null,
   "id": "mental-necessity",
   "metadata": {},
   "outputs": [],
   "source": [
    "# # Set seed for reproducibility.\n",
    "# np.random.seed(42)\n",
    "\n",
    "# # Generate five bootstrapped samples from X_train.\n",
    "# boot_samp = bootstrap(X_train, 5)\n",
    "\n",
    "# # Plot cholesterol level for each bootstrapped sample.\n",
    "# for B in range(5):\n",
    "#     plt.figure(figsize = (9,6))\n",
    "#     plt.hist(boot_samp[B]['Chol'])\n",
    "#     plt.title(f'Bootstrapped Sample {B + 1} of Cholesterol Level');"
   ]
  },
  {
   "cell_type": "code",
   "execution_count": 28,
   "id": "noted-wrist",
   "metadata": {},
   "outputs": [
    {
     "data": {
      "text/plain": [
       "0.626495607121717"
      ]
     },
     "execution_count": 28,
     "metadata": {},
     "output_type": "execute_result"
    }
   ],
   "source": [
    "recall_score(y_train, rf.predict(X_train), average = 'weighted')"
   ]
  },
  {
   "cell_type": "code",
   "execution_count": 29,
   "id": "dominant-tribune",
   "metadata": {},
   "outputs": [
    {
     "data": {
      "image/png": "[encoded data removed]",
      "text/plain": [
       "<Figure size 432x288 with 2 Axes>"
      ]
     },
     "metadata": {
      "needs_background": "light"
     },
     "output_type": "display_data"
    }
   ],
   "source": [
    "plot_confusion_matrix(rf, X_test, y_test, cmap = 'YlOrBr', normalize= 'true');"
   ]
  },
  {
   "cell_type": "code",
   "execution_count": 33,
   "id": "perfect-indian",
   "metadata": {},
   "outputs": [],
   "source": [
    "from sklearn.model_selection import validation_curve\n",
    "\n",
    "num_est=[100, 200, 300]\n",
    "train_scoreNum, test_scoreNum = validation_curve(\n",
    "                                RandomForestClassifier(),\n",
    "                                X = X_train, y = y_train, \n",
    "                                param_name = 'n_estimators', \n",
    "                                param_range = num_est, cv = 3,\n",
    "                                n_jobs=-1)"
   ]
  },
  {
   "cell_type": "code",
   "execution_count": 35,
   "id": "described-guard",
   "metadata": {},
   "outputs": [],
   "source": [
    "forestVC = RandomForestClassifier(random_state = 1,\n",
    "                                  n_estimators = 750,\n",
    "                                  max_depth = 15, \n",
    "                                  min_samples_split = 5,  \n",
    "                                  min_samples_leaf = 1, \n",
    "                                  n_jobs=-1) \n",
    "modelVC = forestVC.fit(X_train, y_train) \n",
    "y_predVC = modelVC.predict(X_test)"
   ]
  },
  {
   "cell_type": "code",
   "execution_count": 9,
   "id": "cloudy-converter",
   "metadata": {},
   "outputs": [
    {
     "name": "stdout",
     "output_type": "stream",
     "text": [
      "Fitting 3 folds for each of 300 candidates, totalling 900 fits\n"
     ]
    }
   ],
   "source": [
    "n_estimators = [100, 300, 500]\n",
    "max_depth = [5, 8, 15, 25, 30]\n",
    "min_samples_split = [2, 5, 10, 15, 50]\n",
    "min_samples_leaf = [1, 2, 5, 10] \n",
    "\n",
    "hyperF = dict(n_estimators = n_estimators, max_depth = max_depth,  \n",
    "              min_samples_split = min_samples_split, \n",
    "             min_samples_leaf = min_samples_leaf)\n",
    "\n",
    "gridF = GridSearchCV(rf, hyperF, cv = 3, verbose = 1, \n",
    "                      n_jobs = -1)\n",
    "bestF = gridF.fit(X_train, y_train)"
   ]
  },
  {
   "cell_type": "code",
   "execution_count": 15,
   "id": "dimensional-concrete",
   "metadata": {},
   "outputs": [
    {
     "data": {
      "text/plain": [
       "0.6217668615362104"
      ]
     },
     "execution_count": 15,
     "metadata": {},
     "output_type": "execute_result"
    }
   ],
   "source": [
    "bestF.best_score_"
   ]
  },
  {
   "cell_type": "code",
   "execution_count": 16,
   "id": "anticipated-cancer",
   "metadata": {},
   "outputs": [
    {
     "data": {
      "text/plain": [
       "171"
      ]
     },
     "execution_count": 16,
     "metadata": {},
     "output_type": "execute_result"
    }
   ],
   "source": [
    "bestF.best_index_"
   ]
  },
  {
   "cell_type": "code",
   "execution_count": 17,
   "id": "postal-coaching",
   "metadata": {},
   "outputs": [
    {
     "data": {
      "text/plain": [
       "{'max_depth': 15,\n",
       " 'min_samples_leaf': 10,\n",
       " 'min_samples_split': 10,\n",
       " 'n_estimators': 100}"
      ]
     },
     "execution_count": 17,
     "metadata": {},
     "output_type": "execute_result"
    }
   ],
   "source": [
    "bestF.best_params_"
   ]
  },
  {
   "cell_type": "code",
   "execution_count": 18,
   "id": "scientific-slovakia",
   "metadata": {},
   "outputs": [],
   "source": [
    "forestOpt = RandomForestClassifier(random_state = 11, max_depth = 15, n_estimators = 100, min_samples_split = 10, min_samples_leaf = 10, n_jobs=-1)                             \n",
    "modelOpt = forestOpt.fit(X_train, y_train)\n",
    "y_pred = modelOpt.predict(X_test)"
   ]
  },
  {
   "cell_type": "code",
   "execution_count": 22,
   "id": "personalized-drunk",
   "metadata": {},
   "outputs": [
    {
     "data": {
      "text/plain": [
       "0.6253649647173062"
      ]
     },
     "execution_count": 22,
     "metadata": {},
     "output_type": "execute_result"
    }
   ],
   "source": [
    "recall_score(y_train, modelOpt.predict(X_train), average = 'weighted')"
   ]
  },
  {
   "cell_type": "code",
   "execution_count": 23,
   "id": "virgin-contractor",
   "metadata": {},
   "outputs": [
    {
     "data": {
      "image/png": "[encoded data removed]",
      "text/plain": [
       "<Figure size 432x288 with 2 Axes>"
      ]
     },
     "metadata": {
      "image/png": {
       "height": 261,
       "width": 310
      },
      "needs_background": "light"
     },
     "output_type": "display_data"
    }
   ],
   "source": [
    "plot_confusion_matrix(modelOpt, X_test, y_test, cmap = 'YlOrBr', normalize= 'true');"
   ]
  },
  {
   "cell_type": "markdown",
   "id": "known-animal",
   "metadata": {},
   "source": [
    "-----------"
   ]
  },
  {
   "cell_type": "code",
   "execution_count": null,
   "id": "honey-single",
   "metadata": {},
   "outputs": [],
   "source": [
    "# from sklearn.model_selection import RandomizedSearchCV\n",
    "# # Number of trees in random forest\n",
    "# n_estimators = [100, 150, 200, 250, 600, 650, 700, 750, 800, 850, 900, 950, 1000, 1050, 1100, 1150]\n",
    "# # Number of features to consider at every split\n",
    "# max_features = ['log2', 'sqrt']\n",
    "# # Maximum number of levels in tree\n",
    "# max_depth = [10, 12, 15, 20]\n",
    "# max_depth.append(None)\n",
    "\n",
    "# # Method of selecting samples for training each tree\n",
    "# bootstrap = [True, False]\n",
    "# # Create the random grid\n",
    "# random_grid = {'n_estimators': n_estimators,\n",
    "#                'max_features': max_features,\n",
    "#                'max_depth': max_depth,\n",
    "#                'bootstrap': bootstrap}\n"
   ]
  },
  {
   "cell_type": "code",
   "execution_count": null,
   "id": "median-ready",
   "metadata": {},
   "outputs": [],
   "source": []
  },
  {
   "cell_type": "code",
   "execution_count": null,
   "id": "creative-faculty",
   "metadata": {},
   "outputs": [],
   "source": []
  }
 ],
 "metadata": {
  "kernelspec": {
   "display_name": "Python 3",
   "language": "python",
   "name": "python3"
  },
  "language_info": {
   "codemirror_mode": {
    "name": "ipython",
    "version": 3
   },
   "file_extension": ".py",
   "mimetype": "text/x-python",
   "name": "python",
   "nbconvert_exporter": "python",
   "pygments_lexer": "ipython3",
   "version": "3.8.5"
  }
 },
 "nbformat": 4,
 "nbformat_minor": 5
}
