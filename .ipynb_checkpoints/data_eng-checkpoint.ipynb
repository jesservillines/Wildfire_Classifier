{
 "cells": [
  {
   "cell_type": "markdown",
   "metadata": {},
   "source": [
    "## Marta ---------------------------------------------------------"
   ]
  },
  {
   "cell_type": "code",
   "execution_count": 2,
   "metadata": {},
   "outputs": [],
   "source": [
    "import pandas as pd\n",
    "import numpy as np"
   ]
  },
  {
   "cell_type": "code",
   "execution_count": 19,
   "metadata": {},
   "outputs": [],
   "source": [
    "noaa_on_fire = pd.read_csv('./data/mfi_df_yr.csv')"
   ]
  },
  {
   "cell_type": "code",
   "execution_count": 20,
   "metadata": {},
   "outputs": [
    {
     "data": {
      "text/plain": [
       "Index(['stat_cause_descr', 'fire_size', 'fire_size_class', 'state',\n",
       "       'cont_date_fixed', 'disc_date_fixed', 'time_burnt', 'month', 'year',\n",
       "       'yearmonth', 'pcp', 'tavg', 'pdsi', 'phdi', 'zndx', 'pmdi', 'cdd',\n",
       "       'hdd', 'sp02', 'sp03', 'sp06', 'sp09', 'sp12', 'sp24', 'tmin', 'tmax'],\n",
       "      dtype='object')"
      ]
     },
     "execution_count": 20,
     "metadata": {},
     "output_type": "execute_result"
    }
   ],
   "source": [
    "noaa_on_fire.drop(columns = ['Unnamed: 0', 'time_burnt_fixed', 'fire_year', 'statecode', 'division'], inplace = True)\n",
    "noaa_on_fire.columns"
   ]
  },
  {
   "cell_type": "code",
   "execution_count": 22,
   "metadata": {},
   "outputs": [],
   "source": [
    "noaa_on_fire.sort_values('yearmonth', inplace = True)"
   ]
  },
  {
   "cell_type": "code",
   "execution_count": 40,
   "metadata": {},
   "outputs": [
    {
     "data": {
      "text/plain": [
       "[199204,\n",
       " 199205,\n",
       " 199206,\n",
       " 199207,\n",
       " 199208,\n",
       " 199209,\n",
       " 199210,\n",
       " 199211,\n",
       " 199212,\n",
       " 199301,\n",
       " 199302,\n",
       " 199303]"
      ]
     },
     "execution_count": 40,
     "metadata": {},
     "output_type": "execute_result"
    }
   ],
   "source": [
    "yrmth_sorted = list(noaa_on_fire['yearmonth'].unique())\n",
    "yrmth_sorted[(yrmth_sorted.index(199304) -12):yrmth_sorted.index(199304)]"
   ]
  },
  {
   "cell_type": "code",
   "execution_count": 46,
   "metadata": {},
   "outputs": [],
   "source": [
    "# tavg_t12m = []\n",
    "# for yrmth in yrmth_sorted[:12]:    \n",
    "#     tavg_t12m.append(np.nan)\n",
    "# for yrmth in yrmth_sorted[12:]:  \n",
    "#     tavg_t12m.append(noaa_on_fire[(noaa_on_fire['yearmonth'] >= yrmth_sorted[yrmth_sorted.index(yrmth) -12])&\n",
    "#                (noaa_on_fire['yearmonth'] <= yrmth_sorted[yrmth_sorted.index(yrmth)])]['tavg'].mean())"
   ]
  },
  {
   "cell_type": "markdown",
   "metadata": {},
   "source": [
    "Defining a function which takes in the number of months (X) and a variable available in the dataset and adds a new column for a trailing X months average of the specified variable:"
   ]
  },
  {
   "cell_type": "code",
   "execution_count": 63,
   "metadata": {},
   "outputs": [],
   "source": [
    "def trail_x_mth_avg(n_months, var_name):\n",
    "    temp_list = [] # this is an empty list to temporarily store trailing averages in the same order as yrmth_sorted\n",
    "    for yrmth in yrmth_sorted[:n_months]: \n",
    "        temp_list.append(np.nan) # the first n values can't be calculated\n",
    "    for yrmth in yrmth_sorted[n_months:]:  #below we average the values for each set of the n months after the first n:\n",
    "        temp_list.append(noaa_on_fire[(noaa_on_fire['yearmonth'] >= yrmth_sorted[yrmth_sorted.index(yrmth) - n_months])&\n",
    "                   (noaa_on_fire['yearmonth'] <= yrmth_sorted[yrmth_sorted.index(yrmth)])][var_name].mean())\n",
    "    noaa_on_fire[str(var_name)+'_t'+str(n_months)+'m'] = noaa_on_fire['yearmonth'].apply(lambda x: temp_list[yrmth_sorted.index(x)])\n",
    "    # last line adds this information to the dataset with a descriptive column name"
   ]
  },
  {
   "cell_type": "markdown",
   "metadata": {},
   "source": [
    "Applying the function to climate variables for 12, 9, 6 and 3 months trailing averages:"
   ]
  },
  {
   "cell_type": "code",
   "execution_count": 72,
   "metadata": {},
   "outputs": [],
   "source": [
    "variables = ['tavg','pcp', 'pmdi', 'pdsi']\n",
    "ns = [12, 9, 6, 3]\n",
    "\n",
    "for var in variables:\n",
    "    for n in ns:\n",
    "        trail_x_mth_avg(n, var)"
   ]
  },
  {
   "cell_type": "code",
   "execution_count": 75,
   "metadata": {},
   "outputs": [
    {
     "data": {
      "text/plain": [
       "Index(['stat_cause_descr', 'fire_size', 'fire_size_class', 'state',\n",
       "       'cont_date_fixed', 'disc_date_fixed', 'time_burnt', 'month', 'year',\n",
       "       'yearmonth', 'pcp', 'tavg', 'pdsi', 'phdi', 'zndx', 'pmdi', 'cdd',\n",
       "       'hdd', 'sp02', 'sp03', 'sp06', 'sp09', 'sp12', 'sp24', 'tmin', 'tmax',\n",
       "       'tavg_t12m', 'tavg_t9m', 'tavg_t6m', 'tavg_t3m', 'pcp_t12m', 'pcp_t9m',\n",
       "       'pcp_t6m', 'pcp_t3m', 'pmdi_t12m', 'pmdi_t9m', 'pmdi_t6m', 'pmdi_t3m',\n",
       "       'pdsi_t12m', 'pdsi_t9m', 'pdsi_t6m', 'pdsi_t3m'],\n",
       "      dtype='object')"
      ]
     },
     "execution_count": 75,
     "metadata": {},
     "output_type": "execute_result"
    }
   ],
   "source": [
    "noaa_on_fire.columns"
   ]
  },
  {
   "cell_type": "code",
   "execution_count": 77,
   "metadata": {},
   "outputs": [
    {
     "data": {
      "text/html": [
       "<div>\n",
       "<style scoped>\n",
       "    .dataframe tbody tr th:only-of-type {\n",
       "        vertical-align: middle;\n",
       "    }\n",
       "\n",
       "    .dataframe tbody tr th {\n",
       "        vertical-align: top;\n",
       "    }\n",
       "\n",
       "    .dataframe thead th {\n",
       "        text-align: right;\n",
       "    }\n",
       "</style>\n",
       "<table border=\"1\" class=\"dataframe\">\n",
       "  <thead>\n",
       "    <tr style=\"text-align: right;\">\n",
       "      <th></th>\n",
       "      <th>stat_cause_descr</th>\n",
       "      <th>fire_size</th>\n",
       "      <th>fire_size_class</th>\n",
       "      <th>state</th>\n",
       "      <th>cont_date_fixed</th>\n",
       "      <th>disc_date_fixed</th>\n",
       "      <th>time_burnt</th>\n",
       "      <th>month</th>\n",
       "      <th>year</th>\n",
       "      <th>yearmonth</th>\n",
       "      <th>...</th>\n",
       "      <th>pcp_t6m</th>\n",
       "      <th>pcp_t3m</th>\n",
       "      <th>pmdi_t12m</th>\n",
       "      <th>pmdi_t9m</th>\n",
       "      <th>pmdi_t6m</th>\n",
       "      <th>pmdi_t3m</th>\n",
       "      <th>pdsi_t12m</th>\n",
       "      <th>pdsi_t9m</th>\n",
       "      <th>pdsi_t6m</th>\n",
       "      <th>pdsi_t3m</th>\n",
       "    </tr>\n",
       "  </thead>\n",
       "  <tbody>\n",
       "    <tr>\n",
       "      <th>414626</th>\n",
       "      <td>Missing/Undefined</td>\n",
       "      <td>0.1</td>\n",
       "      <td>A</td>\n",
       "      <td>AZ</td>\n",
       "      <td>2015-12-22</td>\n",
       "      <td>2015-12-22</td>\n",
       "      <td>0.0</td>\n",
       "      <td>12</td>\n",
       "      <td>2015</td>\n",
       "      <td>201512</td>\n",
       "      <td>...</td>\n",
       "      <td>1.07885</td>\n",
       "      <td>1.332475</td>\n",
       "      <td>-2.68727</td>\n",
       "      <td>-2.726656</td>\n",
       "      <td>-2.689989</td>\n",
       "      <td>-2.380456</td>\n",
       "      <td>-2.529519</td>\n",
       "      <td>-2.540082</td>\n",
       "      <td>-2.51107</td>\n",
       "      <td>-2.215478</td>\n",
       "    </tr>\n",
       "    <tr>\n",
       "      <th>414625</th>\n",
       "      <td>Missing/Undefined</td>\n",
       "      <td>0.1</td>\n",
       "      <td>A</td>\n",
       "      <td>AZ</td>\n",
       "      <td>2015-12-21</td>\n",
       "      <td>2015-12-21</td>\n",
       "      <td>0.0</td>\n",
       "      <td>12</td>\n",
       "      <td>2015</td>\n",
       "      <td>201512</td>\n",
       "      <td>...</td>\n",
       "      <td>1.07885</td>\n",
       "      <td>1.332475</td>\n",
       "      <td>-2.68727</td>\n",
       "      <td>-2.726656</td>\n",
       "      <td>-2.689989</td>\n",
       "      <td>-2.380456</td>\n",
       "      <td>-2.529519</td>\n",
       "      <td>-2.540082</td>\n",
       "      <td>-2.51107</td>\n",
       "      <td>-2.215478</td>\n",
       "    </tr>\n",
       "    <tr>\n",
       "      <th>414624</th>\n",
       "      <td>Missing/Undefined</td>\n",
       "      <td>0.1</td>\n",
       "      <td>A</td>\n",
       "      <td>AZ</td>\n",
       "      <td>2015-12-21</td>\n",
       "      <td>2015-12-21</td>\n",
       "      <td>0.0</td>\n",
       "      <td>12</td>\n",
       "      <td>2015</td>\n",
       "      <td>201512</td>\n",
       "      <td>...</td>\n",
       "      <td>1.07885</td>\n",
       "      <td>1.332475</td>\n",
       "      <td>-2.68727</td>\n",
       "      <td>-2.726656</td>\n",
       "      <td>-2.689989</td>\n",
       "      <td>-2.380456</td>\n",
       "      <td>-2.529519</td>\n",
       "      <td>-2.540082</td>\n",
       "      <td>-2.51107</td>\n",
       "      <td>-2.215478</td>\n",
       "    </tr>\n",
       "    <tr>\n",
       "      <th>414637</th>\n",
       "      <td>Missing/Undefined</td>\n",
       "      <td>0.1</td>\n",
       "      <td>A</td>\n",
       "      <td>AZ</td>\n",
       "      <td>2015-12-25</td>\n",
       "      <td>2015-12-25</td>\n",
       "      <td>0.0</td>\n",
       "      <td>12</td>\n",
       "      <td>2015</td>\n",
       "      <td>201512</td>\n",
       "      <td>...</td>\n",
       "      <td>1.07885</td>\n",
       "      <td>1.332475</td>\n",
       "      <td>-2.68727</td>\n",
       "      <td>-2.726656</td>\n",
       "      <td>-2.689989</td>\n",
       "      <td>-2.380456</td>\n",
       "      <td>-2.529519</td>\n",
       "      <td>-2.540082</td>\n",
       "      <td>-2.51107</td>\n",
       "      <td>-2.215478</td>\n",
       "    </tr>\n",
       "    <tr>\n",
       "      <th>414639</th>\n",
       "      <td>Missing/Undefined</td>\n",
       "      <td>0.1</td>\n",
       "      <td>A</td>\n",
       "      <td>AZ</td>\n",
       "      <td>2015-12-25</td>\n",
       "      <td>2015-12-25</td>\n",
       "      <td>0.0</td>\n",
       "      <td>12</td>\n",
       "      <td>2015</td>\n",
       "      <td>201512</td>\n",
       "      <td>...</td>\n",
       "      <td>1.07885</td>\n",
       "      <td>1.332475</td>\n",
       "      <td>-2.68727</td>\n",
       "      <td>-2.726656</td>\n",
       "      <td>-2.689989</td>\n",
       "      <td>-2.380456</td>\n",
       "      <td>-2.529519</td>\n",
       "      <td>-2.540082</td>\n",
       "      <td>-2.51107</td>\n",
       "      <td>-2.215478</td>\n",
       "    </tr>\n",
       "  </tbody>\n",
       "</table>\n",
       "<p>5 rows × 42 columns</p>\n",
       "</div>"
      ],
      "text/plain": [
       "         stat_cause_descr  fire_size fire_size_class state cont_date_fixed  \\\n",
       "414626  Missing/Undefined        0.1               A    AZ      2015-12-22   \n",
       "414625  Missing/Undefined        0.1               A    AZ      2015-12-21   \n",
       "414624  Missing/Undefined        0.1               A    AZ      2015-12-21   \n",
       "414637  Missing/Undefined        0.1               A    AZ      2015-12-25   \n",
       "414639  Missing/Undefined        0.1               A    AZ      2015-12-25   \n",
       "\n",
       "       disc_date_fixed  time_burnt  month  year  yearmonth  ...  pcp_t6m  \\\n",
       "414626      2015-12-22         0.0     12  2015     201512  ...  1.07885   \n",
       "414625      2015-12-21         0.0     12  2015     201512  ...  1.07885   \n",
       "414624      2015-12-21         0.0     12  2015     201512  ...  1.07885   \n",
       "414637      2015-12-25         0.0     12  2015     201512  ...  1.07885   \n",
       "414639      2015-12-25         0.0     12  2015     201512  ...  1.07885   \n",
       "\n",
       "         pcp_t3m  pmdi_t12m  pmdi_t9m  pmdi_t6m  pmdi_t3m  pdsi_t12m  \\\n",
       "414626  1.332475   -2.68727 -2.726656 -2.689989 -2.380456  -2.529519   \n",
       "414625  1.332475   -2.68727 -2.726656 -2.689989 -2.380456  -2.529519   \n",
       "414624  1.332475   -2.68727 -2.726656 -2.689989 -2.380456  -2.529519   \n",
       "414637  1.332475   -2.68727 -2.726656 -2.689989 -2.380456  -2.529519   \n",
       "414639  1.332475   -2.68727 -2.726656 -2.689989 -2.380456  -2.529519   \n",
       "\n",
       "        pdsi_t9m  pdsi_t6m  pdsi_t3m  \n",
       "414626 -2.540082  -2.51107 -2.215478  \n",
       "414625 -2.540082  -2.51107 -2.215478  \n",
       "414624 -2.540082  -2.51107 -2.215478  \n",
       "414637 -2.540082  -2.51107 -2.215478  \n",
       "414639 -2.540082  -2.51107 -2.215478  \n",
       "\n",
       "[5 rows x 42 columns]"
      ]
     },
     "execution_count": 77,
     "metadata": {},
     "output_type": "execute_result"
    }
   ],
   "source": [
    "noaa_on_fire.tail()"
   ]
  },
  {
   "cell_type": "code",
   "execution_count": 79,
   "metadata": {},
   "outputs": [],
   "source": [
    "# this is massive with all rows! don't push this file!!!\n",
    "# noaa_on_fire.to_csv('./data/DONT_PUSH_mfi_df_yr_trail.csv')"
   ]
  },
  {
   "cell_type": "markdown",
   "metadata": {},
   "source": [
    "## Kira ---------------------------------------------------------"
   ]
  },
  {
   "cell_type": "code",
   "execution_count": 1,
   "metadata": {},
   "outputs": [],
   "source": [
    "# import boto3\n",
    "import boto3\n",
    "import io"
   ]
  },
  {
   "cell_type": "code",
   "execution_count": 2,
   "metadata": {},
   "outputs": [],
   "source": [
    "# Set S3 to use AWS s3\n",
    "s3 = boto3.resource('s3')"
   ]
  },
  {
   "cell_type": "code",
   "execution_count": 3,
   "metadata": {},
   "outputs": [
    {
     "ename": "SyntaxError",
     "evalue": "cannot assign to function call (<ipython-input-3-3f64ffcb2312>, line 2)",
     "output_type": "error",
     "traceback": [
      "\u001b[0;36m  File \u001b[0;32m\"<ipython-input-3-3f64ffcb2312>\"\u001b[0;36m, line \u001b[0;32m2\u001b[0m\n\u001b[0;31m    noaa_on_fire.to_csv('./data/DONT_PUSH_mfi_df_yr_trail.csv') = s3.upload_file(\u001b[0m\n\u001b[0m    ^\u001b[0m\n\u001b[0;31mSyntaxError\u001b[0m\u001b[0;31m:\u001b[0m cannot assign to function call\n"
     ]
    }
   ],
   "source": [
    "# - example:\n",
    " s3.upload_file(\n",
    "    'DONT_PUSH_mfi_df_yr_trail.csv', 'git-to-amazon-s3-outputbucket-rorni8oehk4l', 'soulclimberchick/meteorology-fire-impact/data-files/DONT_PUSH_mfi_df_yr_trail.csv',\n",
    ")"
   ]
  },
  {
   "cell_type": "code",
   "execution_count": null,
   "metadata": {},
   "outputs": [],
   "source": []
  },
  {
   "cell_type": "code",
   "execution_count": null,
   "metadata": {},
   "outputs": [],
   "source": []
  },
  {
   "cell_type": "markdown",
   "metadata": {},
   "source": [
    "## CM ---------------------------------------------------------"
   ]
  },
  {
   "cell_type": "code",
   "execution_count": null,
   "metadata": {},
   "outputs": [],
   "source": []
  },
  {
   "cell_type": "markdown",
   "metadata": {},
   "source": [
    "## Jesse ---------------------------------------------------------"
   ]
  },
  {
   "cell_type": "code",
   "execution_count": null,
   "metadata": {},
   "outputs": [],
   "source": []
  }
 ],
 "metadata": {
  "kernelspec": {
   "display_name": "Python 3",
   "language": "python",
   "name": "python3"
  },
  "language_info": {
   "codemirror_mode": {
    "name": "ipython",
    "version": 3
   },
   "file_extension": ".py",
   "mimetype": "text/x-python",
   "name": "python",
   "nbconvert_exporter": "python",
   "pygments_lexer": "ipython3",
   "version": "3.8.5"
  }
 },
 "nbformat": 4,
 "nbformat_minor": 4
}
