{
 "cells": [
  {
   "cell_type": "markdown",
   "metadata": {},
   "source": [
    "# Imports"
   ]
  },
  {
   "cell_type": "code",
   "execution_count": 1,
   "metadata": {},
   "outputs": [],
   "source": [
    "#from google.colab import drive \n",
    "import pandas as pd\n",
    "import numpy as np\n",
    "\n",
    "# standard imports\n",
    "import numpy as np\n",
    "import pandas as pd\n",
    "import matplotlib.pyplot as plt\n",
    "import seaborn as sns\n",
    "\n",
    "# modeling imports\n",
    "from sklearn.linear_model import LinearRegression, Ridge, RidgeCV, Lasso, LassoCV,ElasticNetCV, ElasticNet\n",
    "from sklearn.preprocessing import StandardScaler, PolynomialFeatures\n",
    "from sklearn.model_selection import train_test_split, cross_val_score, GridSearchCV\n",
    "from sklearn.pipeline import Pipeline\n",
    "from sklearn import metrics\n",
    "import statsmodels.api as sm\n",
    "\n",
    "#set_style\n",
    "plt.style.use('fivethirtyeight')\n",
    "\n",
    "%config InlineBackend.figure_format = 'retina'"
   ]
  },
  {
   "cell_type": "markdown",
   "metadata": {},
   "source": [
    "# Load data and prepare data"
   ]
  },
  {
   "cell_type": "markdown",
   "metadata": {},
   "source": [
    "### Load"
   ]
  },
  {
   "cell_type": "code",
   "execution_count": 2,
   "metadata": {},
   "outputs": [],
   "source": [
    "#drive.mount('/content/drive')"
   ]
  },
  {
   "cell_type": "code",
   "execution_count": 3,
   "metadata": {},
   "outputs": [],
   "source": [
    "#ls \"/content/drive/MyDrive/mfi_df_yr.csv\""
   ]
  },
  {
   "cell_type": "code",
   "execution_count": 10,
   "metadata": {},
   "outputs": [],
   "source": [
    "#model_df = pd.read_csv('/content/drive/MyDrive/mfi_df_yr.csv')\n",
    "\n",
    "model_df = pd.read_csv('./data/mfi_df_yr.csv')\n",
    "model_df.drop(columns='Unnamed: 0', inplace=True)"
   ]
  },
  {
   "cell_type": "code",
   "execution_count": 11,
   "metadata": {},
   "outputs": [
    {
     "data": {
      "text/html": [
       "<div>\n",
       "<style scoped>\n",
       "    .dataframe tbody tr th:only-of-type {\n",
       "        vertical-align: middle;\n",
       "    }\n",
       "\n",
       "    .dataframe tbody tr th {\n",
       "        vertical-align: top;\n",
       "    }\n",
       "\n",
       "    .dataframe thead th {\n",
       "        text-align: right;\n",
       "    }\n",
       "</style>\n",
       "<table border=\"1\" class=\"dataframe\">\n",
       "  <thead>\n",
       "    <tr style=\"text-align: right;\">\n",
       "      <th></th>\n",
       "      <th>fire_year</th>\n",
       "      <th>stat_cause_descr</th>\n",
       "      <th>fire_size</th>\n",
       "      <th>fire_size_class</th>\n",
       "      <th>state</th>\n",
       "      <th>cont_date_fixed</th>\n",
       "      <th>disc_date_fixed</th>\n",
       "      <th>time_burnt_fixed</th>\n",
       "      <th>time_burnt</th>\n",
       "      <th>month</th>\n",
       "      <th>...</th>\n",
       "      <th>cdd</th>\n",
       "      <th>hdd</th>\n",
       "      <th>sp02</th>\n",
       "      <th>sp03</th>\n",
       "      <th>sp06</th>\n",
       "      <th>sp09</th>\n",
       "      <th>sp12</th>\n",
       "      <th>sp24</th>\n",
       "      <th>tmin</th>\n",
       "      <th>tmax</th>\n",
       "    </tr>\n",
       "  </thead>\n",
       "  <tbody>\n",
       "    <tr>\n",
       "      <th>0</th>\n",
       "      <td>2005</td>\n",
       "      <td>Miscellaneous</td>\n",
       "      <td>0.10</td>\n",
       "      <td>A</td>\n",
       "      <td>CA</td>\n",
       "      <td>2005-02-02</td>\n",
       "      <td>2005-02-02</td>\n",
       "      <td>0 days 00:00:00.000000000</td>\n",
       "      <td>0.0</td>\n",
       "      <td>2</td>\n",
       "      <td>...</td>\n",
       "      <td>0</td>\n",
       "      <td>421</td>\n",
       "      <td>0.58</td>\n",
       "      <td>0.85</td>\n",
       "      <td>1.00</td>\n",
       "      <td>0.92</td>\n",
       "      <td>0.24</td>\n",
       "      <td>0.48</td>\n",
       "      <td>38.1</td>\n",
       "      <td>56.1</td>\n",
       "    </tr>\n",
       "    <tr>\n",
       "      <th>1</th>\n",
       "      <td>2004</td>\n",
       "      <td>Lightning</td>\n",
       "      <td>0.25</td>\n",
       "      <td>A</td>\n",
       "      <td>CA</td>\n",
       "      <td>2004-05-12</td>\n",
       "      <td>2004-05-12</td>\n",
       "      <td>0 days 00:00:00.000000000</td>\n",
       "      <td>0.0</td>\n",
       "      <td>5</td>\n",
       "      <td>...</td>\n",
       "      <td>56</td>\n",
       "      <td>126</td>\n",
       "      <td>-1.19</td>\n",
       "      <td>-1.86</td>\n",
       "      <td>-0.05</td>\n",
       "      <td>-0.32</td>\n",
       "      <td>-0.31</td>\n",
       "      <td>-0.04</td>\n",
       "      <td>49.2</td>\n",
       "      <td>77.2</td>\n",
       "    </tr>\n",
       "    <tr>\n",
       "      <th>2</th>\n",
       "      <td>2004</td>\n",
       "      <td>Debris Burning</td>\n",
       "      <td>0.10</td>\n",
       "      <td>A</td>\n",
       "      <td>CA</td>\n",
       "      <td>2004-05-31</td>\n",
       "      <td>2004-05-31</td>\n",
       "      <td>0 days 00:00:00.000000000</td>\n",
       "      <td>0.0</td>\n",
       "      <td>5</td>\n",
       "      <td>...</td>\n",
       "      <td>56</td>\n",
       "      <td>126</td>\n",
       "      <td>-1.19</td>\n",
       "      <td>-1.86</td>\n",
       "      <td>-0.05</td>\n",
       "      <td>-0.32</td>\n",
       "      <td>-0.31</td>\n",
       "      <td>-0.04</td>\n",
       "      <td>49.2</td>\n",
       "      <td>77.2</td>\n",
       "    </tr>\n",
       "  </tbody>\n",
       "</table>\n",
       "<p>3 rows × 30 columns</p>\n",
       "</div>"
      ],
      "text/plain": [
       "   fire_year stat_cause_descr  fire_size fire_size_class state  \\\n",
       "0       2005    Miscellaneous       0.10               A    CA   \n",
       "1       2004        Lightning       0.25               A    CA   \n",
       "2       2004   Debris Burning       0.10               A    CA   \n",
       "\n",
       "  cont_date_fixed disc_date_fixed           time_burnt_fixed  time_burnt  \\\n",
       "0      2005-02-02      2005-02-02  0 days 00:00:00.000000000         0.0   \n",
       "1      2004-05-12      2004-05-12  0 days 00:00:00.000000000         0.0   \n",
       "2      2004-05-31      2004-05-31  0 days 00:00:00.000000000         0.0   \n",
       "\n",
       "   month  ...  cdd  hdd  sp02  sp03  sp06  sp09  sp12  sp24  tmin  tmax  \n",
       "0      2  ...    0  421  0.58  0.85  1.00  0.92  0.24  0.48  38.1  56.1  \n",
       "1      5  ...   56  126 -1.19 -1.86 -0.05 -0.32 -0.31 -0.04  49.2  77.2  \n",
       "2      5  ...   56  126 -1.19 -1.86 -0.05 -0.32 -0.31 -0.04  49.2  77.2  \n",
       "\n",
       "[3 rows x 30 columns]"
      ]
     },
     "execution_count": 11,
     "metadata": {},
     "output_type": "execute_result"
    }
   ],
   "source": [
    "model_df.head(3)"
   ]
  },
  {
   "cell_type": "code",
   "execution_count": 12,
   "metadata": {},
   "outputs": [],
   "source": [
    "#explore model_df['month] as a one hot encode feature"
   ]
  },
  {
   "cell_type": "code",
   "execution_count": 13,
   "metadata": {},
   "outputs": [],
   "source": [
    "model_df = pd.get_dummies(model_df, columns=['month'], drop_first=True) # in relation to January"
   ]
  },
  {
   "cell_type": "code",
   "execution_count": 14,
   "metadata": {},
   "outputs": [],
   "source": [
    "#explore model_df['statecode] as a one hot encode feature"
   ]
  },
  {
   "cell_type": "code",
   "execution_count": 15,
   "metadata": {},
   "outputs": [
    {
     "data": {
      "text/plain": [
       "array([  4,  29,  35, 110,   5,  45,  24,   2,  26,  10], dtype=int64)"
      ]
     },
     "execution_count": 15,
     "metadata": {},
     "output_type": "execute_result"
    }
   ],
   "source": [
    "model_df['statecode'].unique()"
   ]
  },
  {
   "cell_type": "code",
   "execution_count": 16,
   "metadata": {},
   "outputs": [],
   "source": [
    "model_df = pd.get_dummies(model_df, columns=['statecode'], drop_first=True)"
   ]
  },
  {
   "cell_type": "markdown",
   "metadata": {},
   "source": [
    "## Prepare"
   ]
  },
  {
   "cell_type": "markdown",
   "metadata": {},
   "source": [
    "### Normal"
   ]
  },
  {
   "cell_type": "code",
   "execution_count": 32,
   "metadata": {},
   "outputs": [
    {
     "data": {
      "text/plain": [
       "Index(['fire_year', 'stat_cause_descr', 'fire_size', 'fire_size_class',\n",
       "       'state', 'cont_date_fixed', 'disc_date_fixed', 'time_burnt_fixed',\n",
       "       'time_burnt', 'year', 'division', 'yearmonth', 'pcp', 'tavg', 'pdsi',\n",
       "       'phdi', 'zndx', 'pmdi', 'cdd', 'hdd', 'sp02', 'sp03', 'sp06', 'sp09',\n",
       "       'sp12', 'sp24', 'tmin', 'tmax', 'month_2', 'month_3', 'month_4',\n",
       "       'month_5', 'month_6', 'month_7', 'month_8', 'month_9', 'month_10',\n",
       "       'month_11', 'month_12', 'statecode_4', 'statecode_5', 'statecode_10',\n",
       "       'statecode_24', 'statecode_26', 'statecode_29', 'statecode_35',\n",
       "       'statecode_45', 'statecode_110', 'fire_size_log', 'fire_size_log1',\n",
       "       'fire_size_log1_norm', 'fire_size_cubert', 'fire_size_logmax',\n",
       "       'fire_size_log_to_norm'],\n",
       "      dtype='object')"
      ]
     },
     "execution_count": 32,
     "metadata": {},
     "output_type": "execute_result"
    }
   ],
   "source": [
    "model_df.columns"
   ]
  },
  {
   "cell_type": "code",
   "execution_count": 33,
   "metadata": {},
   "outputs": [],
   "source": [
    "#create X and y variables\n",
    "X = model_df[[ 'pcp', 'tavg', 'pdsi', 'phdi', 'zndx', 'pmdi', 'sp02',\n",
    "       'sp03', 'sp06', 'sp09', 'sp12', 'sp24', 'tmin', 'tmax', 'month_2', 'month_3',\n",
    "       'month_4', 'month_5', 'month_6', 'month_7', 'month_8', 'month_9',\n",
    "       'month_10', 'month_11', 'month_12','statecode_4', 'statecode_5', 'statecode_10',\n",
    "       'statecode_24', 'statecode_26', 'statecode_29', 'statecode_35',\n",
    "       'statecode_45', 'statecode_110']]\n",
    "y = model_df[['fire_size']]\n",
    "\n",
    "assert len(X) == len(y)"
   ]
  },
  {
   "cell_type": "code",
   "execution_count": 34,
   "metadata": {},
   "outputs": [],
   "source": [
    "#split into training and test groups\n",
    "X_train, X_test, y_train, y_test = train_test_split(X, y, random_state = 42, test_size=.2, train_size = .8)"
   ]
  },
  {
   "cell_type": "markdown",
   "metadata": {},
   "source": [
    "### Log Transform"
   ]
  },
  {
   "cell_type": "code",
   "execution_count": 21,
   "metadata": {},
   "outputs": [],
   "source": [
    "#try a log on it\n",
    "model_df['fire_size_log'] = np.log(model_df['fire_size'])\n",
    "\n",
    "#log +1\n",
    "model_df['fire_size_log1'] = np.log(model_df['fire_size']+1)\n",
    "\n",
    "#log +1 normalized\n",
    "\n",
    "#normalize function\n",
    "def normalize(column):\n",
    "    upper = column.max()\n",
    "    lower = column.min()\n",
    "    y = (column - lower)/(upper-lower)\n",
    "    return y\n",
    "\n",
    "model_df['fire_size_log1_norm'] = normalize(model_df['fire_size_log1'])\n",
    "\n",
    "#cube root\n",
    "model_df['fire_size_cubert'] = (model_df['fire_size']**(1/3))\n",
    "\n",
    "#log max root\n",
    "log_max = np.log(model_df['fire_size'].max())\n",
    "model_df['fire_size_logmax'] = model_df['fire_size']**(1/log_max)"
   ]
  },
  {
   "cell_type": "code",
   "execution_count": 22,
   "metadata": {},
   "outputs": [
    {
     "data": {
      "text/html": [
       "<div>\n",
       "<style scoped>\n",
       "    .dataframe tbody tr th:only-of-type {\n",
       "        vertical-align: middle;\n",
       "    }\n",
       "\n",
       "    .dataframe tbody tr th {\n",
       "        vertical-align: top;\n",
       "    }\n",
       "\n",
       "    .dataframe thead th {\n",
       "        text-align: right;\n",
       "    }\n",
       "</style>\n",
       "<table border=\"1\" class=\"dataframe\">\n",
       "  <thead>\n",
       "    <tr style=\"text-align: right;\">\n",
       "      <th></th>\n",
       "      <th>fire_size_log</th>\n",
       "      <th>fire_size_log_to_norm</th>\n",
       "      <th>fire_size</th>\n",
       "    </tr>\n",
       "  </thead>\n",
       "  <tbody>\n",
       "    <tr>\n",
       "      <th>0</th>\n",
       "      <td>-2.302585</td>\n",
       "      <td>0.10</td>\n",
       "      <td>0.10</td>\n",
       "    </tr>\n",
       "    <tr>\n",
       "      <th>1</th>\n",
       "      <td>-1.386294</td>\n",
       "      <td>0.25</td>\n",
       "      <td>0.25</td>\n",
       "    </tr>\n",
       "    <tr>\n",
       "      <th>2</th>\n",
       "      <td>-2.302585</td>\n",
       "      <td>0.10</td>\n",
       "      <td>0.10</td>\n",
       "    </tr>\n",
       "    <tr>\n",
       "      <th>3</th>\n",
       "      <td>-2.302585</td>\n",
       "      <td>0.10</td>\n",
       "      <td>0.10</td>\n",
       "    </tr>\n",
       "    <tr>\n",
       "      <th>4</th>\n",
       "      <td>-2.302585</td>\n",
       "      <td>0.10</td>\n",
       "      <td>0.10</td>\n",
       "    </tr>\n",
       "    <tr>\n",
       "      <th>...</th>\n",
       "      <td>...</td>\n",
       "      <td>...</td>\n",
       "      <td>...</td>\n",
       "    </tr>\n",
       "    <tr>\n",
       "      <th>420162</th>\n",
       "      <td>0.797507</td>\n",
       "      <td>2.22</td>\n",
       "      <td>2.22</td>\n",
       "    </tr>\n",
       "    <tr>\n",
       "      <th>420163</th>\n",
       "      <td>0.000000</td>\n",
       "      <td>1.00</td>\n",
       "      <td>1.00</td>\n",
       "    </tr>\n",
       "    <tr>\n",
       "      <th>420164</th>\n",
       "      <td>1.386294</td>\n",
       "      <td>4.00</td>\n",
       "      <td>4.00</td>\n",
       "    </tr>\n",
       "    <tr>\n",
       "      <th>420165</th>\n",
       "      <td>-0.693147</td>\n",
       "      <td>0.50</td>\n",
       "      <td>0.50</td>\n",
       "    </tr>\n",
       "    <tr>\n",
       "      <th>420166</th>\n",
       "      <td>-4.605170</td>\n",
       "      <td>0.01</td>\n",
       "      <td>0.01</td>\n",
       "    </tr>\n",
       "  </tbody>\n",
       "</table>\n",
       "<p>420167 rows × 3 columns</p>\n",
       "</div>"
      ],
      "text/plain": [
       "        fire_size_log  fire_size_log_to_norm  fire_size\n",
       "0           -2.302585                   0.10       0.10\n",
       "1           -1.386294                   0.25       0.25\n",
       "2           -2.302585                   0.10       0.10\n",
       "3           -2.302585                   0.10       0.10\n",
       "4           -2.302585                   0.10       0.10\n",
       "...               ...                    ...        ...\n",
       "420162       0.797507                   2.22       2.22\n",
       "420163       0.000000                   1.00       1.00\n",
       "420164       1.386294                   4.00       4.00\n",
       "420165      -0.693147                   0.50       0.50\n",
       "420166      -4.605170                   0.01       0.01\n",
       "\n",
       "[420167 rows x 3 columns]"
      ]
     },
     "execution_count": 22,
     "metadata": {},
     "output_type": "execute_result"
    }
   ],
   "source": [
    "#taking the inverse of function of log(price) to convert log(price) back to fire_size\n",
    "model_df['fire_size_log_to_norm'] = np.exp(model_df['fire_size_log'])\n",
    "model_df[['fire_size_log', 'fire_size_log_to_norm','fire_size']]"
   ]
  },
  {
   "cell_type": "markdown",
   "metadata": {},
   "source": [
    "A visual look of effect of the transformations on distribution. Log transform gives the closest apperance to a normal distribution. Let's see how it compares when modeled."
   ]
  },
  {
   "cell_type": "code",
   "execution_count": 23,
   "metadata": {},
   "outputs": [
    {
     "data": {
      "image/png": "[encoded data removed]",
      "text/plain": [
       "<Figure size 432x288 with 1 Axes>"
      ]
     },
     "metadata": {
      "image/png": {
       "height": 265,
       "width": 447
      }
     },
     "output_type": "display_data"
    }
   ],
   "source": [
    "# No transformation\n",
    "model_df['fire_size'].hist();"
   ]
  },
  {
   "cell_type": "code",
   "execution_count": 24,
   "metadata": {},
   "outputs": [
    {
     "data": {
      "image/png": "[encoded data removed]",
      "text/plain": [
       "<Figure size 432x288 with 1 Axes>"
      ]
     },
     "metadata": {
      "image/png": {
       "height": 265,
       "width": 447
      }
     },
     "output_type": "display_data"
    }
   ],
   "source": [
    "# Log Transform\n",
    "model_df['fire_size_log'].hist();"
   ]
  },
  {
   "cell_type": "code",
   "execution_count": 25,
   "metadata": {},
   "outputs": [
    {
     "data": {
      "image/png": "[encoded data removed]",
      "text/plain": [
       "<Figure size 432x288 with 1 Axes>"
      ]
     },
     "metadata": {
      "image/png": {
       "height": 265,
       "width": 447
      }
     },
     "output_type": "display_data"
    }
   ],
   "source": [
    "# Log +1\n",
    "model_df['fire_size_log1'].hist();"
   ]
  },
  {
   "cell_type": "code",
   "execution_count": 26,
   "metadata": {},
   "outputs": [
    {
     "data": {
      "image/png": "[encoded data removed]",
      "text/plain": [
       "<Figure size 432x288 with 1 Axes>"
      ]
     },
     "metadata": {
      "image/png": {
       "height": 265,
       "width": 447
      }
     },
     "output_type": "display_data"
    }
   ],
   "source": [
    "# Log 1 normalized\n",
    "model_df['fire_size_log1_norm'].hist();"
   ]
  },
  {
   "cell_type": "code",
   "execution_count": 27,
   "metadata": {},
   "outputs": [
    {
     "data": {
      "image/png": "[encoded data removed]",
      "text/plain": [
       "<Figure size 432x288 with 1 Axes>"
      ]
     },
     "metadata": {
      "image/png": {
       "height": 265,
       "width": 447
      }
     },
     "output_type": "display_data"
    }
   ],
   "source": [
    "#cube root\n",
    "model_df['fire_size_cubert'].hist();"
   ]
  },
  {
   "cell_type": "code",
   "execution_count": 28,
   "metadata": {},
   "outputs": [
    {
     "data": {
      "image/png": "[encoded data removed]",
      "text/plain": [
       "<Figure size 432x288 with 1 Axes>"
      ]
     },
     "metadata": {
      "image/png": {
       "height": 265,
       "width": 447
      }
     },
     "output_type": "display_data"
    }
   ],
   "source": [
    "# log max\n",
    "model_df['fire_size_logmax'].hist();"
   ]
  },
  {
   "cell_type": "markdown",
   "metadata": {},
   "source": [
    "Prepare log normal modeling data."
   ]
  },
  {
   "cell_type": "code",
   "execution_count": 29,
   "metadata": {},
   "outputs": [],
   "source": [
    "#create X and y variables\n",
    "X_log = model_df[[ 'pcp', 'tavg', 'pdsi', 'phdi', 'zndx', 'pmdi', 'sp02',\n",
    "       'sp03', 'sp06', 'sp09', 'sp12', 'sp24', 'tmin', 'tmax', 'month_2', 'month_3',\n",
    "       'month_4', 'month_5', 'month_6', 'month_7', 'month_8', 'month_9',\n",
    "       'month_10', 'month_11', 'month_12','statecode_4', 'statecode_5', 'statecode_10',\n",
    "       'statecode_24', 'statecode_26', 'statecode_29', 'statecode_35',\n",
    "       'statecode_45', 'statecode_110']]\n",
    "y_log = model_df[['fire_size_log']]\n",
    "\n",
    "assert len(X_log) == len(y_log)"
   ]
  },
  {
   "cell_type": "code",
   "execution_count": 30,
   "metadata": {},
   "outputs": [],
   "source": [
    "#split into training and test groups\n",
    "X_train_log, X_test_log, y_train_log, y_test_log = train_test_split(X_log, y_log, random_state = 42, test_size=.2, train_size = .8)"
   ]
  },
  {
   "cell_type": "markdown",
   "metadata": {},
   "source": [
    "# Models"
   ]
  },
  {
   "cell_type": "markdown",
   "metadata": {},
   "source": [
    "## Model #1 -- OLS, not scaled. As baseline for regression."
   ]
  },
  {
   "cell_type": "markdown",
   "metadata": {},
   "source": [
    "### Normal"
   ]
  },
  {
   "cell_type": "code",
   "execution_count": 35,
   "metadata": {},
   "outputs": [
    {
     "name": "stdout",
     "output_type": "stream",
     "text": [
      " Unscaled Linear Regression training R^2 score: 0.0018\n",
      " Unscaled Linear Regression test R^2 score: 0.0026\n"
     ]
    }
   ],
   "source": [
    "#Instantiate, fit and score \n",
    "lr = LinearRegression()\n",
    "lr.fit(X=X_train, y=y_train)\n",
    "print(f' Unscaled Linear Regression training R^2 score: {round(lr.score(X=X_train, y=y_train),4)}')\n",
    "print(f' Unscaled Linear Regression test R^2 score: {round(lr.score(X_test, y_test),4)}')"
   ]
  },
  {
   "cell_type": "markdown",
   "metadata": {},
   "source": [
    "### Log Transform"
   ]
  },
  {
   "cell_type": "code",
   "execution_count": 36,
   "metadata": {},
   "outputs": [
    {
     "name": "stdout",
     "output_type": "stream",
     "text": [
      " Unscaled Linear Regression training R^2 score: 0.042\n",
      " Unscaled Linear Regression test R^2 score: 0.04\n"
     ]
    }
   ],
   "source": [
    "#Instantiate, fit and score \n",
    "lr_log = LinearRegression()\n",
    "lr_log.fit(X=X_train_log, y=y_train_log)\n",
    "print(f' Unscaled Linear Regression training R^2 score: {round(lr_log.score(X=X_train_log, y=y_train_log),4)}')\n",
    "print(f' Unscaled Linear Regression test R^2 score: {round(lr_log.score(X_test_log, y_test_log),4)}')"
   ]
  },
  {
   "cell_type": "markdown",
   "metadata": {},
   "source": [
    "The log transform of the target gives the model a noticeable improvement. I will move forward with evaluation with the log transform fire size as target."
   ]
  },
  {
   "cell_type": "markdown",
   "metadata": {},
   "source": [
    "### Model #2, Statsmodel for stastical significance testing"
   ]
  },
  {
   "cell_type": "markdown",
   "metadata": {},
   "source": [
    "#### Normal"
   ]
  },
  {
   "cell_type": "code",
   "execution_count": 37,
   "metadata": {},
   "outputs": [],
   "source": [
    "#fit model\n",
    "X = sm.add_constant(X)\n",
    "ols = sm.OLS(y, X).fit()"
   ]
  },
  {
   "cell_type": "code",
   "execution_count": 38,
   "metadata": {},
   "outputs": [
    {
     "data": {
      "text/html": [
       "<table class=\"simpletable\">\n",
       "<caption>OLS Regression Results</caption>\n",
       "<tr>\n",
       "  <th>Dep. Variable:</th>        <td>fire_size</td>    <th>  R-squared:         </th>  <td>   0.002</td>  \n",
       "</tr>\n",
       "<tr>\n",
       "  <th>Model:</th>                   <td>OLS</td>       <th>  Adj. R-squared:    </th>  <td>   0.002</td>  \n",
       "</tr>\n",
       "<tr>\n",
       "  <th>Method:</th>             <td>Least Squares</td>  <th>  F-statistic:       </th>  <td>   23.90</td>  \n",
       "</tr>\n",
       "<tr>\n",
       "  <th>Date:</th>             <td>Thu, 21 Jan 2021</td> <th>  Prob (F-statistic):</th>  <td>1.48e-148</td> \n",
       "</tr>\n",
       "<tr>\n",
       "  <th>Time:</th>                 <td>23:28:59</td>     <th>  Log-Likelihood:    </th> <td>-4.0320e+06</td>\n",
       "</tr>\n",
       "<tr>\n",
       "  <th>No. Observations:</th>      <td>420167</td>      <th>  AIC:               </th>  <td>8.064e+06</td> \n",
       "</tr>\n",
       "<tr>\n",
       "  <th>Df Residuals:</th>          <td>420132</td>      <th>  BIC:               </th>  <td>8.064e+06</td> \n",
       "</tr>\n",
       "<tr>\n",
       "  <th>Df Model:</th>              <td>    34</td>      <th>                     </th>      <td> </td>     \n",
       "</tr>\n",
       "<tr>\n",
       "  <th>Covariance Type:</th>      <td>nonrobust</td>    <th>                     </th>      <td> </td>     \n",
       "</tr>\n",
       "</table>\n",
       "<table class=\"simpletable\">\n",
       "<tr>\n",
       "        <td></td>           <th>coef</th>     <th>std err</th>      <th>t</th>      <th>P>|t|</th>  <th>[0.025</th>    <th>0.975]</th>  \n",
       "</tr>\n",
       "<tr>\n",
       "  <th>const</th>         <td>-1148.7756</td> <td>  144.490</td> <td>   -7.951</td> <td> 0.000</td> <td>-1431.971</td> <td> -865.580</td>\n",
       "</tr>\n",
       "<tr>\n",
       "  <th>pcp</th>           <td>    0.0918</td> <td>   13.684</td> <td>    0.007</td> <td> 0.995</td> <td>  -26.728</td> <td>   26.912</td>\n",
       "</tr>\n",
       "<tr>\n",
       "  <th>tavg</th>          <td> -200.5122</td> <td>  158.368</td> <td>   -1.266</td> <td> 0.205</td> <td> -510.909</td> <td>  109.885</td>\n",
       "</tr>\n",
       "<tr>\n",
       "  <th>pdsi</th>          <td>   -8.0644</td> <td>    6.271</td> <td>   -1.286</td> <td> 0.198</td> <td>  -20.356</td> <td>    4.227</td>\n",
       "</tr>\n",
       "<tr>\n",
       "  <th>phdi</th>          <td>   -9.9310</td> <td>   11.415</td> <td>   -0.870</td> <td> 0.384</td> <td>  -32.305</td> <td>   12.443</td>\n",
       "</tr>\n",
       "<tr>\n",
       "  <th>zndx</th>          <td>    6.3094</td> <td>    7.182</td> <td>    0.879</td> <td> 0.380</td> <td>   -7.767</td> <td>   20.386</td>\n",
       "</tr>\n",
       "<tr>\n",
       "  <th>pmdi</th>          <td>    1.4979</td> <td>   13.791</td> <td>    0.109</td> <td> 0.914</td> <td>  -25.532</td> <td>   28.528</td>\n",
       "</tr>\n",
       "<tr>\n",
       "  <th>sp02</th>          <td>   19.0468</td> <td>   11.001</td> <td>    1.731</td> <td> 0.083</td> <td>   -2.514</td> <td>   40.608</td>\n",
       "</tr>\n",
       "<tr>\n",
       "  <th>sp03</th>          <td>  -44.3372</td> <td>   11.066</td> <td>   -4.006</td> <td> 0.000</td> <td>  -66.027</td> <td>  -22.647</td>\n",
       "</tr>\n",
       "<tr>\n",
       "  <th>sp06</th>          <td>   27.8621</td> <td>   10.039</td> <td>    2.776</td> <td> 0.006</td> <td>    8.187</td> <td>   47.537</td>\n",
       "</tr>\n",
       "<tr>\n",
       "  <th>sp09</th>          <td>  -43.2934</td> <td>   14.354</td> <td>   -3.016</td> <td> 0.003</td> <td>  -71.428</td> <td>  -15.159</td>\n",
       "</tr>\n",
       "<tr>\n",
       "  <th>sp12</th>          <td>   19.0311</td> <td>   14.196</td> <td>    1.341</td> <td> 0.180</td> <td>   -8.793</td> <td>   46.856</td>\n",
       "</tr>\n",
       "<tr>\n",
       "  <th>sp24</th>          <td>   53.5152</td> <td>    8.013</td> <td>    6.678</td> <td> 0.000</td> <td>   37.809</td> <td>   69.221</td>\n",
       "</tr>\n",
       "<tr>\n",
       "  <th>tmin</th>          <td>   78.5422</td> <td>   79.370</td> <td>    0.990</td> <td> 0.322</td> <td>  -77.021</td> <td>  234.105</td>\n",
       "</tr>\n",
       "<tr>\n",
       "  <th>tmax</th>          <td>  131.6724</td> <td>   79.316</td> <td>    1.660</td> <td> 0.097</td> <td>  -23.786</td> <td>  287.130</td>\n",
       "</tr>\n",
       "<tr>\n",
       "  <th>month_2</th>       <td>  -19.3797</td> <td>   76.616</td> <td>   -0.253</td> <td> 0.800</td> <td> -169.545</td> <td>  130.785</td>\n",
       "</tr>\n",
       "<tr>\n",
       "  <th>month_3</th>       <td> -127.7641</td> <td>   68.550</td> <td>   -1.864</td> <td> 0.062</td> <td> -262.120</td> <td>    6.592</td>\n",
       "</tr>\n",
       "<tr>\n",
       "  <th>month_4</th>       <td> -184.4550</td> <td>   71.979</td> <td>   -2.563</td> <td> 0.010</td> <td> -325.532</td> <td>  -43.378</td>\n",
       "</tr>\n",
       "<tr>\n",
       "  <th>month_5</th>       <td> -259.9506</td> <td>   84.497</td> <td>   -3.076</td> <td> 0.002</td> <td> -425.561</td> <td>  -94.340</td>\n",
       "</tr>\n",
       "<tr>\n",
       "  <th>month_6</th>       <td> -297.2039</td> <td>  100.547</td> <td>   -2.956</td> <td> 0.003</td> <td> -494.273</td> <td> -100.134</td>\n",
       "</tr>\n",
       "<tr>\n",
       "  <th>month_7</th>       <td> -351.0286</td> <td>  114.260</td> <td>   -3.072</td> <td> 0.002</td> <td> -574.974</td> <td> -127.083</td>\n",
       "</tr>\n",
       "<tr>\n",
       "  <th>month_8</th>       <td> -329.3656</td> <td>  110.690</td> <td>   -2.976</td> <td> 0.003</td> <td> -546.314</td> <td> -112.417</td>\n",
       "</tr>\n",
       "<tr>\n",
       "  <th>month_9</th>       <td> -384.5110</td> <td>   96.640</td> <td>   -3.979</td> <td> 0.000</td> <td> -573.922</td> <td> -195.100</td>\n",
       "</tr>\n",
       "<tr>\n",
       "  <th>month_10</th>      <td> -154.0155</td> <td>   78.292</td> <td>   -1.967</td> <td> 0.049</td> <td> -307.465</td> <td>   -0.566</td>\n",
       "</tr>\n",
       "<tr>\n",
       "  <th>month_11</th>      <td>  -56.3300</td> <td>   71.962</td> <td>   -0.783</td> <td> 0.434</td> <td> -197.374</td> <td>   84.714</td>\n",
       "</tr>\n",
       "<tr>\n",
       "  <th>month_12</th>      <td>   42.7791</td> <td>   84.074</td> <td>    0.509</td> <td> 0.611</td> <td> -122.004</td> <td>  207.562</td>\n",
       "</tr>\n",
       "<tr>\n",
       "  <th>statecode_4</th>   <td>  124.6356</td> <td>   21.551</td> <td>    5.783</td> <td> 0.000</td> <td>   82.397</td> <td>  166.874</td>\n",
       "</tr>\n",
       "<tr>\n",
       "  <th>statecode_5</th>   <td>  105.2438</td> <td>   50.706</td> <td>    2.076</td> <td> 0.038</td> <td>    5.861</td> <td>  204.627</td>\n",
       "</tr>\n",
       "<tr>\n",
       "  <th>statecode_10</th>  <td>  476.8455</td> <td>   52.327</td> <td>    9.113</td> <td> 0.000</td> <td>  374.287</td> <td>  579.404</td>\n",
       "</tr>\n",
       "<tr>\n",
       "  <th>statecode_24</th>  <td>  234.2948</td> <td>   51.112</td> <td>    4.584</td> <td> 0.000</td> <td>  134.117</td> <td>  334.473</td>\n",
       "</tr>\n",
       "<tr>\n",
       "  <th>statecode_26</th>  <td>  475.9101</td> <td>   40.090</td> <td>   11.871</td> <td> 0.000</td> <td>  397.335</td> <td>  554.485</td>\n",
       "</tr>\n",
       "<tr>\n",
       "  <th>statecode_29</th>  <td>  113.1098</td> <td>   33.943</td> <td>    3.332</td> <td> 0.001</td> <td>   46.583</td> <td>  179.636</td>\n",
       "</tr>\n",
       "<tr>\n",
       "  <th>statecode_35</th>  <td>  203.0815</td> <td>   45.483</td> <td>    4.465</td> <td> 0.000</td> <td>  113.937</td> <td>  292.226</td>\n",
       "</tr>\n",
       "<tr>\n",
       "  <th>statecode_45</th>  <td>  393.5436</td> <td>   47.675</td> <td>    8.255</td> <td> 0.000</td> <td>  300.103</td> <td>  486.984</td>\n",
       "</tr>\n",
       "<tr>\n",
       "  <th>statecode_110</th> <td>  286.9228</td> <td>   42.581</td> <td>    6.738</td> <td> 0.000</td> <td>  203.464</td> <td>  370.381</td>\n",
       "</tr>\n",
       "</table>\n",
       "<table class=\"simpletable\">\n",
       "<tr>\n",
       "  <th>Omnibus:</th>       <td>1463531.430</td> <th>  Durbin-Watson:     </th>     <td>   1.945</td>    \n",
       "</tr>\n",
       "<tr>\n",
       "  <th>Prob(Omnibus):</th>   <td> 0.000</td>    <th>  Jarque-Bera (JB):  </th> <td>790684145788.931</td>\n",
       "</tr>\n",
       "<tr>\n",
       "  <th>Skew:</th>            <td>67.060</td>    <th>  Prob(JB):          </th>     <td>    0.00</td>    \n",
       "</tr>\n",
       "<tr>\n",
       "  <th>Kurtosis:</th>       <td>6722.078</td>   <th>  Cond. No.          </th>     <td>5.87e+03</td>    \n",
       "</tr>\n",
       "</table><br/><br/>Notes:<br/>[1] Standard Errors assume that the covariance matrix of the errors is correctly specified.<br/>[2] The condition number is large, 5.87e+03. This might indicate that there are<br/>strong multicollinearity or other numerical problems."
      ],
      "text/plain": [
       "<class 'statsmodels.iolib.summary.Summary'>\n",
       "\"\"\"\n",
       "                            OLS Regression Results                            \n",
       "==============================================================================\n",
       "Dep. Variable:              fire_size   R-squared:                       0.002\n",
       "Model:                            OLS   Adj. R-squared:                  0.002\n",
       "Method:                 Least Squares   F-statistic:                     23.90\n",
       "Date:                Thu, 21 Jan 2021   Prob (F-statistic):          1.48e-148\n",
       "Time:                        23:28:59   Log-Likelihood:            -4.0320e+06\n",
       "No. Observations:              420167   AIC:                         8.064e+06\n",
       "Df Residuals:                  420132   BIC:                         8.064e+06\n",
       "Df Model:                          34                                         \n",
       "Covariance Type:            nonrobust                                         \n",
       "=================================================================================\n",
       "                    coef    std err          t      P>|t|      [0.025      0.975]\n",
       "---------------------------------------------------------------------------------\n",
       "const         -1148.7756    144.490     -7.951      0.000   -1431.971    -865.580\n",
       "pcp               0.0918     13.684      0.007      0.995     -26.728      26.912\n",
       "tavg           -200.5122    158.368     -1.266      0.205    -510.909     109.885\n",
       "pdsi             -8.0644      6.271     -1.286      0.198     -20.356       4.227\n",
       "phdi             -9.9310     11.415     -0.870      0.384     -32.305      12.443\n",
       "zndx              6.3094      7.182      0.879      0.380      -7.767      20.386\n",
       "pmdi              1.4979     13.791      0.109      0.914     -25.532      28.528\n",
       "sp02             19.0468     11.001      1.731      0.083      -2.514      40.608\n",
       "sp03            -44.3372     11.066     -4.006      0.000     -66.027     -22.647\n",
       "sp06             27.8621     10.039      2.776      0.006       8.187      47.537\n",
       "sp09            -43.2934     14.354     -3.016      0.003     -71.428     -15.159\n",
       "sp12             19.0311     14.196      1.341      0.180      -8.793      46.856\n",
       "sp24             53.5152      8.013      6.678      0.000      37.809      69.221\n",
       "tmin             78.5422     79.370      0.990      0.322     -77.021     234.105\n",
       "tmax            131.6724     79.316      1.660      0.097     -23.786     287.130\n",
       "month_2         -19.3797     76.616     -0.253      0.800    -169.545     130.785\n",
       "month_3        -127.7641     68.550     -1.864      0.062    -262.120       6.592\n",
       "month_4        -184.4550     71.979     -2.563      0.010    -325.532     -43.378\n",
       "month_5        -259.9506     84.497     -3.076      0.002    -425.561     -94.340\n",
       "month_6        -297.2039    100.547     -2.956      0.003    -494.273    -100.134\n",
       "month_7        -351.0286    114.260     -3.072      0.002    -574.974    -127.083\n",
       "month_8        -329.3656    110.690     -2.976      0.003    -546.314    -112.417\n",
       "month_9        -384.5110     96.640     -3.979      0.000    -573.922    -195.100\n",
       "month_10       -154.0155     78.292     -1.967      0.049    -307.465      -0.566\n",
       "month_11        -56.3300     71.962     -0.783      0.434    -197.374      84.714\n",
       "month_12         42.7791     84.074      0.509      0.611    -122.004     207.562\n",
       "statecode_4     124.6356     21.551      5.783      0.000      82.397     166.874\n",
       "statecode_5     105.2438     50.706      2.076      0.038       5.861     204.627\n",
       "statecode_10    476.8455     52.327      9.113      0.000     374.287     579.404\n",
       "statecode_24    234.2948     51.112      4.584      0.000     134.117     334.473\n",
       "statecode_26    475.9101     40.090     11.871      0.000     397.335     554.485\n",
       "statecode_29    113.1098     33.943      3.332      0.001      46.583     179.636\n",
       "statecode_35    203.0815     45.483      4.465      0.000     113.937     292.226\n",
       "statecode_45    393.5436     47.675      8.255      0.000     300.103     486.984\n",
       "statecode_110   286.9228     42.581      6.738      0.000     203.464     370.381\n",
       "==============================================================================\n",
       "Omnibus:                  1463531.430   Durbin-Watson:                   1.945\n",
       "Prob(Omnibus):                  0.000   Jarque-Bera (JB):     790684145788.931\n",
       "Skew:                          67.060   Prob(JB):                         0.00\n",
       "Kurtosis:                    6722.078   Cond. No.                     5.87e+03\n",
       "==============================================================================\n",
       "\n",
       "Notes:\n",
       "[1] Standard Errors assume that the covariance matrix of the errors is correctly specified.\n",
       "[2] The condition number is large, 5.87e+03. This might indicate that there are\n",
       "strong multicollinearity or other numerical problems.\n",
       "\"\"\""
      ]
     },
     "execution_count": 38,
     "metadata": {},
     "output_type": "execute_result"
    }
   ],
   "source": [
    "#let's take a quick look at the summary stats of our ordinary least squares\n",
    "ols.summary()"
   ]
  },
  {
   "cell_type": "markdown",
   "metadata": {},
   "source": [
    "#### Log Transform"
   ]
  },
  {
   "cell_type": "code",
   "execution_count": 39,
   "metadata": {},
   "outputs": [],
   "source": [
    "#fit model\n",
    "X = sm.add_constant(X_log)\n",
    "ols = sm.OLS(y_log, X_log).fit()"
   ]
  },
  {
   "cell_type": "code",
   "execution_count": 40,
   "metadata": {},
   "outputs": [
    {
     "data": {
      "text/html": [
       "<table class=\"simpletable\">\n",
       "<caption>OLS Regression Results</caption>\n",
       "<tr>\n",
       "  <th>Dep. Variable:</th>      <td>fire_size_log</td>  <th>  R-squared (uncentered):</th>       <td>   0.183</td>  \n",
       "</tr>\n",
       "<tr>\n",
       "  <th>Model:</th>                   <td>OLS</td>       <th>  Adj. R-squared (uncentered):</th>  <td>   0.183</td>  \n",
       "</tr>\n",
       "<tr>\n",
       "  <th>Method:</th>             <td>Least Squares</td>  <th>  F-statistic:       </th>           <td>   2769.</td>  \n",
       "</tr>\n",
       "<tr>\n",
       "  <th>Date:</th>             <td>Thu, 21 Jan 2021</td> <th>  Prob (F-statistic):</th>            <td>  0.00</td>   \n",
       "</tr>\n",
       "<tr>\n",
       "  <th>Time:</th>                 <td>23:30:42</td>     <th>  Log-Likelihood:    </th>          <td>-9.4000e+05</td>\n",
       "</tr>\n",
       "<tr>\n",
       "  <th>No. Observations:</th>      <td>420167</td>      <th>  AIC:               </th>           <td>1.880e+06</td> \n",
       "</tr>\n",
       "<tr>\n",
       "  <th>Df Residuals:</th>          <td>420133</td>      <th>  BIC:               </th>           <td>1.880e+06</td> \n",
       "</tr>\n",
       "<tr>\n",
       "  <th>Df Model:</th>              <td>    34</td>      <th>                     </th>               <td> </td>     \n",
       "</tr>\n",
       "<tr>\n",
       "  <th>Covariance Type:</th>      <td>nonrobust</td>    <th>                     </th>               <td> </td>     \n",
       "</tr>\n",
       "</table>\n",
       "<table class=\"simpletable\">\n",
       "<tr>\n",
       "        <td></td>           <th>coef</th>     <th>std err</th>      <th>t</th>      <th>P>|t|</th>  <th>[0.025</th>    <th>0.975]</th>  \n",
       "</tr>\n",
       "<tr>\n",
       "  <th>pcp</th>           <td>   -0.1409</td> <td>    0.008</td> <td>  -17.669</td> <td> 0.000</td> <td>   -0.157</td> <td>   -0.125</td>\n",
       "</tr>\n",
       "<tr>\n",
       "  <th>tavg</th>          <td>   -0.0147</td> <td>    0.101</td> <td>   -0.146</td> <td> 0.884</td> <td>   -0.212</td> <td>    0.183</td>\n",
       "</tr>\n",
       "<tr>\n",
       "  <th>pdsi</th>          <td>    0.0045</td> <td>    0.004</td> <td>    1.118</td> <td> 0.263</td> <td>   -0.003</td> <td>    0.012</td>\n",
       "</tr>\n",
       "<tr>\n",
       "  <th>phdi</th>          <td>    0.0176</td> <td>    0.007</td> <td>    2.423</td> <td> 0.015</td> <td>    0.003</td> <td>    0.032</td>\n",
       "</tr>\n",
       "<tr>\n",
       "  <th>zndx</th>          <td>   -0.0151</td> <td>    0.005</td> <td>   -3.315</td> <td> 0.001</td> <td>   -0.024</td> <td>   -0.006</td>\n",
       "</tr>\n",
       "<tr>\n",
       "  <th>pmdi</th>          <td>    0.0302</td> <td>    0.009</td> <td>    3.434</td> <td> 0.001</td> <td>    0.013</td> <td>    0.047</td>\n",
       "</tr>\n",
       "<tr>\n",
       "  <th>sp02</th>          <td>   -0.0038</td> <td>    0.007</td> <td>   -0.539</td> <td> 0.590</td> <td>   -0.017</td> <td>    0.010</td>\n",
       "</tr>\n",
       "<tr>\n",
       "  <th>sp03</th>          <td>   -0.0885</td> <td>    0.007</td> <td>  -12.556</td> <td> 0.000</td> <td>   -0.102</td> <td>   -0.075</td>\n",
       "</tr>\n",
       "<tr>\n",
       "  <th>sp06</th>          <td>   -0.0138</td> <td>    0.006</td> <td>   -2.160</td> <td> 0.031</td> <td>   -0.026</td> <td>   -0.001</td>\n",
       "</tr>\n",
       "<tr>\n",
       "  <th>sp09</th>          <td>   -0.0966</td> <td>    0.009</td> <td>  -10.573</td> <td> 0.000</td> <td>   -0.115</td> <td>   -0.079</td>\n",
       "</tr>\n",
       "<tr>\n",
       "  <th>sp12</th>          <td>   -0.0339</td> <td>    0.009</td> <td>   -3.758</td> <td> 0.000</td> <td>   -0.052</td> <td>   -0.016</td>\n",
       "</tr>\n",
       "<tr>\n",
       "  <th>sp24</th>          <td>    0.1234</td> <td>    0.005</td> <td>   24.210</td> <td> 0.000</td> <td>    0.113</td> <td>    0.133</td>\n",
       "</tr>\n",
       "<tr>\n",
       "  <th>tmin</th>          <td>   -0.0010</td> <td>    0.051</td> <td>   -0.020</td> <td> 0.984</td> <td>   -0.100</td> <td>    0.098</td>\n",
       "</tr>\n",
       "<tr>\n",
       "  <th>tmax</th>          <td>    0.0009</td> <td>    0.050</td> <td>    0.018</td> <td> 0.986</td> <td>   -0.098</td> <td>    0.100</td>\n",
       "</tr>\n",
       "<tr>\n",
       "  <th>month_2</th>       <td>   -0.0217</td> <td>    0.048</td> <td>   -0.455</td> <td> 0.649</td> <td>   -0.115</td> <td>    0.072</td>\n",
       "</tr>\n",
       "<tr>\n",
       "  <th>month_3</th>       <td>    0.3677</td> <td>    0.043</td> <td>    8.469</td> <td> 0.000</td> <td>    0.283</td> <td>    0.453</td>\n",
       "</tr>\n",
       "<tr>\n",
       "  <th>month_4</th>       <td>    0.3669</td> <td>    0.046</td> <td>    8.005</td> <td> 0.000</td> <td>    0.277</td> <td>    0.457</td>\n",
       "</tr>\n",
       "<tr>\n",
       "  <th>month_5</th>       <td>    0.2452</td> <td>    0.053</td> <td>    4.624</td> <td> 0.000</td> <td>    0.141</td> <td>    0.349</td>\n",
       "</tr>\n",
       "<tr>\n",
       "  <th>month_6</th>       <td>    0.3927</td> <td>    0.062</td> <td>    6.347</td> <td> 0.000</td> <td>    0.271</td> <td>    0.514</td>\n",
       "</tr>\n",
       "<tr>\n",
       "  <th>month_7</th>       <td>    0.2727</td> <td>    0.070</td> <td>    3.919</td> <td> 0.000</td> <td>    0.136</td> <td>    0.409</td>\n",
       "</tr>\n",
       "<tr>\n",
       "  <th>month_8</th>       <td>    0.2715</td> <td>    0.068</td> <td>    4.022</td> <td> 0.000</td> <td>    0.139</td> <td>    0.404</td>\n",
       "</tr>\n",
       "<tr>\n",
       "  <th>month_9</th>       <td>    0.0048</td> <td>    0.060</td> <td>    0.081</td> <td> 0.936</td> <td>   -0.113</td> <td>    0.122</td>\n",
       "</tr>\n",
       "<tr>\n",
       "  <th>month_10</th>      <td>    0.0895</td> <td>    0.050</td> <td>    1.800</td> <td> 0.072</td> <td>   -0.008</td> <td>    0.187</td>\n",
       "</tr>\n",
       "<tr>\n",
       "  <th>month_11</th>      <td>   -0.0303</td> <td>    0.045</td> <td>   -0.669</td> <td> 0.503</td> <td>   -0.119</td> <td>    0.058</td>\n",
       "</tr>\n",
       "<tr>\n",
       "  <th>month_12</th>      <td>   -0.3385</td> <td>    0.052</td> <td>   -6.533</td> <td> 0.000</td> <td>   -0.440</td> <td>   -0.237</td>\n",
       "</tr>\n",
       "<tr>\n",
       "  <th>statecode_4</th>   <td>   -0.2050</td> <td>    0.012</td> <td>  -17.684</td> <td> 0.000</td> <td>   -0.228</td> <td>   -0.182</td>\n",
       "</tr>\n",
       "<tr>\n",
       "  <th>statecode_5</th>   <td>   -0.4528</td> <td>    0.031</td> <td>  -14.587</td> <td> 0.000</td> <td>   -0.514</td> <td>   -0.392</td>\n",
       "</tr>\n",
       "<tr>\n",
       "  <th>statecode_10</th>  <td>    0.5019</td> <td>    0.031</td> <td>   16.060</td> <td> 0.000</td> <td>    0.441</td> <td>    0.563</td>\n",
       "</tr>\n",
       "<tr>\n",
       "  <th>statecode_24</th>  <td>    0.0019</td> <td>    0.030</td> <td>    0.064</td> <td> 0.949</td> <td>   -0.057</td> <td>    0.061</td>\n",
       "</tr>\n",
       "<tr>\n",
       "  <th>statecode_26</th>  <td>    0.5349</td> <td>    0.025</td> <td>   21.637</td> <td> 0.000</td> <td>    0.486</td> <td>    0.583</td>\n",
       "</tr>\n",
       "<tr>\n",
       "  <th>statecode_29</th>  <td>    0.2580</td> <td>    0.021</td> <td>   12.015</td> <td> 0.000</td> <td>    0.216</td> <td>    0.300</td>\n",
       "</tr>\n",
       "<tr>\n",
       "  <th>statecode_35</th>  <td>   -0.7666</td> <td>    0.026</td> <td>  -29.196</td> <td> 0.000</td> <td>   -0.818</td> <td>   -0.715</td>\n",
       "</tr>\n",
       "<tr>\n",
       "  <th>statecode_45</th>  <td>   -0.2111</td> <td>    0.025</td> <td>   -8.542</td> <td> 0.000</td> <td>   -0.260</td> <td>   -0.163</td>\n",
       "</tr>\n",
       "<tr>\n",
       "  <th>statecode_110</th> <td>    0.9068</td> <td>    0.026</td> <td>   34.623</td> <td> 0.000</td> <td>    0.856</td> <td>    0.958</td>\n",
       "</tr>\n",
       "</table>\n",
       "<table class=\"simpletable\">\n",
       "<tr>\n",
       "  <th>Omnibus:</th>       <td>147041.850</td> <th>  Durbin-Watson:     </th>  <td>   1.508</td> \n",
       "</tr>\n",
       "<tr>\n",
       "  <th>Prob(Omnibus):</th>   <td> 0.000</td>   <th>  Jarque-Bera (JB):  </th> <td>497789.712</td>\n",
       "</tr>\n",
       "<tr>\n",
       "  <th>Skew:</th>            <td> 1.795</td>   <th>  Prob(JB):          </th>  <td>    0.00</td> \n",
       "</tr>\n",
       "<tr>\n",
       "  <th>Kurtosis:</th>        <td> 6.943</td>   <th>  Cond. No.          </th>  <td>5.70e+03</td> \n",
       "</tr>\n",
       "</table><br/><br/>Notes:<br/>[1] R² is computed without centering (uncentered) since the model does not contain a constant.<br/>[2] Standard Errors assume that the covariance matrix of the errors is correctly specified.<br/>[3] The condition number is large, 5.7e+03. This might indicate that there are<br/>strong multicollinearity or other numerical problems."
      ],
      "text/plain": [
       "<class 'statsmodels.iolib.summary.Summary'>\n",
       "\"\"\"\n",
       "                                 OLS Regression Results                                \n",
       "=======================================================================================\n",
       "Dep. Variable:          fire_size_log   R-squared (uncentered):                   0.183\n",
       "Model:                            OLS   Adj. R-squared (uncentered):              0.183\n",
       "Method:                 Least Squares   F-statistic:                              2769.\n",
       "Date:                Thu, 21 Jan 2021   Prob (F-statistic):                        0.00\n",
       "Time:                        23:30:42   Log-Likelihood:                     -9.4000e+05\n",
       "No. Observations:              420167   AIC:                                  1.880e+06\n",
       "Df Residuals:                  420133   BIC:                                  1.880e+06\n",
       "Df Model:                          34                                                  \n",
       "Covariance Type:            nonrobust                                                  \n",
       "=================================================================================\n",
       "                    coef    std err          t      P>|t|      [0.025      0.975]\n",
       "---------------------------------------------------------------------------------\n",
       "pcp              -0.1409      0.008    -17.669      0.000      -0.157      -0.125\n",
       "tavg             -0.0147      0.101     -0.146      0.884      -0.212       0.183\n",
       "pdsi              0.0045      0.004      1.118      0.263      -0.003       0.012\n",
       "phdi              0.0176      0.007      2.423      0.015       0.003       0.032\n",
       "zndx             -0.0151      0.005     -3.315      0.001      -0.024      -0.006\n",
       "pmdi              0.0302      0.009      3.434      0.001       0.013       0.047\n",
       "sp02             -0.0038      0.007     -0.539      0.590      -0.017       0.010\n",
       "sp03             -0.0885      0.007    -12.556      0.000      -0.102      -0.075\n",
       "sp06             -0.0138      0.006     -2.160      0.031      -0.026      -0.001\n",
       "sp09             -0.0966      0.009    -10.573      0.000      -0.115      -0.079\n",
       "sp12             -0.0339      0.009     -3.758      0.000      -0.052      -0.016\n",
       "sp24              0.1234      0.005     24.210      0.000       0.113       0.133\n",
       "tmin             -0.0010      0.051     -0.020      0.984      -0.100       0.098\n",
       "tmax              0.0009      0.050      0.018      0.986      -0.098       0.100\n",
       "month_2          -0.0217      0.048     -0.455      0.649      -0.115       0.072\n",
       "month_3           0.3677      0.043      8.469      0.000       0.283       0.453\n",
       "month_4           0.3669      0.046      8.005      0.000       0.277       0.457\n",
       "month_5           0.2452      0.053      4.624      0.000       0.141       0.349\n",
       "month_6           0.3927      0.062      6.347      0.000       0.271       0.514\n",
       "month_7           0.2727      0.070      3.919      0.000       0.136       0.409\n",
       "month_8           0.2715      0.068      4.022      0.000       0.139       0.404\n",
       "month_9           0.0048      0.060      0.081      0.936      -0.113       0.122\n",
       "month_10          0.0895      0.050      1.800      0.072      -0.008       0.187\n",
       "month_11         -0.0303      0.045     -0.669      0.503      -0.119       0.058\n",
       "month_12         -0.3385      0.052     -6.533      0.000      -0.440      -0.237\n",
       "statecode_4      -0.2050      0.012    -17.684      0.000      -0.228      -0.182\n",
       "statecode_5      -0.4528      0.031    -14.587      0.000      -0.514      -0.392\n",
       "statecode_10      0.5019      0.031     16.060      0.000       0.441       0.563\n",
       "statecode_24      0.0019      0.030      0.064      0.949      -0.057       0.061\n",
       "statecode_26      0.5349      0.025     21.637      0.000       0.486       0.583\n",
       "statecode_29      0.2580      0.021     12.015      0.000       0.216       0.300\n",
       "statecode_35     -0.7666      0.026    -29.196      0.000      -0.818      -0.715\n",
       "statecode_45     -0.2111      0.025     -8.542      0.000      -0.260      -0.163\n",
       "statecode_110     0.9068      0.026     34.623      0.000       0.856       0.958\n",
       "==============================================================================\n",
       "Omnibus:                   147041.850   Durbin-Watson:                   1.508\n",
       "Prob(Omnibus):                  0.000   Jarque-Bera (JB):           497789.712\n",
       "Skew:                           1.795   Prob(JB):                         0.00\n",
       "Kurtosis:                       6.943   Cond. No.                     5.70e+03\n",
       "==============================================================================\n",
       "\n",
       "Notes:\n",
       "[1] R² is computed without centering (uncentered) since the model does not contain a constant.\n",
       "[2] Standard Errors assume that the covariance matrix of the errors is correctly specified.\n",
       "[3] The condition number is large, 5.7e+03. This might indicate that there are\n",
       "strong multicollinearity or other numerical problems.\n",
       "\"\"\""
      ]
     },
     "execution_count": 40,
     "metadata": {},
     "output_type": "execute_result"
    }
   ],
   "source": [
    "#let's take a quick look at the summary stats of our ordinary least squares\n",
    "ols.summary()"
   ]
  },
  {
   "cell_type": "markdown",
   "metadata": {},
   "source": [
    "### Model #3, Linear Regression, scaled"
   ]
  },
  {
   "cell_type": "markdown",
   "metadata": {},
   "source": [
    "#### Normal"
   ]
  },
  {
   "cell_type": "code",
   "execution_count": 42,
   "metadata": {},
   "outputs": [],
   "source": [
    "sc = StandardScaler()\n",
    "Z_train = sc.fit_transform(X_train)\n",
    "Z_test = sc.transform(X_test)"
   ]
  },
  {
   "cell_type": "code",
   "execution_count": 43,
   "metadata": {},
   "outputs": [
    {
     "name": "stdout",
     "output_type": "stream",
     "text": [
      " Scaled Linear Regression training R^2 score: 0.0018\n",
      " Scaled Linear Regression test R^2 score: 0.0026\n"
     ]
    }
   ],
   "source": [
    "lr_stan = LinearRegression()\n",
    "lr_stan.fit(Z_train, y_train)\n",
    "print(f' Scaled Linear Regression training R^2 score: {round(lr_stan.score(Z_train, y_train),4)}')\n",
    "print(f' Scaled Linear Regression test R^2 score: {round(lr_stan.score(Z_test, y_test),4)}')"
   ]
  },
  {
   "cell_type": "markdown",
   "metadata": {},
   "source": [
    "##### There is no noteable change in R^2 after scaling. Feature scale may not be an issue."
   ]
  },
  {
   "cell_type": "markdown",
   "metadata": {},
   "source": [
    "#### Log Transform"
   ]
  },
  {
   "cell_type": "code",
   "execution_count": 49,
   "metadata": {},
   "outputs": [],
   "source": [
    "sc = StandardScaler()\n",
    "Z_train = sc.fit_transform(X_train_log)\n",
    "Z_test = sc.transform(X_test_log)"
   ]
  },
  {
   "cell_type": "code",
   "execution_count": 50,
   "metadata": {},
   "outputs": [
    {
     "name": "stdout",
     "output_type": "stream",
     "text": [
      " Scaled Linear Regression training R^2 score: 0.042\n",
      " Scaled Linear Regression test R^2 score: 0.04\n"
     ]
    }
   ],
   "source": [
    "lr_stan = LinearRegression()\n",
    "lr_stan.fit(Z_train, y_train_log)\n",
    "print(f' Scaled Linear Regression training R^2 score: {round(lr_stan.score(Z_train, y_train_log),4)}')\n",
    "print(f' Scaled Linear Regression test R^2 score: {round(lr_stan.score(Z_test, y_test_log),4)}')"
   ]
  },
  {
   "cell_type": "markdown",
   "metadata": {},
   "source": [
    "### Model #4, Lasso Gridsearch, basic"
   ]
  },
  {
   "cell_type": "markdown",
   "metadata": {},
   "source": [
    "#### Normal"
   ]
  },
  {
   "cell_type": "code",
   "execution_count": null,
   "metadata": {},
   "outputs": [],
   "source": [
    "lasso_pipe = Pipeline([\n",
    "    ('sc', StandardScaler()),\n",
    "    ('lassocv', Lasso())\n",
    "])"
   ]
  },
  {
   "cell_type": "code",
   "execution_count": 17,
   "metadata": {
    "collapsed": true,
    "jupyter": {
     "outputs_hidden": true
    }
   },
   "outputs": [
    {
     "name": "stdout",
     "output_type": "stream",
     "text": [
      "Fitting 5 folds for each of 1000 candidates, totalling 5000 fits\n"
     ]
    },
    {
     "name": "stderr",
     "output_type": "stream",
     "text": [
      "[Parallel(n_jobs=-1)]: Using backend LokyBackend with 8 concurrent workers.\n",
      "[Parallel(n_jobs=-1)]: Done  25 tasks      | elapsed:  3.8min\n",
      "[Parallel(n_jobs=-1)]: Done 146 tasks      | elapsed: 18.4min\n",
      "[Parallel(n_jobs=-1)]: Done 349 tasks      | elapsed: 37.5min\n",
      "[Parallel(n_jobs=-1)]: Done 632 tasks      | elapsed: 60.2min\n",
      "[Parallel(n_jobs=-1)]: Done 997 tasks      | elapsed: 82.2min\n"
     ]
    },
    {
     "ename": "KeyboardInterrupt",
     "evalue": "",
     "output_type": "error",
     "traceback": [
      "\u001b[1;31m---------------------------------------------------------------------------\u001b[0m",
      "\u001b[1;31mKeyboardInterrupt\u001b[0m                         Traceback (most recent call last)",
      "\u001b[1;32m<ipython-input-17-6390cc3f2bc2>\u001b[0m in \u001b[0;36m<module>\u001b[1;34m\u001b[0m\n\u001b[0;32m     10\u001b[0m                                 \u001b[0mscoring\u001b[0m \u001b[1;33m=\u001b[0m \u001b[1;34m'r2'\u001b[0m\u001b[1;33m,\u001b[0m\u001b[1;33m\u001b[0m\u001b[1;33m\u001b[0m\u001b[0m\n\u001b[0;32m     11\u001b[0m                                 n_jobs = -1)\n\u001b[1;32m---> 12\u001b[1;33m \u001b[0mlasso_gridsearch\u001b[0m\u001b[1;33m.\u001b[0m\u001b[0mfit\u001b[0m\u001b[1;33m(\u001b[0m\u001b[0mX_train\u001b[0m\u001b[1;33m,\u001b[0m \u001b[0my_train\u001b[0m\u001b[1;33m)\u001b[0m\u001b[1;33m\u001b[0m\u001b[1;33m\u001b[0m\u001b[0m\n\u001b[0m",
      "\u001b[1;32m~\\Anaconda3\\lib\\site-packages\\sklearn\\utils\\validation.py\u001b[0m in \u001b[0;36minner_f\u001b[1;34m(*args, **kwargs)\u001b[0m\n\u001b[0;32m     70\u001b[0m                           FutureWarning)\n\u001b[0;32m     71\u001b[0m         \u001b[0mkwargs\u001b[0m\u001b[1;33m.\u001b[0m\u001b[0mupdate\u001b[0m\u001b[1;33m(\u001b[0m\u001b[1;33m{\u001b[0m\u001b[0mk\u001b[0m\u001b[1;33m:\u001b[0m \u001b[0marg\u001b[0m \u001b[1;32mfor\u001b[0m \u001b[0mk\u001b[0m\u001b[1;33m,\u001b[0m \u001b[0marg\u001b[0m \u001b[1;32min\u001b[0m \u001b[0mzip\u001b[0m\u001b[1;33m(\u001b[0m\u001b[0msig\u001b[0m\u001b[1;33m.\u001b[0m\u001b[0mparameters\u001b[0m\u001b[1;33m,\u001b[0m \u001b[0margs\u001b[0m\u001b[1;33m)\u001b[0m\u001b[1;33m}\u001b[0m\u001b[1;33m)\u001b[0m\u001b[1;33m\u001b[0m\u001b[1;33m\u001b[0m\u001b[0m\n\u001b[1;32m---> 72\u001b[1;33m         \u001b[1;32mreturn\u001b[0m \u001b[0mf\u001b[0m\u001b[1;33m(\u001b[0m\u001b[1;33m**\u001b[0m\u001b[0mkwargs\u001b[0m\u001b[1;33m)\u001b[0m\u001b[1;33m\u001b[0m\u001b[1;33m\u001b[0m\u001b[0m\n\u001b[0m\u001b[0;32m     73\u001b[0m     \u001b[1;32mreturn\u001b[0m \u001b[0minner_f\u001b[0m\u001b[1;33m\u001b[0m\u001b[1;33m\u001b[0m\u001b[0m\n\u001b[0;32m     74\u001b[0m \u001b[1;33m\u001b[0m\u001b[0m\n",
      "\u001b[1;32m~\\Anaconda3\\lib\\site-packages\\sklearn\\model_selection\\_search.py\u001b[0m in \u001b[0;36mfit\u001b[1;34m(self, X, y, groups, **fit_params)\u001b[0m\n\u001b[0;32m    734\u001b[0m                 \u001b[1;32mreturn\u001b[0m \u001b[0mresults\u001b[0m\u001b[1;33m\u001b[0m\u001b[1;33m\u001b[0m\u001b[0m\n\u001b[0;32m    735\u001b[0m \u001b[1;33m\u001b[0m\u001b[0m\n\u001b[1;32m--> 736\u001b[1;33m             \u001b[0mself\u001b[0m\u001b[1;33m.\u001b[0m\u001b[0m_run_search\u001b[0m\u001b[1;33m(\u001b[0m\u001b[0mevaluate_candidates\u001b[0m\u001b[1;33m)\u001b[0m\u001b[1;33m\u001b[0m\u001b[1;33m\u001b[0m\u001b[0m\n\u001b[0m\u001b[0;32m    737\u001b[0m \u001b[1;33m\u001b[0m\u001b[0m\n\u001b[0;32m    738\u001b[0m         \u001b[1;31m# For multi-metric evaluation, store the best_index_, best_params_ and\u001b[0m\u001b[1;33m\u001b[0m\u001b[1;33m\u001b[0m\u001b[1;33m\u001b[0m\u001b[0m\n",
      "\u001b[1;32m~\\Anaconda3\\lib\\site-packages\\sklearn\\model_selection\\_search.py\u001b[0m in \u001b[0;36m_run_search\u001b[1;34m(self, evaluate_candidates)\u001b[0m\n\u001b[0;32m   1186\u001b[0m     \u001b[1;32mdef\u001b[0m \u001b[0m_run_search\u001b[0m\u001b[1;33m(\u001b[0m\u001b[0mself\u001b[0m\u001b[1;33m,\u001b[0m \u001b[0mevaluate_candidates\u001b[0m\u001b[1;33m)\u001b[0m\u001b[1;33m:\u001b[0m\u001b[1;33m\u001b[0m\u001b[1;33m\u001b[0m\u001b[0m\n\u001b[0;32m   1187\u001b[0m         \u001b[1;34m\"\"\"Search all candidates in param_grid\"\"\"\u001b[0m\u001b[1;33m\u001b[0m\u001b[1;33m\u001b[0m\u001b[0m\n\u001b[1;32m-> 1188\u001b[1;33m         \u001b[0mevaluate_candidates\u001b[0m\u001b[1;33m(\u001b[0m\u001b[0mParameterGrid\u001b[0m\u001b[1;33m(\u001b[0m\u001b[0mself\u001b[0m\u001b[1;33m.\u001b[0m\u001b[0mparam_grid\u001b[0m\u001b[1;33m)\u001b[0m\u001b[1;33m)\u001b[0m\u001b[1;33m\u001b[0m\u001b[1;33m\u001b[0m\u001b[0m\n\u001b[0m\u001b[0;32m   1189\u001b[0m \u001b[1;33m\u001b[0m\u001b[0m\n\u001b[0;32m   1190\u001b[0m \u001b[1;33m\u001b[0m\u001b[0m\n",
      "\u001b[1;32m~\\Anaconda3\\lib\\site-packages\\sklearn\\model_selection\\_search.py\u001b[0m in \u001b[0;36mevaluate_candidates\u001b[1;34m(candidate_params)\u001b[0m\n\u001b[0;32m    706\u001b[0m                               n_splits, n_candidates, n_candidates * n_splits))\n\u001b[0;32m    707\u001b[0m \u001b[1;33m\u001b[0m\u001b[0m\n\u001b[1;32m--> 708\u001b[1;33m                 out = parallel(delayed(_fit_and_score)(clone(base_estimator),\n\u001b[0m\u001b[0;32m    709\u001b[0m                                                        \u001b[0mX\u001b[0m\u001b[1;33m,\u001b[0m \u001b[0my\u001b[0m\u001b[1;33m,\u001b[0m\u001b[1;33m\u001b[0m\u001b[1;33m\u001b[0m\u001b[0m\n\u001b[0;32m    710\u001b[0m                                                        \u001b[0mtrain\u001b[0m\u001b[1;33m=\u001b[0m\u001b[0mtrain\u001b[0m\u001b[1;33m,\u001b[0m \u001b[0mtest\u001b[0m\u001b[1;33m=\u001b[0m\u001b[0mtest\u001b[0m\u001b[1;33m,\u001b[0m\u001b[1;33m\u001b[0m\u001b[1;33m\u001b[0m\u001b[0m\n",
      "\u001b[1;32m~\\Anaconda3\\lib\\site-packages\\joblib\\parallel.py\u001b[0m in \u001b[0;36m__call__\u001b[1;34m(self, iterable)\u001b[0m\n\u001b[0;32m   1052\u001b[0m \u001b[1;33m\u001b[0m\u001b[0m\n\u001b[0;32m   1053\u001b[0m             \u001b[1;32mwith\u001b[0m \u001b[0mself\u001b[0m\u001b[1;33m.\u001b[0m\u001b[0m_backend\u001b[0m\u001b[1;33m.\u001b[0m\u001b[0mretrieval_context\u001b[0m\u001b[1;33m(\u001b[0m\u001b[1;33m)\u001b[0m\u001b[1;33m:\u001b[0m\u001b[1;33m\u001b[0m\u001b[1;33m\u001b[0m\u001b[0m\n\u001b[1;32m-> 1054\u001b[1;33m                 \u001b[0mself\u001b[0m\u001b[1;33m.\u001b[0m\u001b[0mretrieve\u001b[0m\u001b[1;33m(\u001b[0m\u001b[1;33m)\u001b[0m\u001b[1;33m\u001b[0m\u001b[1;33m\u001b[0m\u001b[0m\n\u001b[0m\u001b[0;32m   1055\u001b[0m             \u001b[1;31m# Make sure that we get a last message telling us we are done\u001b[0m\u001b[1;33m\u001b[0m\u001b[1;33m\u001b[0m\u001b[1;33m\u001b[0m\u001b[0m\n\u001b[0;32m   1056\u001b[0m             \u001b[0melapsed_time\u001b[0m \u001b[1;33m=\u001b[0m \u001b[0mtime\u001b[0m\u001b[1;33m.\u001b[0m\u001b[0mtime\u001b[0m\u001b[1;33m(\u001b[0m\u001b[1;33m)\u001b[0m \u001b[1;33m-\u001b[0m \u001b[0mself\u001b[0m\u001b[1;33m.\u001b[0m\u001b[0m_start_time\u001b[0m\u001b[1;33m\u001b[0m\u001b[1;33m\u001b[0m\u001b[0m\n",
      "\u001b[1;32m~\\Anaconda3\\lib\\site-packages\\joblib\\parallel.py\u001b[0m in \u001b[0;36mretrieve\u001b[1;34m(self)\u001b[0m\n\u001b[0;32m    931\u001b[0m             \u001b[1;32mtry\u001b[0m\u001b[1;33m:\u001b[0m\u001b[1;33m\u001b[0m\u001b[1;33m\u001b[0m\u001b[0m\n\u001b[0;32m    932\u001b[0m                 \u001b[1;32mif\u001b[0m \u001b[0mgetattr\u001b[0m\u001b[1;33m(\u001b[0m\u001b[0mself\u001b[0m\u001b[1;33m.\u001b[0m\u001b[0m_backend\u001b[0m\u001b[1;33m,\u001b[0m \u001b[1;34m'supports_timeout'\u001b[0m\u001b[1;33m,\u001b[0m \u001b[1;32mFalse\u001b[0m\u001b[1;33m)\u001b[0m\u001b[1;33m:\u001b[0m\u001b[1;33m\u001b[0m\u001b[1;33m\u001b[0m\u001b[0m\n\u001b[1;32m--> 933\u001b[1;33m                     \u001b[0mself\u001b[0m\u001b[1;33m.\u001b[0m\u001b[0m_output\u001b[0m\u001b[1;33m.\u001b[0m\u001b[0mextend\u001b[0m\u001b[1;33m(\u001b[0m\u001b[0mjob\u001b[0m\u001b[1;33m.\u001b[0m\u001b[0mget\u001b[0m\u001b[1;33m(\u001b[0m\u001b[0mtimeout\u001b[0m\u001b[1;33m=\u001b[0m\u001b[0mself\u001b[0m\u001b[1;33m.\u001b[0m\u001b[0mtimeout\u001b[0m\u001b[1;33m)\u001b[0m\u001b[1;33m)\u001b[0m\u001b[1;33m\u001b[0m\u001b[1;33m\u001b[0m\u001b[0m\n\u001b[0m\u001b[0;32m    934\u001b[0m                 \u001b[1;32melse\u001b[0m\u001b[1;33m:\u001b[0m\u001b[1;33m\u001b[0m\u001b[1;33m\u001b[0m\u001b[0m\n\u001b[0;32m    935\u001b[0m                     \u001b[0mself\u001b[0m\u001b[1;33m.\u001b[0m\u001b[0m_output\u001b[0m\u001b[1;33m.\u001b[0m\u001b[0mextend\u001b[0m\u001b[1;33m(\u001b[0m\u001b[0mjob\u001b[0m\u001b[1;33m.\u001b[0m\u001b[0mget\u001b[0m\u001b[1;33m(\u001b[0m\u001b[1;33m)\u001b[0m\u001b[1;33m)\u001b[0m\u001b[1;33m\u001b[0m\u001b[1;33m\u001b[0m\u001b[0m\n",
      "\u001b[1;32m~\\Anaconda3\\lib\\site-packages\\joblib\\_parallel_backends.py\u001b[0m in \u001b[0;36mwrap_future_result\u001b[1;34m(future, timeout)\u001b[0m\n\u001b[0;32m    540\u001b[0m         AsyncResults.get from multiprocessing.\"\"\"\n\u001b[0;32m    541\u001b[0m         \u001b[1;32mtry\u001b[0m\u001b[1;33m:\u001b[0m\u001b[1;33m\u001b[0m\u001b[1;33m\u001b[0m\u001b[0m\n\u001b[1;32m--> 542\u001b[1;33m             \u001b[1;32mreturn\u001b[0m \u001b[0mfuture\u001b[0m\u001b[1;33m.\u001b[0m\u001b[0mresult\u001b[0m\u001b[1;33m(\u001b[0m\u001b[0mtimeout\u001b[0m\u001b[1;33m=\u001b[0m\u001b[0mtimeout\u001b[0m\u001b[1;33m)\u001b[0m\u001b[1;33m\u001b[0m\u001b[1;33m\u001b[0m\u001b[0m\n\u001b[0m\u001b[0;32m    543\u001b[0m         \u001b[1;32mexcept\u001b[0m \u001b[0mCfTimeoutError\u001b[0m \u001b[1;32mas\u001b[0m \u001b[0me\u001b[0m\u001b[1;33m:\u001b[0m\u001b[1;33m\u001b[0m\u001b[1;33m\u001b[0m\u001b[0m\n\u001b[0;32m    544\u001b[0m             \u001b[1;32mraise\u001b[0m \u001b[0mTimeoutError\u001b[0m \u001b[1;32mfrom\u001b[0m \u001b[0me\u001b[0m\u001b[1;33m\u001b[0m\u001b[1;33m\u001b[0m\u001b[0m\n",
      "\u001b[1;32m~\\Anaconda3\\lib\\concurrent\\futures\\_base.py\u001b[0m in \u001b[0;36mresult\u001b[1;34m(self, timeout)\u001b[0m\n\u001b[0;32m    432\u001b[0m                 \u001b[1;32mreturn\u001b[0m \u001b[0mself\u001b[0m\u001b[1;33m.\u001b[0m\u001b[0m__get_result\u001b[0m\u001b[1;33m(\u001b[0m\u001b[1;33m)\u001b[0m\u001b[1;33m\u001b[0m\u001b[1;33m\u001b[0m\u001b[0m\n\u001b[0;32m    433\u001b[0m \u001b[1;33m\u001b[0m\u001b[0m\n\u001b[1;32m--> 434\u001b[1;33m             \u001b[0mself\u001b[0m\u001b[1;33m.\u001b[0m\u001b[0m_condition\u001b[0m\u001b[1;33m.\u001b[0m\u001b[0mwait\u001b[0m\u001b[1;33m(\u001b[0m\u001b[0mtimeout\u001b[0m\u001b[1;33m)\u001b[0m\u001b[1;33m\u001b[0m\u001b[1;33m\u001b[0m\u001b[0m\n\u001b[0m\u001b[0;32m    435\u001b[0m \u001b[1;33m\u001b[0m\u001b[0m\n\u001b[0;32m    436\u001b[0m             \u001b[1;32mif\u001b[0m \u001b[0mself\u001b[0m\u001b[1;33m.\u001b[0m\u001b[0m_state\u001b[0m \u001b[1;32min\u001b[0m \u001b[1;33m[\u001b[0m\u001b[0mCANCELLED\u001b[0m\u001b[1;33m,\u001b[0m \u001b[0mCANCELLED_AND_NOTIFIED\u001b[0m\u001b[1;33m]\u001b[0m\u001b[1;33m:\u001b[0m\u001b[1;33m\u001b[0m\u001b[1;33m\u001b[0m\u001b[0m\n",
      "\u001b[1;32m~\\Anaconda3\\lib\\threading.py\u001b[0m in \u001b[0;36mwait\u001b[1;34m(self, timeout)\u001b[0m\n\u001b[0;32m    300\u001b[0m         \u001b[1;32mtry\u001b[0m\u001b[1;33m:\u001b[0m    \u001b[1;31m# restore state no matter what (e.g., KeyboardInterrupt)\u001b[0m\u001b[1;33m\u001b[0m\u001b[1;33m\u001b[0m\u001b[0m\n\u001b[0;32m    301\u001b[0m             \u001b[1;32mif\u001b[0m \u001b[0mtimeout\u001b[0m \u001b[1;32mis\u001b[0m \u001b[1;32mNone\u001b[0m\u001b[1;33m:\u001b[0m\u001b[1;33m\u001b[0m\u001b[1;33m\u001b[0m\u001b[0m\n\u001b[1;32m--> 302\u001b[1;33m                 \u001b[0mwaiter\u001b[0m\u001b[1;33m.\u001b[0m\u001b[0macquire\u001b[0m\u001b[1;33m(\u001b[0m\u001b[1;33m)\u001b[0m\u001b[1;33m\u001b[0m\u001b[1;33m\u001b[0m\u001b[0m\n\u001b[0m\u001b[0;32m    303\u001b[0m                 \u001b[0mgotit\u001b[0m \u001b[1;33m=\u001b[0m \u001b[1;32mTrue\u001b[0m\u001b[1;33m\u001b[0m\u001b[1;33m\u001b[0m\u001b[0m\n\u001b[0;32m    304\u001b[0m             \u001b[1;32melse\u001b[0m\u001b[1;33m:\u001b[0m\u001b[1;33m\u001b[0m\u001b[1;33m\u001b[0m\u001b[0m\n",
      "\u001b[1;31mKeyboardInterrupt\u001b[0m: "
     ]
    }
   ],
   "source": [
    "#set up lasso parameters to use grid search\n",
    "lasso_params = {'lassocv__alpha':np.logspace(0, 3, 1000),\n",
    "               'lassocv__max_iter':[10000],\n",
    "               }\n",
    "# we use gridsearch instead of LassoCV to take advantage of multiple cores\n",
    "lasso_gridsearch = GridSearchCV(estimator = Lasso(max_iter = 100000),\n",
    "                                param_grid = lasso_params,\n",
    "                                verbose = 2,\n",
    "                                cv = 5,\n",
    "                                scoring = 'r2',\n",
    "                                n_jobs = -1)"
   ]
  },
  {
   "cell_type": "code",
   "execution_count": null,
   "metadata": {},
   "outputs": [],
   "source": [
    "lasso_pipe_gridsearch.fit(X_train, y_train)\n",
    "lasso_pipe_gridsearch.best_estimator_"
   ]
  },
  {
   "cell_type": "code",
   "execution_count": null,
   "metadata": {},
   "outputs": [],
   "source": [
    "# BEST PARAMS\n",
    "# Pipeline(memory=None,\n",
    "#          steps=[('sc',\n",
    "#                  StandardScaler(copy=True, with_mean=True, with_std=True)),\n",
    "#                 ('lassocv',\n",
    "#                  Lasso(alpha=1.0, copy_X=True, fit_intercept=True,\n",
    "#                        max_iter=10000, normalize=False, positive=False,\n",
    "#                        precompute=False, random_state=None, selection='cyclic',\n",
    "#                        tol=0.0001, warm_start=True))],\n",
    "#          verbose=False)"
   ]
  },
  {
   "cell_type": "markdown",
   "metadata": {},
   "source": [
    "##### Coef_ eval"
   ]
  },
  {
   "cell_type": "code",
   "execution_count": 66,
   "metadata": {},
   "outputs": [],
   "source": [
    "lasso_sc = StandardScaler()\n",
    "lasso_Z_train = lasso_sc.fit_transform(X_train)\n",
    "lasso_Z_test = lasso_sc.fit_transform(X_test)"
   ]
  },
  {
   "cell_type": "code",
   "execution_count": 68,
   "metadata": {},
   "outputs": [],
   "source": [
    "lasso_coef_eval = Lasso(alpha = 1, max_iter=10000)"
   ]
  },
  {
   "cell_type": "code",
   "execution_count": 69,
   "metadata": {},
   "outputs": [
    {
     "name": "stdout",
     "output_type": "stream",
     "text": [
      "(336133, 34)\n",
      "(336133, 1)\n"
     ]
    }
   ],
   "source": [
    "print(lasso_Z_train.shape)\n",
    "print(y_train.shape)"
   ]
  },
  {
   "cell_type": "code",
   "execution_count": 70,
   "metadata": {},
   "outputs": [
    {
     "name": "stdout",
     "output_type": "stream",
     "text": [
      "Lasso R^2 Cross Validated Score: 0.0017\n"
     ]
    }
   ],
   "source": [
    "lasso_coef_eval.fit(lasso_Z_train, y_train)\n",
    "print(f'Lasso R^2 Cross Validated Score: {round(cross_val_score(lasso_coef_eval, lasso_Z_train, y_train).mean(),4)}') "
   ]
  },
  {
   "cell_type": "code",
   "execution_count": 71,
   "metadata": {},
   "outputs": [
    {
     "data": {
      "text/plain": [
       "array([165.96982282])"
      ]
     },
     "execution_count": 71,
     "metadata": {},
     "output_type": "execute_result"
    }
   ],
   "source": [
    "lasso_coef_eval.intercept_"
   ]
  },
  {
   "cell_type": "code",
   "execution_count": 72,
   "metadata": {},
   "outputs": [
    {
     "data": {
      "text/html": [
       "<div>\n",
       "<style scoped>\n",
       "    .dataframe tbody tr th:only-of-type {\n",
       "        vertical-align: middle;\n",
       "    }\n",
       "\n",
       "    .dataframe tbody tr th {\n",
       "        vertical-align: top;\n",
       "    }\n",
       "\n",
       "    .dataframe thead th {\n",
       "        text-align: right;\n",
       "    }\n",
       "</style>\n",
       "<table border=\"1\" class=\"dataframe\">\n",
       "  <thead>\n",
       "    <tr style=\"text-align: right;\">\n",
       "      <th></th>\n",
       "      <th>0</th>\n",
       "      <th>1</th>\n",
       "    </tr>\n",
       "  </thead>\n",
       "  <tbody>\n",
       "    <tr>\n",
       "      <th>0</th>\n",
       "      <td>pcp</td>\n",
       "      <td>-6.586214</td>\n",
       "    </tr>\n",
       "    <tr>\n",
       "      <th>1</th>\n",
       "      <td>tavg</td>\n",
       "      <td>0.000000</td>\n",
       "    </tr>\n",
       "    <tr>\n",
       "      <th>2</th>\n",
       "      <td>pdsi</td>\n",
       "      <td>-7.836073</td>\n",
       "    </tr>\n",
       "    <tr>\n",
       "      <th>3</th>\n",
       "      <td>phdi</td>\n",
       "      <td>-23.806909</td>\n",
       "    </tr>\n",
       "    <tr>\n",
       "      <th>4</th>\n",
       "      <td>zndx</td>\n",
       "      <td>-0.000000</td>\n",
       "    </tr>\n",
       "    <tr>\n",
       "      <th>5</th>\n",
       "      <td>pmdi</td>\n",
       "      <td>-0.000000</td>\n",
       "    </tr>\n",
       "    <tr>\n",
       "      <th>6</th>\n",
       "      <td>sp02</td>\n",
       "      <td>9.788130</td>\n",
       "    </tr>\n",
       "    <tr>\n",
       "      <th>7</th>\n",
       "      <td>sp03</td>\n",
       "      <td>-35.006379</td>\n",
       "    </tr>\n",
       "    <tr>\n",
       "      <th>8</th>\n",
       "      <td>sp06</td>\n",
       "      <td>16.718600</td>\n",
       "    </tr>\n",
       "    <tr>\n",
       "      <th>9</th>\n",
       "      <td>sp09</td>\n",
       "      <td>-40.066773</td>\n",
       "    </tr>\n",
       "    <tr>\n",
       "      <th>10</th>\n",
       "      <td>sp12</td>\n",
       "      <td>17.158252</td>\n",
       "    </tr>\n",
       "    <tr>\n",
       "      <th>11</th>\n",
       "      <td>sp24</td>\n",
       "      <td>48.383787</td>\n",
       "    </tr>\n",
       "    <tr>\n",
       "      <th>12</th>\n",
       "      <td>tmin</td>\n",
       "      <td>-185.646105</td>\n",
       "    </tr>\n",
       "    <tr>\n",
       "      <th>13</th>\n",
       "      <td>tmax</td>\n",
       "      <td>243.325586</td>\n",
       "    </tr>\n",
       "    <tr>\n",
       "      <th>14</th>\n",
       "      <td>month_2</td>\n",
       "      <td>4.870151</td>\n",
       "    </tr>\n",
       "    <tr>\n",
       "      <th>15</th>\n",
       "      <td>month_3</td>\n",
       "      <td>-0.772362</td>\n",
       "    </tr>\n",
       "    <tr>\n",
       "      <th>16</th>\n",
       "      <td>month_4</td>\n",
       "      <td>-4.284069</td>\n",
       "    </tr>\n",
       "    <tr>\n",
       "      <th>17</th>\n",
       "      <td>month_5</td>\n",
       "      <td>-8.555385</td>\n",
       "    </tr>\n",
       "    <tr>\n",
       "      <th>18</th>\n",
       "      <td>month_6</td>\n",
       "      <td>0.000000</td>\n",
       "    </tr>\n",
       "    <tr>\n",
       "      <th>19</th>\n",
       "      <td>month_7</td>\n",
       "      <td>-11.755989</td>\n",
       "    </tr>\n",
       "    <tr>\n",
       "      <th>20</th>\n",
       "      <td>month_8</td>\n",
       "      <td>0.000000</td>\n",
       "    </tr>\n",
       "    <tr>\n",
       "      <th>21</th>\n",
       "      <td>month_9</td>\n",
       "      <td>-33.300558</td>\n",
       "    </tr>\n",
       "    <tr>\n",
       "      <th>22</th>\n",
       "      <td>month_10</td>\n",
       "      <td>4.965136</td>\n",
       "    </tr>\n",
       "    <tr>\n",
       "      <th>23</th>\n",
       "      <td>month_11</td>\n",
       "      <td>4.528042</td>\n",
       "    </tr>\n",
       "    <tr>\n",
       "      <th>24</th>\n",
       "      <td>month_12</td>\n",
       "      <td>6.532421</td>\n",
       "    </tr>\n",
       "    <tr>\n",
       "      <th>25</th>\n",
       "      <td>statecode_4</td>\n",
       "      <td>27.566602</td>\n",
       "    </tr>\n",
       "    <tr>\n",
       "      <th>26</th>\n",
       "      <td>statecode_5</td>\n",
       "      <td>0.000000</td>\n",
       "    </tr>\n",
       "    <tr>\n",
       "      <th>27</th>\n",
       "      <td>statecode_10</td>\n",
       "      <td>89.129967</td>\n",
       "    </tr>\n",
       "    <tr>\n",
       "      <th>28</th>\n",
       "      <td>statecode_24</td>\n",
       "      <td>27.167022</td>\n",
       "    </tr>\n",
       "    <tr>\n",
       "      <th>29</th>\n",
       "      <td>statecode_26</td>\n",
       "      <td>80.831819</td>\n",
       "    </tr>\n",
       "    <tr>\n",
       "      <th>30</th>\n",
       "      <td>statecode_29</td>\n",
       "      <td>18.577332</td>\n",
       "    </tr>\n",
       "    <tr>\n",
       "      <th>31</th>\n",
       "      <td>statecode_35</td>\n",
       "      <td>29.873358</td>\n",
       "    </tr>\n",
       "    <tr>\n",
       "      <th>32</th>\n",
       "      <td>statecode_45</td>\n",
       "      <td>57.885970</td>\n",
       "    </tr>\n",
       "    <tr>\n",
       "      <th>33</th>\n",
       "      <td>statecode_110</td>\n",
       "      <td>33.480637</td>\n",
       "    </tr>\n",
       "  </tbody>\n",
       "</table>\n",
       "</div>"
      ],
      "text/plain": [
       "                0           1\n",
       "0             pcp   -6.586214\n",
       "1            tavg    0.000000\n",
       "2            pdsi   -7.836073\n",
       "3            phdi  -23.806909\n",
       "4            zndx   -0.000000\n",
       "5            pmdi   -0.000000\n",
       "6            sp02    9.788130\n",
       "7            sp03  -35.006379\n",
       "8            sp06   16.718600\n",
       "9            sp09  -40.066773\n",
       "10           sp12   17.158252\n",
       "11           sp24   48.383787\n",
       "12           tmin -185.646105\n",
       "13           tmax  243.325586\n",
       "14        month_2    4.870151\n",
       "15        month_3   -0.772362\n",
       "16        month_4   -4.284069\n",
       "17        month_5   -8.555385\n",
       "18        month_6    0.000000\n",
       "19        month_7  -11.755989\n",
       "20        month_8    0.000000\n",
       "21        month_9  -33.300558\n",
       "22       month_10    4.965136\n",
       "23       month_11    4.528042\n",
       "24       month_12    6.532421\n",
       "25    statecode_4   27.566602\n",
       "26    statecode_5    0.000000\n",
       "27   statecode_10   89.129967\n",
       "28   statecode_24   27.167022\n",
       "29   statecode_26   80.831819\n",
       "30   statecode_29   18.577332\n",
       "31   statecode_35   29.873358\n",
       "32   statecode_45   57.885970\n",
       "33  statecode_110   33.480637"
      ]
     },
     "execution_count": 72,
     "metadata": {},
     "output_type": "execute_result"
    }
   ],
   "source": [
    "feature_importance = pd.DataFrame(list(zip(X_train.columns, lasso_coef_eval.coef_)))\n",
    "feature_importance"
   ]
  },
  {
   "cell_type": "markdown",
   "metadata": {},
   "source": [
    "#### Log Transform"
   ]
  },
  {
   "cell_type": "code",
   "execution_count": null,
   "metadata": {},
   "outputs": [],
   "source": [
    "lasso_pipe = Pipeline([\n",
    "    ('sc', StandardScaler()),\n",
    "    ('lassocv', Lasso())\n",
    "])"
   ]
  },
  {
   "cell_type": "code",
   "execution_count": null,
   "metadata": {},
   "outputs": [],
   "source": [
    "lasso_params = {'lassocv__alpha':np.logspace(0, 3, 1000),\n",
    "               'lassocv__max_iter':[1000],\n",
    "               }"
   ]
  },
  {
   "cell_type": "code",
   "execution_count": null,
   "metadata": {},
   "outputs": [],
   "source": [
    "%%time\n",
    "lasso_pipe_gridsearch = GridSearchCV(lasso_pipe, \n",
    "                                param_grid=lasso_params,\n",
    "                                verbose = 2,\n",
    "                                #cv = 5,\n",
    "                                scoring = 'r2',\n",
    "                                n_jobs = -1\n",
    "                                )"
   ]
  },
  {
   "cell_type": "code",
   "execution_count": null,
   "metadata": {},
   "outputs": [],
   "source": [
    "%%time\n",
    "lasso_pipe_gridsearch.fit(X_train_log, y_train_log)"
   ]
  },
  {
   "cell_type": "code",
   "execution_count": null,
   "metadata": {},
   "outputs": [],
   "source": [
    "lasso_pipe_gridsearch.best_estimator_"
   ]
  },
  {
   "cell_type": "code",
   "execution_count": null,
   "metadata": {},
   "outputs": [],
   "source": [
    "####BEST HYPERPARAMATERS\n",
    "# Pipeline(memory=None,\n",
    "#          steps=[('sc',\n",
    "#                  StandardScaler(copy=True, with_mean=True, with_std=True)),\n",
    "#                 ('lassocv',\n",
    "#                  Lasso(alpha=1.0, copy_X=True, fit_intercept=True,\n",
    "#                        max_iter=1000, normalize=False, positive=False,\n",
    "#                        precompute=False, random_state=None, selection='cyclic',\n",
    "#                        tol=0.0001, warm_start=True))],\n",
    "#          verbose=False)\n"
   ]
  },
  {
   "cell_type": "markdown",
   "metadata": {},
   "source": [
    "##### Coef_eval"
   ]
  },
  {
   "cell_type": "code",
   "execution_count": 73,
   "metadata": {},
   "outputs": [],
   "source": [
    "lasso_sc = StandardScaler()\n",
    "lasso_Z_train = lasso_sc.fit_transform(X_train_log)\n",
    "lasso_Z_test = lasso_sc.fit_transform(X_test_log)"
   ]
  },
  {
   "cell_type": "code",
   "execution_count": 74,
   "metadata": {},
   "outputs": [],
   "source": [
    "lasso_coef_eval = Lasso(alpha = 1, max_iter=10000)"
   ]
  },
  {
   "cell_type": "code",
   "execution_count": 75,
   "metadata": {},
   "outputs": [
    {
     "name": "stdout",
     "output_type": "stream",
     "text": [
      "(336133, 34)\n",
      "(336133, 1)\n"
     ]
    }
   ],
   "source": [
    "print(lasso_Z_train.shape)\n",
    "print(y_train_log.shape)"
   ]
  },
  {
   "cell_type": "code",
   "execution_count": 76,
   "metadata": {},
   "outputs": [
    {
     "name": "stdout",
     "output_type": "stream",
     "text": [
      "Lasso R^2 Cross Validated Score: -0.0\n"
     ]
    }
   ],
   "source": [
    "lasso_coef_eval.fit(lasso_Z_train, y_train_log)\n",
    "print(f'Lasso R^2 Cross Validated Score: {round(cross_val_score(lasso_coef_eval, lasso_Z_train, y_train_log).mean(),4)}') "
   ]
  },
  {
   "cell_type": "code",
   "execution_count": 77,
   "metadata": {},
   "outputs": [
    {
     "data": {
      "text/plain": [
       "array([-0.97060616])"
      ]
     },
     "execution_count": 77,
     "metadata": {},
     "output_type": "execute_result"
    }
   ],
   "source": [
    "lasso_coef_eval.intercept_"
   ]
  },
  {
   "cell_type": "code",
   "execution_count": 78,
   "metadata": {},
   "outputs": [
    {
     "data": {
      "text/html": [
       "<div>\n",
       "<style scoped>\n",
       "    .dataframe tbody tr th:only-of-type {\n",
       "        vertical-align: middle;\n",
       "    }\n",
       "\n",
       "    .dataframe tbody tr th {\n",
       "        vertical-align: top;\n",
       "    }\n",
       "\n",
       "    .dataframe thead th {\n",
       "        text-align: right;\n",
       "    }\n",
       "</style>\n",
       "<table border=\"1\" class=\"dataframe\">\n",
       "  <thead>\n",
       "    <tr style=\"text-align: right;\">\n",
       "      <th></th>\n",
       "      <th>0</th>\n",
       "      <th>1</th>\n",
       "    </tr>\n",
       "  </thead>\n",
       "  <tbody>\n",
       "    <tr>\n",
       "      <th>0</th>\n",
       "      <td>pcp</td>\n",
       "      <td>-0.0</td>\n",
       "    </tr>\n",
       "    <tr>\n",
       "      <th>1</th>\n",
       "      <td>tavg</td>\n",
       "      <td>-0.0</td>\n",
       "    </tr>\n",
       "    <tr>\n",
       "      <th>2</th>\n",
       "      <td>pdsi</td>\n",
       "      <td>0.0</td>\n",
       "    </tr>\n",
       "    <tr>\n",
       "      <th>3</th>\n",
       "      <td>phdi</td>\n",
       "      <td>0.0</td>\n",
       "    </tr>\n",
       "    <tr>\n",
       "      <th>4</th>\n",
       "      <td>zndx</td>\n",
       "      <td>-0.0</td>\n",
       "    </tr>\n",
       "    <tr>\n",
       "      <th>5</th>\n",
       "      <td>pmdi</td>\n",
       "      <td>0.0</td>\n",
       "    </tr>\n",
       "    <tr>\n",
       "      <th>6</th>\n",
       "      <td>sp02</td>\n",
       "      <td>-0.0</td>\n",
       "    </tr>\n",
       "    <tr>\n",
       "      <th>7</th>\n",
       "      <td>sp03</td>\n",
       "      <td>-0.0</td>\n",
       "    </tr>\n",
       "    <tr>\n",
       "      <th>8</th>\n",
       "      <td>sp06</td>\n",
       "      <td>-0.0</td>\n",
       "    </tr>\n",
       "    <tr>\n",
       "      <th>9</th>\n",
       "      <td>sp09</td>\n",
       "      <td>0.0</td>\n",
       "    </tr>\n",
       "    <tr>\n",
       "      <th>10</th>\n",
       "      <td>sp12</td>\n",
       "      <td>0.0</td>\n",
       "    </tr>\n",
       "    <tr>\n",
       "      <th>11</th>\n",
       "      <td>sp24</td>\n",
       "      <td>0.0</td>\n",
       "    </tr>\n",
       "    <tr>\n",
       "      <th>12</th>\n",
       "      <td>tmin</td>\n",
       "      <td>-0.0</td>\n",
       "    </tr>\n",
       "    <tr>\n",
       "      <th>13</th>\n",
       "      <td>tmax</td>\n",
       "      <td>0.0</td>\n",
       "    </tr>\n",
       "    <tr>\n",
       "      <th>14</th>\n",
       "      <td>month_2</td>\n",
       "      <td>0.0</td>\n",
       "    </tr>\n",
       "    <tr>\n",
       "      <th>15</th>\n",
       "      <td>month_3</td>\n",
       "      <td>0.0</td>\n",
       "    </tr>\n",
       "    <tr>\n",
       "      <th>16</th>\n",
       "      <td>month_4</td>\n",
       "      <td>0.0</td>\n",
       "    </tr>\n",
       "    <tr>\n",
       "      <th>17</th>\n",
       "      <td>month_5</td>\n",
       "      <td>0.0</td>\n",
       "    </tr>\n",
       "    <tr>\n",
       "      <th>18</th>\n",
       "      <td>month_6</td>\n",
       "      <td>0.0</td>\n",
       "    </tr>\n",
       "    <tr>\n",
       "      <th>19</th>\n",
       "      <td>month_7</td>\n",
       "      <td>-0.0</td>\n",
       "    </tr>\n",
       "    <tr>\n",
       "      <th>20</th>\n",
       "      <td>month_8</td>\n",
       "      <td>-0.0</td>\n",
       "    </tr>\n",
       "    <tr>\n",
       "      <th>21</th>\n",
       "      <td>month_9</td>\n",
       "      <td>-0.0</td>\n",
       "    </tr>\n",
       "    <tr>\n",
       "      <th>22</th>\n",
       "      <td>month_10</td>\n",
       "      <td>-0.0</td>\n",
       "    </tr>\n",
       "    <tr>\n",
       "      <th>23</th>\n",
       "      <td>month_11</td>\n",
       "      <td>-0.0</td>\n",
       "    </tr>\n",
       "    <tr>\n",
       "      <th>24</th>\n",
       "      <td>month_12</td>\n",
       "      <td>-0.0</td>\n",
       "    </tr>\n",
       "    <tr>\n",
       "      <th>25</th>\n",
       "      <td>statecode_4</td>\n",
       "      <td>-0.0</td>\n",
       "    </tr>\n",
       "    <tr>\n",
       "      <th>26</th>\n",
       "      <td>statecode_5</td>\n",
       "      <td>-0.0</td>\n",
       "    </tr>\n",
       "    <tr>\n",
       "      <th>27</th>\n",
       "      <td>statecode_10</td>\n",
       "      <td>0.0</td>\n",
       "    </tr>\n",
       "    <tr>\n",
       "      <th>28</th>\n",
       "      <td>statecode_24</td>\n",
       "      <td>0.0</td>\n",
       "    </tr>\n",
       "    <tr>\n",
       "      <th>29</th>\n",
       "      <td>statecode_26</td>\n",
       "      <td>0.0</td>\n",
       "    </tr>\n",
       "    <tr>\n",
       "      <th>30</th>\n",
       "      <td>statecode_29</td>\n",
       "      <td>0.0</td>\n",
       "    </tr>\n",
       "    <tr>\n",
       "      <th>31</th>\n",
       "      <td>statecode_35</td>\n",
       "      <td>-0.0</td>\n",
       "    </tr>\n",
       "    <tr>\n",
       "      <th>32</th>\n",
       "      <td>statecode_45</td>\n",
       "      <td>-0.0</td>\n",
       "    </tr>\n",
       "    <tr>\n",
       "      <th>33</th>\n",
       "      <td>statecode_110</td>\n",
       "      <td>0.0</td>\n",
       "    </tr>\n",
       "  </tbody>\n",
       "</table>\n",
       "</div>"
      ],
      "text/plain": [
       "                0    1\n",
       "0             pcp -0.0\n",
       "1            tavg -0.0\n",
       "2            pdsi  0.0\n",
       "3            phdi  0.0\n",
       "4            zndx -0.0\n",
       "5            pmdi  0.0\n",
       "6            sp02 -0.0\n",
       "7            sp03 -0.0\n",
       "8            sp06 -0.0\n",
       "9            sp09  0.0\n",
       "10           sp12  0.0\n",
       "11           sp24  0.0\n",
       "12           tmin -0.0\n",
       "13           tmax  0.0\n",
       "14        month_2  0.0\n",
       "15        month_3  0.0\n",
       "16        month_4  0.0\n",
       "17        month_5  0.0\n",
       "18        month_6  0.0\n",
       "19        month_7 -0.0\n",
       "20        month_8 -0.0\n",
       "21        month_9 -0.0\n",
       "22       month_10 -0.0\n",
       "23       month_11 -0.0\n",
       "24       month_12 -0.0\n",
       "25    statecode_4 -0.0\n",
       "26    statecode_5 -0.0\n",
       "27   statecode_10  0.0\n",
       "28   statecode_24  0.0\n",
       "29   statecode_26  0.0\n",
       "30   statecode_29  0.0\n",
       "31   statecode_35 -0.0\n",
       "32   statecode_45 -0.0\n",
       "33  statecode_110  0.0"
      ]
     },
     "execution_count": 78,
     "metadata": {},
     "output_type": "execute_result"
    }
   ],
   "source": [
    "feature_importance = pd.DataFrame(list(zip(X_train_log.columns, lasso_coef_eval.coef_)))\n",
    "feature_importance\n",
    "# The L1 penalty is not kind."
   ]
  },
  {
   "cell_type": "markdown",
   "metadata": {},
   "source": [
    "This is telling us what we know. That is hardly any relationship between the features and target."
   ]
  },
  {
   "cell_type": "markdown",
   "metadata": {},
   "source": [
    "## Model # 5, RidgeCV, L1 penalty is not kind to our model. Trying L2."
   ]
  },
  {
   "cell_type": "markdown",
   "metadata": {},
   "source": [
    "#### Log Transform"
   ]
  },
  {
   "cell_type": "markdown",
   "metadata": {},
   "source": [
    "Too lazy to set-up gridsearch on this. Just exploring L2. If I like L2 I will run RidgeCV for polynomial features"
   ]
  },
  {
   "cell_type": "code",
   "execution_count": 79,
   "metadata": {},
   "outputs": [
    {
     "name": "stdout",
     "output_type": "stream",
     "text": [
      "Wall time: 1min 41s\n"
     ]
    },
    {
     "data": {
      "text/plain": [
       "RidgeCV(alphas=array([1.00000000e+00, 1.12332403e+00, 1.26185688e+00, 1.41747416e+00,\n",
       "       1.59228279e+00, 1.78864953e+00, 2.00923300e+00, 2.25701972e+00,\n",
       "       2.53536449e+00, 2.84803587e+00, 3.19926714e+00, 3.59381366e+00,\n",
       "       4.03701726e+00, 4.53487851e+00, 5.09413801e+00, 5.72236766e+00,\n",
       "       6.42807312e+00, 7.22080902e+00, 8.11130831e+00, 9.11162756e+00,\n",
       "       1.02353102e+01, 1.14975700e+0...\n",
       "       6.89261210e+03, 7.74263683e+03, 8.69749003e+03, 9.77009957e+03,\n",
       "       1.09749877e+04, 1.23284674e+04, 1.38488637e+04, 1.55567614e+04,\n",
       "       1.74752840e+04, 1.96304065e+04, 2.20513074e+04, 2.47707636e+04,\n",
       "       2.78255940e+04, 3.12571585e+04, 3.51119173e+04, 3.94420606e+04,\n",
       "       4.43062146e+04, 4.97702356e+04, 5.59081018e+04, 6.28029144e+04,\n",
       "       7.05480231e+04, 7.92482898e+04, 8.90215085e+04, 1.00000000e+05]),\n",
       "        cv=5, scoring='r2')"
      ]
     },
     "execution_count": 79,
     "metadata": {},
     "output_type": "execute_result"
    }
   ],
   "source": [
    "%%time\n",
    "# Set up a list of ridge alphas to check.\n",
    "# np.logspace generates 100 values equally between 0 and 5,\n",
    "# then converts them to alphas between 10^0 and 10^5.\n",
    "r_alphas = np.logspace(0, 5, 100)\n",
    "\n",
    "# Cross-validate over our list of ridge alphas.\n",
    "ridge_cv = RidgeCV(alphas=r_alphas, scoring='r2', cv=5)\n",
    "\n",
    "# Fit model using best ridge alpha!\n",
    "ridge_cv.fit(Z_train, y_train_log);"
   ]
  },
  {
   "cell_type": "code",
   "execution_count": 80,
   "metadata": {},
   "outputs": [
    {
     "name": "stdout",
     "output_type": "stream",
     "text": [
      "93.26033468832199\n"
     ]
    }
   ],
   "source": [
    "# Here is the optimal value of alpha\n",
    "alpha = ridge_cv.alpha_\n",
    "print(alpha)"
   ]
  },
  {
   "cell_type": "code",
   "execution_count": 81,
   "metadata": {},
   "outputs": [
    {
     "name": "stdout",
     "output_type": "stream",
     "text": [
      " RidgeCV Regression training R^2 score: 0.042\n",
      " RidgeCV Regression test R^2 score: 0.04\n"
     ]
    }
   ],
   "source": [
    "print(f' RidgeCV Regression training R^2 score: {round(ridge_cv.score(Z_train, y_train_log),4)}')\n",
    "print(f' RidgeCV Regression test R^2 score: {round(ridge_cv.score(Z_test, y_test_log),4)}')"
   ]
  },
  {
   "cell_type": "markdown",
   "metadata": {},
   "source": [
    "#### Coef_eval"
   ]
  },
  {
   "cell_type": "code",
   "execution_count": 84,
   "metadata": {},
   "outputs": [],
   "source": [
    "ridge = Ridge(alpha = 0.1, normalize = True, max_iter = 5000)"
   ]
  },
  {
   "cell_type": "code",
   "execution_count": 85,
   "metadata": {},
   "outputs": [],
   "source": [
    "# Fit model using best ridge alpha!\n",
    "ridge.fit(Z_train, y_train_log);"
   ]
  },
  {
   "cell_type": "code",
   "execution_count": 86,
   "metadata": {},
   "outputs": [
    {
     "data": {
      "text/plain": [
       "array([[-0.10597103,  0.00624961,  0.02834019,  0.05826395, -0.02732753,\n",
       "         0.04836971, -0.015419  , -0.07002075, -0.02305554, -0.05999929,\n",
       "        -0.02940821,  0.11230778, -0.04676365,  0.05259129,  0.01622141,\n",
       "         0.06507663,  0.06714808,  0.03086877,  0.04663301, -0.0268513 ,\n",
       "        -0.01613284, -0.05588345,  0.00183919,  0.00381788, -0.01299988,\n",
       "        -0.05313148, -0.06612872,  0.174374  ,  0.05267121,  0.12202401,\n",
       "         0.09808766, -0.18180946,  0.00294138,  0.14710329]])"
      ]
     },
     "execution_count": 86,
     "metadata": {},
     "output_type": "execute_result"
    }
   ],
   "source": [
    "ridge.coef_"
   ]
  },
  {
   "cell_type": "markdown",
   "metadata": {},
   "source": [
    "## Model #7, Elastic-Search Gridsearch, Exploring Polynomial Features"
   ]
  },
  {
   "cell_type": "markdown",
   "metadata": {},
   "source": [
    "#### Log Transform"
   ]
  },
  {
   "cell_type": "code",
   "execution_count": 88,
   "metadata": {},
   "outputs": [],
   "source": [
    "pipe_mario = Pipeline([\n",
    "            ('poly', PolynomialFeatures(degree=2)),\n",
    "            ('sc', StandardScaler()),\n",
    "            ('elasticnet', ElasticNet())\n",
    "                        ])"
   ]
  },
  {
   "cell_type": "code",
   "execution_count": 89,
   "metadata": {},
   "outputs": [],
   "source": [
    "parameters_mario = {'elasticnet__alpha': np.logspace(0, 4, 500),\n",
    "                      'elasticnet__normalize': [True, False],\n",
    "                      'elasticnet__selection': ['cyclic', 'random'],\n",
    "                        'elasticnet__max_iter': [10000],\n",
    "                        #'elasticnet__tol': [.1]\n",
    "                       }"
   ]
  },
  {
   "cell_type": "code",
   "execution_count": null,
   "metadata": {},
   "outputs": [
    {
     "name": "stdout",
     "output_type": "stream",
     "text": [
      "Fitting 5 folds for each of 2000 candidates, totalling 10000 fits\n"
     ]
    },
    {
     "name": "stderr",
     "output_type": "stream",
     "text": [
      "[Parallel(n_jobs=-1)]: Using backend LokyBackend with 8 concurrent workers.\n"
     ]
    }
   ],
   "source": [
    "elastic_net_model = GridSearchCV(\n",
    "                pipe_mario, \n",
    "                param_grid= parameters_mario,\n",
    "                verbose = 2,\n",
    "                #cv = 5,\n",
    "                scoring = 'r2',\n",
    "                n_jobs = -1\n",
    "                )\n",
    "elastic_net_model.fit(X_train_log, y_train_log)\n",
    "elastic_net_model.best_estimator_"
   ]
  },
  {
   "cell_type": "code",
   "execution_count": null,
   "metadata": {},
   "outputs": [],
   "source": [
    "print(f'ElasticNet Model R^2 Score: {round(elastic_net_model.best_score_,4)}')"
   ]
  },
  {
   "cell_type": "code",
   "execution_count": null,
   "metadata": {},
   "outputs": [],
   "source": []
  }
 ],
 "metadata": {
  "kernelspec": {
   "display_name": "Python 3",
   "language": "python",
   "name": "python3"
  },
  "language_info": {
   "codemirror_mode": {
    "name": "ipython",
    "version": 3
   },
   "file_extension": ".py",
   "mimetype": "text/x-python",
   "name": "python",
   "nbconvert_exporter": "python",
   "pygments_lexer": "ipython3",
   "version": "3.8.5"
  }
 },
 "nbformat": 4,
 "nbformat_minor": 4
}
