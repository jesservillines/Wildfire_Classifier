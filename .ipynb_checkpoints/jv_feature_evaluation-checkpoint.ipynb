{
 "cells": [
  {
   "cell_type": "markdown",
   "metadata": {
    "id": "9tYA0mgJhZZZ"
   },
   "source": [
    "# Imports"
   ]
  },
  {
   "cell_type": "code",
   "execution_count": 1,
   "metadata": {
    "colab": {
     "base_uri": "https://localhost:8080/"
    },
    "id": "kS0Pa-k_hZ2p",
    "outputId": "63f63999-29d0-4cc5-c6b6-23a0e346efec"
   },
   "outputs": [
    {
     "name": "stdout",
     "output_type": "stream",
     "text": [
      "Collecting pickle5\n",
      "\u001b[?25l  Downloading https://files.pythonhosted.org/packages/f7/4c/5c4dd0462c8d3a6bc4af500a6af240763c2ebd1efdc736fc2c946d44b70a/pickle5-0.0.11.tar.gz (132kB)\n",
      "\u001b[K     |████████████████████████████████| 133kB 6.8MB/s eta 0:00:01\n",
      "\u001b[?25hBuilding wheels for collected packages: pickle5\n",
      "  Building wheel for pickle5 (setup.py) ... \u001b[?25l\u001b[?25hdone\n",
      "  Created wheel for pickle5: filename=pickle5-0.0.11-cp36-cp36m-linux_x86_64.whl size=218621 sha256=fb87a89b24c83eb97a9c94bc8274953368c306c231842a9023efb3b402a70aec\n",
      "  Stored in directory: /root/.cache/pip/wheels/a6/90/95/f889ca4aa8b0e0c7f21c8470b6f5d6032f0390a3a141a9a3bd\n",
      "Successfully built pickle5\n",
      "Installing collected packages: pickle5\n",
      "Successfully installed pickle5-0.0.11\n"
     ]
    },
    {
     "name": "stderr",
     "output_type": "stream",
     "text": [
      "/usr/local/lib/python3.6/dist-packages/statsmodels/tools/_testing.py:19: FutureWarning: pandas.util.testing is deprecated. Use the functions in the public API at pandas.testing instead.\n",
      "  import pandas.util.testing as tm\n"
     ]
    }
   ],
   "source": [
    "from google.colab import drive \r\n",
    "import pandas as pd\r\n",
    "import numpy as ickle\r\n",
    "\r\n",
    "# standard imports\r\n",
    "import numpy as np\r\n",
    "import pandas as pd\r\n",
    "import matplotlib.pyplot as plt\r\n",
    "import seaborn as sns\r\n",
    "\r\n",
    "# modeling imports\r\n",
    "from sklearn.linear_model import LinearRegression, Ridge, RidgeCV, Lasso, LassoCV,ElasticNetCV, ElasticNet\r\n",
    "from sklearn.preprocessing import StandardScaler, PolynomialFeatures\r\n",
    "from sklearn.model_selection import train_test_split, cross_val_score, GridSearchCV\r\n",
    "from sklearn.pipeline import Pipeline\r\n",
    "from sklearn import metrics\r\n",
    "import statsmodels.api as sm\r\n",
    "\r\n",
    "#set_style\r\n",
    "plt.style.use('fivethirtyeight')\r\n",
    "\r\n",
    "%config InlineBackend.figure_format = 'retina'"
   ]
  },
  {
   "cell_type": "markdown",
   "metadata": {
    "id": "goK4GQi_g1nE"
   },
   "source": [
    "# Load data and prepare data"
   ]
  },
  {
   "cell_type": "markdown",
   "metadata": {
    "id": "e0odECyfnSfJ"
   },
   "source": [
    "### load"
   ]
  },
  {
   "cell_type": "code",
   "execution_count": 2,
   "metadata": {
    "colab": {
     "base_uri": "https://localhost:8080/"
    },
    "id": "k0poMusAg5tY",
    "outputId": "53df248e-f9ff-4aaf-e8bc-86e95be787aa"
   },
   "outputs": [
    {
     "name": "stdout",
     "output_type": "stream",
     "text": [
      "Mounted at /content/drive\n"
     ]
    }
   ],
   "source": [
    "#drive.mount('/content/drive')"
   ]
  },
  {
   "cell_type": "code",
   "execution_count": 3,
   "metadata": {
    "colab": {
     "base_uri": "https://localhost:8080/"
    },
    "id": "uAkgY2E8gUU6",
    "outputId": "3fa007a6-a27b-438c-d917-7080afb6053d"
   },
   "outputs": [
    {
     "name": "stdout",
     "output_type": "stream",
     "text": [
      "/content/drive/MyDrive/mfi_df_yr.csv\n"
     ]
    }
   ],
   "source": [
    "#ls \"/content/drive/MyDrive/mfi_df_yr.csv\""
   ]
  },
  {
   "cell_type": "code",
   "execution_count": 4,
   "metadata": {
    "id": "mPJ-lWhtgUXQ"
   },
   "outputs": [],
   "source": [
    "#model_df = pd.read_csv('/content/drive/MyDrive/mfi_df_yr.csv')\r\n",
    "model_df.drop(columns='Unnamed: 0', inplace=True)"
   ]
  },
  {
   "cell_type": "code",
   "execution_count": 5,
   "metadata": {
    "colab": {
     "base_uri": "https://localhost:8080/",
     "height": 213
    },
    "id": "wlE_LEJHjKS5",
    "outputId": "0e29810b-8594-4d94-9250-8ee7ee615db4"
   },
   "outputs": [
    {
     "data": {
      "text/html": [
       "<div>\n",
       "<style scoped>\n",
       "    .dataframe tbody tr th:only-of-type {\n",
       "        vertical-align: middle;\n",
       "    }\n",
       "\n",
       "    .dataframe tbody tr th {\n",
       "        vertical-align: top;\n",
       "    }\n",
       "\n",
       "    .dataframe thead th {\n",
       "        text-align: right;\n",
       "    }\n",
       "</style>\n",
       "<table border=\"1\" class=\"dataframe\">\n",
       "  <thead>\n",
       "    <tr style=\"text-align: right;\">\n",
       "      <th></th>\n",
       "      <th>fire_year</th>\n",
       "      <th>stat_cause_descr</th>\n",
       "      <th>fire_size</th>\n",
       "      <th>fire_size_class</th>\n",
       "      <th>state</th>\n",
       "      <th>cont_date_fixed</th>\n",
       "      <th>disc_date_fixed</th>\n",
       "      <th>time_burnt_fixed</th>\n",
       "      <th>time_burnt</th>\n",
       "      <th>month</th>\n",
       "      <th>year</th>\n",
       "      <th>statecode</th>\n",
       "      <th>division</th>\n",
       "      <th>yearmonth</th>\n",
       "      <th>pcp</th>\n",
       "      <th>tavg</th>\n",
       "      <th>pdsi</th>\n",
       "      <th>phdi</th>\n",
       "      <th>zndx</th>\n",
       "      <th>pmdi</th>\n",
       "      <th>cdd</th>\n",
       "      <th>hdd</th>\n",
       "      <th>sp02</th>\n",
       "      <th>sp03</th>\n",
       "      <th>sp06</th>\n",
       "      <th>sp09</th>\n",
       "      <th>sp12</th>\n",
       "      <th>sp24</th>\n",
       "      <th>tmin</th>\n",
       "      <th>tmax</th>\n",
       "    </tr>\n",
       "  </thead>\n",
       "  <tbody>\n",
       "    <tr>\n",
       "      <th>0</th>\n",
       "      <td>2005</td>\n",
       "      <td>Miscellaneous</td>\n",
       "      <td>0.10</td>\n",
       "      <td>A</td>\n",
       "      <td>CA</td>\n",
       "      <td>2005-02-02</td>\n",
       "      <td>2005-02-02</td>\n",
       "      <td>0 days 00:00:00.000000000</td>\n",
       "      <td>0.0</td>\n",
       "      <td>2</td>\n",
       "      <td>2005</td>\n",
       "      <td>4</td>\n",
       "      <td>0</td>\n",
       "      <td>200502</td>\n",
       "      <td>4.03</td>\n",
       "      <td>47.1</td>\n",
       "      <td>2.28</td>\n",
       "      <td>2.28</td>\n",
       "      <td>0.56</td>\n",
       "      <td>2.28</td>\n",
       "      <td>0</td>\n",
       "      <td>421</td>\n",
       "      <td>0.58</td>\n",
       "      <td>0.85</td>\n",
       "      <td>1.00</td>\n",
       "      <td>0.92</td>\n",
       "      <td>0.24</td>\n",
       "      <td>0.48</td>\n",
       "      <td>38.1</td>\n",
       "      <td>56.1</td>\n",
       "    </tr>\n",
       "    <tr>\n",
       "      <th>1</th>\n",
       "      <td>2004</td>\n",
       "      <td>Lightning</td>\n",
       "      <td>0.25</td>\n",
       "      <td>A</td>\n",
       "      <td>CA</td>\n",
       "      <td>2004-05-12</td>\n",
       "      <td>2004-05-12</td>\n",
       "      <td>0 days 00:00:00.000000000</td>\n",
       "      <td>0.0</td>\n",
       "      <td>5</td>\n",
       "      <td>2004</td>\n",
       "      <td>4</td>\n",
       "      <td>0</td>\n",
       "      <td>200405</td>\n",
       "      <td>0.45</td>\n",
       "      <td>63.2</td>\n",
       "      <td>-2.15</td>\n",
       "      <td>-2.15</td>\n",
       "      <td>-1.89</td>\n",
       "      <td>-2.15</td>\n",
       "      <td>56</td>\n",
       "      <td>126</td>\n",
       "      <td>-1.19</td>\n",
       "      <td>-1.86</td>\n",
       "      <td>-0.05</td>\n",
       "      <td>-0.32</td>\n",
       "      <td>-0.31</td>\n",
       "      <td>-0.04</td>\n",
       "      <td>49.2</td>\n",
       "      <td>77.2</td>\n",
       "    </tr>\n",
       "    <tr>\n",
       "      <th>2</th>\n",
       "      <td>2004</td>\n",
       "      <td>Debris Burning</td>\n",
       "      <td>0.10</td>\n",
       "      <td>A</td>\n",
       "      <td>CA</td>\n",
       "      <td>2004-05-31</td>\n",
       "      <td>2004-05-31</td>\n",
       "      <td>0 days 00:00:00.000000000</td>\n",
       "      <td>0.0</td>\n",
       "      <td>5</td>\n",
       "      <td>2004</td>\n",
       "      <td>4</td>\n",
       "      <td>0</td>\n",
       "      <td>200405</td>\n",
       "      <td>0.45</td>\n",
       "      <td>63.2</td>\n",
       "      <td>-2.15</td>\n",
       "      <td>-2.15</td>\n",
       "      <td>-1.89</td>\n",
       "      <td>-2.15</td>\n",
       "      <td>56</td>\n",
       "      <td>126</td>\n",
       "      <td>-1.19</td>\n",
       "      <td>-1.86</td>\n",
       "      <td>-0.05</td>\n",
       "      <td>-0.32</td>\n",
       "      <td>-0.31</td>\n",
       "      <td>-0.04</td>\n",
       "      <td>49.2</td>\n",
       "      <td>77.2</td>\n",
       "    </tr>\n",
       "  </tbody>\n",
       "</table>\n",
       "</div>"
      ],
      "text/plain": [
       "   fire_year stat_cause_descr  fire_size  ...  sp24  tmin  tmax\n",
       "0       2005    Miscellaneous       0.10  ...  0.48  38.1  56.1\n",
       "1       2004        Lightning       0.25  ... -0.04  49.2  77.2\n",
       "2       2004   Debris Burning       0.10  ... -0.04  49.2  77.2\n",
       "\n",
       "[3 rows x 30 columns]"
      ]
     },
     "execution_count": 5,
     "metadata": {
      "tags": []
     },
     "output_type": "execute_result"
    }
   ],
   "source": [
    "model_df.head(3)\r\n"
   ]
  },
  {
   "cell_type": "markdown",
   "metadata": {
    "id": "Y2VnLxt4nUxY"
   },
   "source": [
    "### prepare"
   ]
  },
  {
   "cell_type": "code",
   "execution_count": 6,
   "metadata": {
    "colab": {
     "base_uri": "https://localhost:8080/"
    },
    "id": "ah3Pq2k-mj1Q",
    "outputId": "0c534f19-1189-4f62-ca4d-a1489c3f27e2"
   },
   "outputs": [
    {
     "data": {
      "text/plain": [
       "Index(['fire_year', 'stat_cause_descr', 'fire_size', 'fire_size_class',\n",
       "       'state', 'cont_date_fixed', 'disc_date_fixed', 'time_burnt_fixed',\n",
       "       'time_burnt', 'month', 'year', 'statecode', 'division', 'yearmonth',\n",
       "       'pcp', 'tavg', 'pdsi', 'phdi', 'zndx', 'pmdi', 'cdd', 'hdd', 'sp02',\n",
       "       'sp03', 'sp06', 'sp09', 'sp12', 'sp24', 'tmin', 'tmax'],\n",
       "      dtype='object')"
      ]
     },
     "execution_count": 6,
     "metadata": {
      "tags": []
     },
     "output_type": "execute_result"
    }
   ],
   "source": [
    "model_df.columns"
   ]
  },
  {
   "cell_type": "code",
   "execution_count": 7,
   "metadata": {
    "id": "r8llxxR5mW-p"
   },
   "outputs": [],
   "source": [
    "#create X and y variables\r\n",
    "X = model_df[['time_burnt', 'pcp', 'tavg', 'pdsi', 'phdi', 'zndx', 'pmdi', 'cdd', 'hdd', 'sp02',\r\n",
    "       'sp03', 'sp06', 'sp09', 'sp12', 'sp24', 'tmin', 'tmax']]\r\n",
    "y = model_df[['fire_size']]\r\n",
    "\r\n",
    "assert len(X) == len(y)"
   ]
  },
  {
   "cell_type": "code",
   "execution_count": 8,
   "metadata": {
    "id": "_zHBwwsIm32a"
   },
   "outputs": [],
   "source": [
    "#split into training and test groups\r\n",
    "X_train, X_test, y_train, y_test = train_test_split(X, y, random_state = 42, test_size=.2, train_size = .8)"
   ]
  },
  {
   "cell_type": "markdown",
   "metadata": {
    "id": "LFpMkGgantb0"
   },
   "source": [
    "# Models"
   ]
  },
  {
   "cell_type": "markdown",
   "metadata": {
    "id": "VQQido-tnk9L"
   },
   "source": [
    "### Model #1 -- OLS, not scaled. As baseline for regression."
   ]
  },
  {
   "cell_type": "code",
   "execution_count": 9,
   "metadata": {
    "colab": {
     "base_uri": "https://localhost:8080/"
    },
    "id": "NuczQefcnpX1",
    "outputId": "edd67cfe-b2f6-4501-c345-d4dcfc180fdc"
   },
   "outputs": [
    {
     "name": "stdout",
     "output_type": "stream",
     "text": [
      " Unscaled Linear Regression training R^2 score: 0.0237\n",
      " Unscaled Linear Regression test R^2 score: 0.0392\n"
     ]
    }
   ],
   "source": [
    "#Instantiate, fit and score \r\n",
    "lr = LinearRegression()\r\n",
    "lr.fit(X=X_train, y=y_train)\r\n",
    "print(f' Unscaled Linear Regression training R^2 score: {round(lr.score(X=X_train, y=y_train),4)}')\r\n",
    "print(f' Unscaled Linear Regression test R^2 score: {round(lr.score(X_test, y_test),4)}')"
   ]
  },
  {
   "cell_type": "markdown",
   "metadata": {
    "id": "XXp95GZYoBqr"
   },
   "source": [
    "### Model #2, Statsmodel for stastical significance testing"
   ]
  },
  {
   "cell_type": "code",
   "execution_count": 10,
   "metadata": {
    "id": "VO3_49eunyq_"
   },
   "outputs": [],
   "source": [
    "#fit model\r\n",
    "X = sm.add_constant(X)\r\n",
    "ols = sm.OLS(y, X).fit()"
   ]
  },
  {
   "cell_type": "code",
   "execution_count": 11,
   "metadata": {
    "colab": {
     "base_uri": "https://localhost:8080/",
     "height": 814
    },
    "id": "oQmKyCH_n60c",
    "outputId": "f0b22c7e-1394-4d7a-d7b6-cb6036702812"
   },
   "outputs": [
    {
     "data": {
      "text/html": [
       "<table class=\"simpletable\">\n",
       "<caption>OLS Regression Results</caption>\n",
       "<tr>\n",
       "  <th>Dep. Variable:</th>        <td>fire_size</td>    <th>  R-squared:         </th>  <td>   0.026</td>  \n",
       "</tr>\n",
       "<tr>\n",
       "  <th>Model:</th>                   <td>OLS</td>       <th>  Adj. R-squared:    </th>  <td>   0.026</td>  \n",
       "</tr>\n",
       "<tr>\n",
       "  <th>Method:</th>             <td>Least Squares</td>  <th>  F-statistic:       </th>  <td>   654.8</td>  \n",
       "</tr>\n",
       "<tr>\n",
       "  <th>Date:</th>             <td>Fri, 22 Jan 2021</td> <th>  Prob (F-statistic):</th>   <td>  0.00</td>   \n",
       "</tr>\n",
       "<tr>\n",
       "  <th>Time:</th>                 <td>01:16:17</td>     <th>  Log-Likelihood:    </th> <td>-4.0269e+06</td>\n",
       "</tr>\n",
       "<tr>\n",
       "  <th>No. Observations:</th>      <td>420167</td>      <th>  AIC:               </th>  <td>8.054e+06</td> \n",
       "</tr>\n",
       "<tr>\n",
       "  <th>Df Residuals:</th>          <td>420149</td>      <th>  BIC:               </th>  <td>8.054e+06</td> \n",
       "</tr>\n",
       "<tr>\n",
       "  <th>Df Model:</th>              <td>    17</td>      <th>                     </th>      <td> </td>     \n",
       "</tr>\n",
       "<tr>\n",
       "  <th>Covariance Type:</th>      <td>nonrobust</td>    <th>                     </th>      <td> </td>     \n",
       "</tr>\n",
       "</table>\n",
       "<table class=\"simpletable\">\n",
       "<tr>\n",
       "       <td></td>         <th>coef</th>     <th>std err</th>      <th>t</th>      <th>P>|t|</th>  <th>[0.025</th>    <th>0.975]</th>  \n",
       "</tr>\n",
       "<tr>\n",
       "  <th>const</th>      <td>   87.3888</td> <td>  163.489</td> <td>    0.535</td> <td> 0.593</td> <td> -233.045</td> <td>  407.823</td>\n",
       "</tr>\n",
       "<tr>\n",
       "  <th>time_burnt</th> <td>   66.2722</td> <td>    0.639</td> <td>  103.637</td> <td> 0.000</td> <td>   65.019</td> <td>   67.526</td>\n",
       "</tr>\n",
       "<tr>\n",
       "  <th>pcp</th>        <td>  -33.3929</td> <td>    7.929</td> <td>   -4.211</td> <td> 0.000</td> <td>  -48.934</td> <td>  -17.852</td>\n",
       "</tr>\n",
       "<tr>\n",
       "  <th>tavg</th>       <td> -146.4825</td> <td>  155.275</td> <td>   -0.943</td> <td> 0.345</td> <td> -450.817</td> <td>  157.852</td>\n",
       "</tr>\n",
       "<tr>\n",
       "  <th>pdsi</th>       <td>   -3.2429</td> <td>    6.136</td> <td>   -0.528</td> <td> 0.597</td> <td>  -15.270</td> <td>    8.784</td>\n",
       "</tr>\n",
       "<tr>\n",
       "  <th>phdi</th>       <td>   13.5782</td> <td>   11.115</td> <td>    1.222</td> <td> 0.222</td> <td>   -8.207</td> <td>   35.364</td>\n",
       "</tr>\n",
       "<tr>\n",
       "  <th>zndx</th>       <td>   10.7172</td> <td>    6.314</td> <td>    1.697</td> <td> 0.090</td> <td>   -1.658</td> <td>   23.092</td>\n",
       "</tr>\n",
       "<tr>\n",
       "  <th>pmdi</th>       <td>  -28.5045</td> <td>   13.412</td> <td>   -2.125</td> <td> 0.034</td> <td>  -54.791</td> <td>   -2.218</td>\n",
       "</tr>\n",
       "<tr>\n",
       "  <th>cdd</th>        <td>    0.3098</td> <td>    0.053</td> <td>    5.831</td> <td> 0.000</td> <td>    0.206</td> <td>    0.414</td>\n",
       "</tr>\n",
       "<tr>\n",
       "  <th>hdd</th>        <td>   -0.2795</td> <td>    0.089</td> <td>   -3.148</td> <td> 0.002</td> <td>   -0.454</td> <td>   -0.106</td>\n",
       "</tr>\n",
       "<tr>\n",
       "  <th>sp02</th>       <td>   13.0906</td> <td>   10.788</td> <td>    1.213</td> <td> 0.225</td> <td>   -8.053</td> <td>   34.234</td>\n",
       "</tr>\n",
       "<tr>\n",
       "  <th>sp03</th>       <td>  -17.4318</td> <td>   10.869</td> <td>   -1.604</td> <td> 0.109</td> <td>  -38.735</td> <td>    3.871</td>\n",
       "</tr>\n",
       "<tr>\n",
       "  <th>sp06</th>       <td>    8.5293</td> <td>    9.839</td> <td>    0.867</td> <td> 0.386</td> <td>  -10.755</td> <td>   27.813</td>\n",
       "</tr>\n",
       "<tr>\n",
       "  <th>sp09</th>       <td>  -25.1518</td> <td>   14.098</td> <td>   -1.784</td> <td> 0.074</td> <td>  -52.784</td> <td>    2.481</td>\n",
       "</tr>\n",
       "<tr>\n",
       "  <th>sp12</th>       <td>    2.3623</td> <td>   13.883</td> <td>    0.170</td> <td> 0.865</td> <td>  -24.847</td> <td>   29.572</td>\n",
       "</tr>\n",
       "<tr>\n",
       "  <th>sp24</th>       <td>   61.8567</td> <td>    7.874</td> <td>    7.856</td> <td> 0.000</td> <td>   46.424</td> <td>   77.289</td>\n",
       "</tr>\n",
       "<tr>\n",
       "  <th>tmin</th>       <td>   49.3841</td> <td>   77.640</td> <td>    0.636</td> <td> 0.525</td> <td> -102.789</td> <td>  201.557</td>\n",
       "</tr>\n",
       "<tr>\n",
       "  <th>tmax</th>       <td>   87.9493</td> <td>   77.775</td> <td>    1.131</td> <td> 0.258</td> <td>  -64.488</td> <td>  240.386</td>\n",
       "</tr>\n",
       "</table>\n",
       "<table class=\"simpletable\">\n",
       "<tr>\n",
       "  <th>Omnibus:</th>       <td>1465702.153</td> <th>  Durbin-Watson:     </th>     <td>   1.945</td>    \n",
       "</tr>\n",
       "<tr>\n",
       "  <th>Prob(Omnibus):</th>   <td> 0.000</td>    <th>  Jarque-Bera (JB):  </th> <td>818429063532.459</td>\n",
       "</tr>\n",
       "<tr>\n",
       "  <th>Skew:</th>            <td>67.341</td>    <th>  Prob(JB):          </th>     <td>    0.00</td>    \n",
       "</tr>\n",
       "<tr>\n",
       "  <th>Kurtosis:</th>       <td>6838.982</td>   <th>  Cond. No.          </th>     <td>1.01e+04</td>    \n",
       "</tr>\n",
       "</table><br/><br/>Warnings:<br/>[1] Standard Errors assume that the covariance matrix of the errors is correctly specified.<br/>[2] The condition number is large, 1.01e+04. This might indicate that there are<br/>strong multicollinearity or other numerical problems."
      ],
      "text/plain": [
       "<class 'statsmodels.iolib.summary.Summary'>\n",
       "\"\"\"\n",
       "                            OLS Regression Results                            \n",
       "==============================================================================\n",
       "Dep. Variable:              fire_size   R-squared:                       0.026\n",
       "Model:                            OLS   Adj. R-squared:                  0.026\n",
       "Method:                 Least Squares   F-statistic:                     654.8\n",
       "Date:                Fri, 22 Jan 2021   Prob (F-statistic):               0.00\n",
       "Time:                        01:16:17   Log-Likelihood:            -4.0269e+06\n",
       "No. Observations:              420167   AIC:                         8.054e+06\n",
       "Df Residuals:                  420149   BIC:                         8.054e+06\n",
       "Df Model:                          17                                         \n",
       "Covariance Type:            nonrobust                                         \n",
       "==============================================================================\n",
       "                 coef    std err          t      P>|t|      [0.025      0.975]\n",
       "------------------------------------------------------------------------------\n",
       "const         87.3888    163.489      0.535      0.593    -233.045     407.823\n",
       "time_burnt    66.2722      0.639    103.637      0.000      65.019      67.526\n",
       "pcp          -33.3929      7.929     -4.211      0.000     -48.934     -17.852\n",
       "tavg        -146.4825    155.275     -0.943      0.345    -450.817     157.852\n",
       "pdsi          -3.2429      6.136     -0.528      0.597     -15.270       8.784\n",
       "phdi          13.5782     11.115      1.222      0.222      -8.207      35.364\n",
       "zndx          10.7172      6.314      1.697      0.090      -1.658      23.092\n",
       "pmdi         -28.5045     13.412     -2.125      0.034     -54.791      -2.218\n",
       "cdd            0.3098      0.053      5.831      0.000       0.206       0.414\n",
       "hdd           -0.2795      0.089     -3.148      0.002      -0.454      -0.106\n",
       "sp02          13.0906     10.788      1.213      0.225      -8.053      34.234\n",
       "sp03         -17.4318     10.869     -1.604      0.109     -38.735       3.871\n",
       "sp06           8.5293      9.839      0.867      0.386     -10.755      27.813\n",
       "sp09         -25.1518     14.098     -1.784      0.074     -52.784       2.481\n",
       "sp12           2.3623     13.883      0.170      0.865     -24.847      29.572\n",
       "sp24          61.8567      7.874      7.856      0.000      46.424      77.289\n",
       "tmin          49.3841     77.640      0.636      0.525    -102.789     201.557\n",
       "tmax          87.9493     77.775      1.131      0.258     -64.488     240.386\n",
       "==============================================================================\n",
       "Omnibus:                  1465702.153   Durbin-Watson:                   1.945\n",
       "Prob(Omnibus):                  0.000   Jarque-Bera (JB):     818429063532.459\n",
       "Skew:                          67.341   Prob(JB):                         0.00\n",
       "Kurtosis:                    6838.982   Cond. No.                     1.01e+04\n",
       "==============================================================================\n",
       "\n",
       "Warnings:\n",
       "[1] Standard Errors assume that the covariance matrix of the errors is correctly specified.\n",
       "[2] The condition number is large, 1.01e+04. This might indicate that there are\n",
       "strong multicollinearity or other numerical problems.\n",
       "\"\"\""
      ]
     },
     "execution_count": 11,
     "metadata": {
      "tags": []
     },
     "output_type": "execute_result"
    }
   ],
   "source": [
    "#let's take a quick look at the summary stats of our ordinary least squares\r\n",
    "ols.summary()"
   ]
  },
  {
   "cell_type": "markdown",
   "metadata": {
    "id": "zEXMUay8odd3"
   },
   "source": [
    "### Model #3, Linear Regression, scaled"
   ]
  },
  {
   "cell_type": "code",
   "execution_count": 12,
   "metadata": {
    "id": "3jtCX1adoch3"
   },
   "outputs": [],
   "source": [
    "sc = StandardScaler()\r\n",
    "Z_train = sc.fit_transform(X_train)\r\n",
    "Z_test = sc.transform(X_test)"
   ]
  },
  {
   "cell_type": "code",
   "execution_count": 13,
   "metadata": {
    "colab": {
     "base_uri": "https://localhost:8080/"
    },
    "id": "wB2IerK-okM-",
    "outputId": "e130fecc-3673-4452-8b82-ceddd6cd302a"
   },
   "outputs": [
    {
     "name": "stdout",
     "output_type": "stream",
     "text": [
      " Scaled Linear Regression training R^2 score: 0.0237\n",
      " Scaled Linear Regression test R^2 score: 0.0392\n"
     ]
    }
   ],
   "source": [
    "lr_stan = LinearRegression()\r\n",
    "lr_stan.fit(Z_train, y_train)\r\n",
    "print(f' Scaled Linear Regression training R^2 score: {round(lr_stan.score(Z_train, y_train),4)}')\r\n",
    "print(f' Scaled Linear Regression test R^2 score: {round(lr_stan.score(Z_test, y_test),4)}')"
   ]
  },
  {
   "cell_type": "code",
   "execution_count": 14,
   "metadata": {
    "id": "HUbI1fMYolr7"
   },
   "outputs": [],
   "source": [
    "y_preds = lr_stan.predict(Z_train)"
   ]
  },
  {
   "cell_type": "code",
   "execution_count": 15,
   "metadata": {
    "colab": {
     "base_uri": "https://localhost:8080/",
     "height": 294
    },
    "id": "-xaOzjdlonhH",
    "outputId": "aafc4206-7624-4645-f8ef-1d3e56964dcf"
   },
   "outputs": [
    {
     "data": {
      "image/png": "[encoded data removed]",
      "text/plain": [
       "<Figure size 432x288 with 1 Axes>"
      ]
     },
     "metadata": {
      "image/png": {
       "height": 277,
       "width": 448
      },
      "needs_background": "light",
      "tags": []
     },
     "output_type": "display_data"
    }
   ],
   "source": [
    "fig, ax = plt.subplots()\r\n",
    "ax.scatter(y_train, y_preds)\r\n",
    "ax.plot([y.min(), y.max()],[y.min(),y.max()],'k--')\r\n",
    "ax.set_xlabel('Measured')\r\n",
    "ax.set_ylabel('Predicted')\r\n",
    "#plt.axhline(y_train.mean(),c='red')\r\n",
    "plt.title(\"Mean in red, Scaled Ordinary Least Squares in black\")\r\n",
    "plt.show()"
   ]
  },
  {
   "cell_type": "markdown",
   "metadata": {
    "id": "F3QznUE0rDj2"
   },
   "source": []
  },
  {
   "cell_type": "markdown",
   "metadata": {
    "id": "aSfAvkGXpHXz"
   },
   "source": [
    "### Model #4, Lasso Gridsearch, basic"
   ]
  },
  {
   "cell_type": "code",
   "execution_count": 16,
   "metadata": {
    "id": "HgJSzyyKpINb"
   },
   "outputs": [],
   "source": [
    "lasso_pipe = Pipeline([\r\n",
    "    ('sc', StandardScaler()),\r\n",
    "    ('lassocv', Lasso())\r\n",
    "])"
   ]
  },
  {
   "cell_type": "code",
   "execution_count": 22,
   "metadata": {
    "id": "PFxCeEgXpO_t"
   },
   "outputs": [],
   "source": [
    "lasso_params = {'lassocv__alpha':np.logspace(-1, 3, 1000),\r\n",
    "               'lassocv__max_iter':[5000],\r\n",
    "               'lassocv__warm_start':[True]}"
   ]
  },
  {
   "cell_type": "code",
   "execution_count": 23,
   "metadata": {
    "id": "UCVlxD2NpQce"
   },
   "outputs": [],
   "source": [
    "lasso_pipe_gridsearch = GridSearchCV(lasso_pipe, \r\n",
    "                               param_grid=lasso_params)"
   ]
  },
  {
   "cell_type": "code",
   "execution_count": 24,
   "metadata": {
    "colab": {
     "base_uri": "https://localhost:8080/",
     "height": 357
    },
    "id": "fq6RD7-WpR4f",
    "outputId": "b697edac-23e8-4244-c02d-938dcde73f73"
   },
   "outputs": [
    {
     "ename": "ValueError",
     "evalue": "ignored",
     "output_type": "error",
     "traceback": [
      "\u001b[0;31m---------------------------------------------------------------------------\u001b[0m",
      "\u001b[0;31mValueError\u001b[0m                                Traceback (most recent call last)",
      "\u001b[0;32m<ipython-input-24-cca29b49a122>\u001b[0m in \u001b[0;36m<module>\u001b[0;34m()\u001b[0m\n\u001b[0;32m----> 1\u001b[0;31m \u001b[0mlasso_pipe_gridsearch\u001b[0m\u001b[0;34m.\u001b[0m\u001b[0mfit\u001b[0m\u001b[0;34m(\u001b[0m\u001b[0mX_train\u001b[0m\u001b[0;34m,\u001b[0m \u001b[0my_train\u001b[0m\u001b[0;34m)\u001b[0m\u001b[0;34m\u001b[0m\u001b[0;34m\u001b[0m\u001b[0m\n\u001b[0m\u001b[1;32m      2\u001b[0m \u001b[0mlasso_pipe_gridsearch\u001b[0m\u001b[0;34m.\u001b[0m\u001b[0mbest_estimator_\u001b[0m\u001b[0;34m\u001b[0m\u001b[0;34m\u001b[0m\u001b[0m\n",
      "\u001b[0;32m/usr/local/lib/python3.6/dist-packages/sklearn/model_selection/_search.py\u001b[0m in \u001b[0;36mfit\u001b[0;34m(self, X, y, groups, **fit_params)\u001b[0m\n\u001b[1;32m    708\u001b[0m                 \u001b[0;32mreturn\u001b[0m \u001b[0mresults\u001b[0m\u001b[0;34m\u001b[0m\u001b[0;34m\u001b[0m\u001b[0m\n\u001b[1;32m    709\u001b[0m \u001b[0;34m\u001b[0m\u001b[0m\n\u001b[0;32m--> 710\u001b[0;31m             \u001b[0mself\u001b[0m\u001b[0;34m.\u001b[0m\u001b[0m_run_search\u001b[0m\u001b[0;34m(\u001b[0m\u001b[0mevaluate_candidates\u001b[0m\u001b[0;34m)\u001b[0m\u001b[0;34m\u001b[0m\u001b[0;34m\u001b[0m\u001b[0m\n\u001b[0m\u001b[1;32m    711\u001b[0m \u001b[0;34m\u001b[0m\u001b[0m\n\u001b[1;32m    712\u001b[0m         \u001b[0;31m# For multi-metric evaluation, store the best_index_, best_params_ and\u001b[0m\u001b[0;34m\u001b[0m\u001b[0;34m\u001b[0m\u001b[0;34m\u001b[0m\u001b[0m\n",
      "\u001b[0;32m/usr/local/lib/python3.6/dist-packages/sklearn/model_selection/_search.py\u001b[0m in \u001b[0;36m_run_search\u001b[0;34m(self, evaluate_candidates)\u001b[0m\n\u001b[1;32m   1149\u001b[0m     \u001b[0;32mdef\u001b[0m \u001b[0m_run_search\u001b[0m\u001b[0;34m(\u001b[0m\u001b[0mself\u001b[0m\u001b[0;34m,\u001b[0m \u001b[0mevaluate_candidates\u001b[0m\u001b[0;34m)\u001b[0m\u001b[0;34m:\u001b[0m\u001b[0;34m\u001b[0m\u001b[0;34m\u001b[0m\u001b[0m\n\u001b[1;32m   1150\u001b[0m         \u001b[0;34m\"\"\"Search all candidates in param_grid\"\"\"\u001b[0m\u001b[0;34m\u001b[0m\u001b[0;34m\u001b[0m\u001b[0m\n\u001b[0;32m-> 1151\u001b[0;31m         \u001b[0mevaluate_candidates\u001b[0m\u001b[0;34m(\u001b[0m\u001b[0mParameterGrid\u001b[0m\u001b[0;34m(\u001b[0m\u001b[0mself\u001b[0m\u001b[0;34m.\u001b[0m\u001b[0mparam_grid\u001b[0m\u001b[0;34m)\u001b[0m\u001b[0;34m)\u001b[0m\u001b[0;34m\u001b[0m\u001b[0;34m\u001b[0m\u001b[0m\n\u001b[0m\u001b[1;32m   1152\u001b[0m \u001b[0;34m\u001b[0m\u001b[0m\n\u001b[1;32m   1153\u001b[0m \u001b[0;34m\u001b[0m\u001b[0m\n",
      "\u001b[0;32m/usr/local/lib/python3.6/dist-packages/sklearn/model_selection/_search.py\u001b[0m in \u001b[0;36mevaluate_candidates\u001b[0;34m(candidate_params)\u001b[0m\n\u001b[1;32m    687\u001b[0m                                \u001b[0;32mfor\u001b[0m \u001b[0mparameters\u001b[0m\u001b[0;34m,\u001b[0m \u001b[0;34m(\u001b[0m\u001b[0mtrain\u001b[0m\u001b[0;34m,\u001b[0m \u001b[0mtest\u001b[0m\u001b[0;34m)\u001b[0m\u001b[0;34m\u001b[0m\u001b[0;34m\u001b[0m\u001b[0m\n\u001b[1;32m    688\u001b[0m                                in product(candidate_params,\n\u001b[0;32m--> 689\u001b[0;31m                                           cv.split(X, y, groups)))\n\u001b[0m\u001b[1;32m    690\u001b[0m \u001b[0;34m\u001b[0m\u001b[0m\n\u001b[1;32m    691\u001b[0m                 \u001b[0;32mif\u001b[0m \u001b[0mlen\u001b[0m\u001b[0;34m(\u001b[0m\u001b[0mout\u001b[0m\u001b[0;34m)\u001b[0m \u001b[0;34m<\u001b[0m \u001b[0;36m1\u001b[0m\u001b[0;34m:\u001b[0m\u001b[0;34m\u001b[0m\u001b[0;34m\u001b[0m\u001b[0m\n",
      "\u001b[0;32m/usr/local/lib/python3.6/dist-packages/joblib/parallel.py\u001b[0m in \u001b[0;36m__call__\u001b[0;34m(self, iterable)\u001b[0m\n\u001b[1;32m   1039\u001b[0m             \u001b[0;31m# remaining jobs.\u001b[0m\u001b[0;34m\u001b[0m\u001b[0;34m\u001b[0m\u001b[0;34m\u001b[0m\u001b[0m\n\u001b[1;32m   1040\u001b[0m             \u001b[0mself\u001b[0m\u001b[0;34m.\u001b[0m\u001b[0m_iterating\u001b[0m \u001b[0;34m=\u001b[0m \u001b[0;32mFalse\u001b[0m\u001b[0;34m\u001b[0m\u001b[0;34m\u001b[0m\u001b[0m\n\u001b[0;32m-> 1041\u001b[0;31m             \u001b[0;32mif\u001b[0m \u001b[0mself\u001b[0m\u001b[0;34m.\u001b[0m\u001b[0mdispatch_one_batch\u001b[0m\u001b[0;34m(\u001b[0m\u001b[0miterator\u001b[0m\u001b[0;34m)\u001b[0m\u001b[0;34m:\u001b[0m\u001b[0;34m\u001b[0m\u001b[0;34m\u001b[0m\u001b[0m\n\u001b[0m\u001b[1;32m   1042\u001b[0m                 \u001b[0mself\u001b[0m\u001b[0;34m.\u001b[0m\u001b[0m_iterating\u001b[0m \u001b[0;34m=\u001b[0m \u001b[0mself\u001b[0m\u001b[0;34m.\u001b[0m\u001b[0m_original_iterator\u001b[0m \u001b[0;32mis\u001b[0m \u001b[0;32mnot\u001b[0m \u001b[0;32mNone\u001b[0m\u001b[0;34m\u001b[0m\u001b[0;34m\u001b[0m\u001b[0m\n\u001b[1;32m   1043\u001b[0m \u001b[0;34m\u001b[0m\u001b[0m\n",
      "\u001b[0;32m/usr/local/lib/python3.6/dist-packages/joblib/parallel.py\u001b[0m in \u001b[0;36mdispatch_one_batch\u001b[0;34m(self, iterator)\u001b[0m\n\u001b[1;32m    857\u001b[0m                 \u001b[0;32mreturn\u001b[0m \u001b[0;32mFalse\u001b[0m\u001b[0;34m\u001b[0m\u001b[0;34m\u001b[0m\u001b[0m\n\u001b[1;32m    858\u001b[0m             \u001b[0;32melse\u001b[0m\u001b[0;34m:\u001b[0m\u001b[0;34m\u001b[0m\u001b[0;34m\u001b[0m\u001b[0m\n\u001b[0;32m--> 859\u001b[0;31m                 \u001b[0mself\u001b[0m\u001b[0;34m.\u001b[0m\u001b[0m_dispatch\u001b[0m\u001b[0;34m(\u001b[0m\u001b[0mtasks\u001b[0m\u001b[0;34m)\u001b[0m\u001b[0;34m\u001b[0m\u001b[0;34m\u001b[0m\u001b[0m\n\u001b[0m\u001b[1;32m    860\u001b[0m                 \u001b[0;32mreturn\u001b[0m \u001b[0;32mTrue\u001b[0m\u001b[0;34m\u001b[0m\u001b[0;34m\u001b[0m\u001b[0m\n\u001b[1;32m    861\u001b[0m \u001b[0;34m\u001b[0m\u001b[0m\n",
      "\u001b[0;32m/usr/local/lib/python3.6/dist-packages/joblib/parallel.py\u001b[0m in \u001b[0;36m_dispatch\u001b[0;34m(self, batch)\u001b[0m\n\u001b[1;32m    775\u001b[0m         \u001b[0;32mwith\u001b[0m \u001b[0mself\u001b[0m\u001b[0;34m.\u001b[0m\u001b[0m_lock\u001b[0m\u001b[0;34m:\u001b[0m\u001b[0;34m\u001b[0m\u001b[0;34m\u001b[0m\u001b[0m\n\u001b[1;32m    776\u001b[0m             \u001b[0mjob_idx\u001b[0m \u001b[0;34m=\u001b[0m \u001b[0mlen\u001b[0m\u001b[0;34m(\u001b[0m\u001b[0mself\u001b[0m\u001b[0;34m.\u001b[0m\u001b[0m_jobs\u001b[0m\u001b[0;34m)\u001b[0m\u001b[0;34m\u001b[0m\u001b[0;34m\u001b[0m\u001b[0m\n\u001b[0;32m--> 777\u001b[0;31m             \u001b[0mjob\u001b[0m \u001b[0;34m=\u001b[0m \u001b[0mself\u001b[0m\u001b[0;34m.\u001b[0m\u001b[0m_backend\u001b[0m\u001b[0;34m.\u001b[0m\u001b[0mapply_async\u001b[0m\u001b[0;34m(\u001b[0m\u001b[0mbatch\u001b[0m\u001b[0;34m,\u001b[0m \u001b[0mcallback\u001b[0m\u001b[0;34m=\u001b[0m\u001b[0mcb\u001b[0m\u001b[0;34m)\u001b[0m\u001b[0;34m\u001b[0m\u001b[0;34m\u001b[0m\u001b[0m\n\u001b[0m\u001b[1;32m    778\u001b[0m             \u001b[0;31m# A job can complete so quickly than its callback is\u001b[0m\u001b[0;34m\u001b[0m\u001b[0;34m\u001b[0m\u001b[0;34m\u001b[0m\u001b[0m\n\u001b[1;32m    779\u001b[0m             \u001b[0;31m# called before we get here, causing self._jobs to\u001b[0m\u001b[0;34m\u001b[0m\u001b[0;34m\u001b[0m\u001b[0;34m\u001b[0m\u001b[0m\n",
      "\u001b[0;32m/usr/local/lib/python3.6/dist-packages/joblib/_parallel_backends.py\u001b[0m in \u001b[0;36mapply_async\u001b[0;34m(self, func, callback)\u001b[0m\n\u001b[1;32m    206\u001b[0m     \u001b[0;32mdef\u001b[0m \u001b[0mapply_async\u001b[0m\u001b[0;34m(\u001b[0m\u001b[0mself\u001b[0m\u001b[0;34m,\u001b[0m \u001b[0mfunc\u001b[0m\u001b[0;34m,\u001b[0m \u001b[0mcallback\u001b[0m\u001b[0;34m=\u001b[0m\u001b[0;32mNone\u001b[0m\u001b[0;34m)\u001b[0m\u001b[0;34m:\u001b[0m\u001b[0;34m\u001b[0m\u001b[0;34m\u001b[0m\u001b[0m\n\u001b[1;32m    207\u001b[0m         \u001b[0;34m\"\"\"Schedule a func to be run\"\"\"\u001b[0m\u001b[0;34m\u001b[0m\u001b[0;34m\u001b[0m\u001b[0m\n\u001b[0;32m--> 208\u001b[0;31m         \u001b[0mresult\u001b[0m \u001b[0;34m=\u001b[0m \u001b[0mImmediateResult\u001b[0m\u001b[0;34m(\u001b[0m\u001b[0mfunc\u001b[0m\u001b[0;34m)\u001b[0m\u001b[0;34m\u001b[0m\u001b[0;34m\u001b[0m\u001b[0m\n\u001b[0m\u001b[1;32m    209\u001b[0m         \u001b[0;32mif\u001b[0m \u001b[0mcallback\u001b[0m\u001b[0;34m:\u001b[0m\u001b[0;34m\u001b[0m\u001b[0;34m\u001b[0m\u001b[0m\n\u001b[1;32m    210\u001b[0m             \u001b[0mcallback\u001b[0m\u001b[0;34m(\u001b[0m\u001b[0mresult\u001b[0m\u001b[0;34m)\u001b[0m\u001b[0;34m\u001b[0m\u001b[0;34m\u001b[0m\u001b[0m\n",
      "\u001b[0;32m/usr/local/lib/python3.6/dist-packages/joblib/_parallel_backends.py\u001b[0m in \u001b[0;36m__init__\u001b[0;34m(self, batch)\u001b[0m\n\u001b[1;32m    570\u001b[0m         \u001b[0;31m# Don't delay the application, to avoid keeping the input\u001b[0m\u001b[0;34m\u001b[0m\u001b[0;34m\u001b[0m\u001b[0;34m\u001b[0m\u001b[0m\n\u001b[1;32m    571\u001b[0m         \u001b[0;31m# arguments in memory\u001b[0m\u001b[0;34m\u001b[0m\u001b[0;34m\u001b[0m\u001b[0;34m\u001b[0m\u001b[0m\n\u001b[0;32m--> 572\u001b[0;31m         \u001b[0mself\u001b[0m\u001b[0;34m.\u001b[0m\u001b[0mresults\u001b[0m \u001b[0;34m=\u001b[0m \u001b[0mbatch\u001b[0m\u001b[0;34m(\u001b[0m\u001b[0;34m)\u001b[0m\u001b[0;34m\u001b[0m\u001b[0;34m\u001b[0m\u001b[0m\n\u001b[0m\u001b[1;32m    573\u001b[0m \u001b[0;34m\u001b[0m\u001b[0m\n\u001b[1;32m    574\u001b[0m     \u001b[0;32mdef\u001b[0m \u001b[0mget\u001b[0m\u001b[0;34m(\u001b[0m\u001b[0mself\u001b[0m\u001b[0;34m)\u001b[0m\u001b[0;34m:\u001b[0m\u001b[0;34m\u001b[0m\u001b[0;34m\u001b[0m\u001b[0m\n",
      "\u001b[0;32m/usr/local/lib/python3.6/dist-packages/joblib/parallel.py\u001b[0m in \u001b[0;36m__call__\u001b[0;34m(self)\u001b[0m\n\u001b[1;32m    261\u001b[0m         \u001b[0;32mwith\u001b[0m \u001b[0mparallel_backend\u001b[0m\u001b[0;34m(\u001b[0m\u001b[0mself\u001b[0m\u001b[0;34m.\u001b[0m\u001b[0m_backend\u001b[0m\u001b[0;34m,\u001b[0m \u001b[0mn_jobs\u001b[0m\u001b[0;34m=\u001b[0m\u001b[0mself\u001b[0m\u001b[0;34m.\u001b[0m\u001b[0m_n_jobs\u001b[0m\u001b[0;34m)\u001b[0m\u001b[0;34m:\u001b[0m\u001b[0;34m\u001b[0m\u001b[0;34m\u001b[0m\u001b[0m\n\u001b[1;32m    262\u001b[0m             return [func(*args, **kwargs)\n\u001b[0;32m--> 263\u001b[0;31m                     for func, args, kwargs in self.items]\n\u001b[0m\u001b[1;32m    264\u001b[0m \u001b[0;34m\u001b[0m\u001b[0m\n\u001b[1;32m    265\u001b[0m     \u001b[0;32mdef\u001b[0m \u001b[0m__reduce__\u001b[0m\u001b[0;34m(\u001b[0m\u001b[0mself\u001b[0m\u001b[0;34m)\u001b[0m\u001b[0;34m:\u001b[0m\u001b[0;34m\u001b[0m\u001b[0;34m\u001b[0m\u001b[0m\n",
      "\u001b[0;32m/usr/local/lib/python3.6/dist-packages/joblib/parallel.py\u001b[0m in \u001b[0;36m<listcomp>\u001b[0;34m(.0)\u001b[0m\n\u001b[1;32m    261\u001b[0m         \u001b[0;32mwith\u001b[0m \u001b[0mparallel_backend\u001b[0m\u001b[0;34m(\u001b[0m\u001b[0mself\u001b[0m\u001b[0;34m.\u001b[0m\u001b[0m_backend\u001b[0m\u001b[0;34m,\u001b[0m \u001b[0mn_jobs\u001b[0m\u001b[0;34m=\u001b[0m\u001b[0mself\u001b[0m\u001b[0;34m.\u001b[0m\u001b[0m_n_jobs\u001b[0m\u001b[0;34m)\u001b[0m\u001b[0;34m:\u001b[0m\u001b[0;34m\u001b[0m\u001b[0;34m\u001b[0m\u001b[0m\n\u001b[1;32m    262\u001b[0m             return [func(*args, **kwargs)\n\u001b[0;32m--> 263\u001b[0;31m                     for func, args, kwargs in self.items]\n\u001b[0m\u001b[1;32m    264\u001b[0m \u001b[0;34m\u001b[0m\u001b[0m\n\u001b[1;32m    265\u001b[0m     \u001b[0;32mdef\u001b[0m \u001b[0m__reduce__\u001b[0m\u001b[0;34m(\u001b[0m\u001b[0mself\u001b[0m\u001b[0;34m)\u001b[0m\u001b[0;34m:\u001b[0m\u001b[0;34m\u001b[0m\u001b[0;34m\u001b[0m\u001b[0m\n",
      "\u001b[0;32m/usr/local/lib/python3.6/dist-packages/sklearn/model_selection/_validation.py\u001b[0m in \u001b[0;36m_fit_and_score\u001b[0;34m(estimator, X, y, scorer, train, test, verbose, parameters, fit_params, return_train_score, return_parameters, return_n_test_samples, return_times, return_estimator, error_score)\u001b[0m\n\u001b[1;32m    502\u001b[0m             \u001b[0mcloned_parameters\u001b[0m\u001b[0;34m[\u001b[0m\u001b[0mk\u001b[0m\u001b[0;34m]\u001b[0m \u001b[0;34m=\u001b[0m \u001b[0mclone\u001b[0m\u001b[0;34m(\u001b[0m\u001b[0mv\u001b[0m\u001b[0;34m,\u001b[0m \u001b[0msafe\u001b[0m\u001b[0;34m=\u001b[0m\u001b[0;32mFalse\u001b[0m\u001b[0;34m)\u001b[0m\u001b[0;34m\u001b[0m\u001b[0;34m\u001b[0m\u001b[0m\n\u001b[1;32m    503\u001b[0m \u001b[0;34m\u001b[0m\u001b[0m\n\u001b[0;32m--> 504\u001b[0;31m         \u001b[0mestimator\u001b[0m \u001b[0;34m=\u001b[0m \u001b[0mestimator\u001b[0m\u001b[0;34m.\u001b[0m\u001b[0mset_params\u001b[0m\u001b[0;34m(\u001b[0m\u001b[0;34m**\u001b[0m\u001b[0mcloned_parameters\u001b[0m\u001b[0;34m)\u001b[0m\u001b[0;34m\u001b[0m\u001b[0;34m\u001b[0m\u001b[0m\n\u001b[0m\u001b[1;32m    505\u001b[0m \u001b[0;34m\u001b[0m\u001b[0m\n\u001b[1;32m    506\u001b[0m     \u001b[0mstart_time\u001b[0m \u001b[0;34m=\u001b[0m \u001b[0mtime\u001b[0m\u001b[0;34m.\u001b[0m\u001b[0mtime\u001b[0m\u001b[0;34m(\u001b[0m\u001b[0;34m)\u001b[0m\u001b[0;34m\u001b[0m\u001b[0;34m\u001b[0m\u001b[0m\n",
      "\u001b[0;32m/usr/local/lib/python3.6/dist-packages/sklearn/pipeline.py\u001b[0m in \u001b[0;36mset_params\u001b[0;34m(self, **kwargs)\u001b[0m\n\u001b[1;32m    161\u001b[0m         \u001b[0mself\u001b[0m\u001b[0;34m\u001b[0m\u001b[0;34m\u001b[0m\u001b[0m\n\u001b[1;32m    162\u001b[0m         \"\"\"\n\u001b[0;32m--> 163\u001b[0;31m         \u001b[0mself\u001b[0m\u001b[0;34m.\u001b[0m\u001b[0m_set_params\u001b[0m\u001b[0;34m(\u001b[0m\u001b[0;34m'steps'\u001b[0m\u001b[0;34m,\u001b[0m \u001b[0;34m**\u001b[0m\u001b[0mkwargs\u001b[0m\u001b[0;34m)\u001b[0m\u001b[0;34m\u001b[0m\u001b[0;34m\u001b[0m\u001b[0m\n\u001b[0m\u001b[1;32m    164\u001b[0m         \u001b[0;32mreturn\u001b[0m \u001b[0mself\u001b[0m\u001b[0;34m\u001b[0m\u001b[0;34m\u001b[0m\u001b[0m\n\u001b[1;32m    165\u001b[0m \u001b[0;34m\u001b[0m\u001b[0m\n",
      "\u001b[0;32m/usr/local/lib/python3.6/dist-packages/sklearn/utils/metaestimators.py\u001b[0m in \u001b[0;36m_set_params\u001b[0;34m(self, attr, **params)\u001b[0m\n\u001b[1;32m     48\u001b[0m                 \u001b[0mself\u001b[0m\u001b[0;34m.\u001b[0m\u001b[0m_replace_estimator\u001b[0m\u001b[0;34m(\u001b[0m\u001b[0mattr\u001b[0m\u001b[0;34m,\u001b[0m \u001b[0mname\u001b[0m\u001b[0;34m,\u001b[0m \u001b[0mparams\u001b[0m\u001b[0;34m.\u001b[0m\u001b[0mpop\u001b[0m\u001b[0;34m(\u001b[0m\u001b[0mname\u001b[0m\u001b[0;34m)\u001b[0m\u001b[0;34m)\u001b[0m\u001b[0;34m\u001b[0m\u001b[0;34m\u001b[0m\u001b[0m\n\u001b[1;32m     49\u001b[0m         \u001b[0;31m# 3. Step parameters and other initialisation arguments\u001b[0m\u001b[0;34m\u001b[0m\u001b[0;34m\u001b[0m\u001b[0;34m\u001b[0m\u001b[0m\n\u001b[0;32m---> 50\u001b[0;31m         \u001b[0msuper\u001b[0m\u001b[0;34m(\u001b[0m\u001b[0;34m)\u001b[0m\u001b[0;34m.\u001b[0m\u001b[0mset_params\u001b[0m\u001b[0;34m(\u001b[0m\u001b[0;34m**\u001b[0m\u001b[0mparams\u001b[0m\u001b[0;34m)\u001b[0m\u001b[0;34m\u001b[0m\u001b[0;34m\u001b[0m\u001b[0m\n\u001b[0m\u001b[1;32m     51\u001b[0m         \u001b[0;32mreturn\u001b[0m \u001b[0mself\u001b[0m\u001b[0;34m\u001b[0m\u001b[0;34m\u001b[0m\u001b[0m\n\u001b[1;32m     52\u001b[0m \u001b[0;34m\u001b[0m\u001b[0m\n",
      "\u001b[0;32m/usr/local/lib/python3.6/dist-packages/sklearn/base.py\u001b[0m in \u001b[0;36mset_params\u001b[0;34m(self, **params)\u001b[0m\n\u001b[1;32m    243\u001b[0m \u001b[0;34m\u001b[0m\u001b[0m\n\u001b[1;32m    244\u001b[0m         \u001b[0;32mfor\u001b[0m \u001b[0mkey\u001b[0m\u001b[0;34m,\u001b[0m \u001b[0msub_params\u001b[0m \u001b[0;32min\u001b[0m \u001b[0mnested_params\u001b[0m\u001b[0;34m.\u001b[0m\u001b[0mitems\u001b[0m\u001b[0;34m(\u001b[0m\u001b[0;34m)\u001b[0m\u001b[0;34m:\u001b[0m\u001b[0;34m\u001b[0m\u001b[0;34m\u001b[0m\u001b[0m\n\u001b[0;32m--> 245\u001b[0;31m             \u001b[0mvalid_params\u001b[0m\u001b[0;34m[\u001b[0m\u001b[0mkey\u001b[0m\u001b[0;34m]\u001b[0m\u001b[0;34m.\u001b[0m\u001b[0mset_params\u001b[0m\u001b[0;34m(\u001b[0m\u001b[0;34m**\u001b[0m\u001b[0msub_params\u001b[0m\u001b[0;34m)\u001b[0m\u001b[0;34m\u001b[0m\u001b[0;34m\u001b[0m\u001b[0m\n\u001b[0m\u001b[1;32m    246\u001b[0m \u001b[0;34m\u001b[0m\u001b[0m\n\u001b[1;32m    247\u001b[0m         \u001b[0;32mreturn\u001b[0m \u001b[0mself\u001b[0m\u001b[0;34m\u001b[0m\u001b[0;34m\u001b[0m\u001b[0m\n",
      "\u001b[0;32m/usr/local/lib/python3.6/dist-packages/sklearn/base.py\u001b[0m in \u001b[0;36mset_params\u001b[0;34m(self, **params)\u001b[0m\n\u001b[1;32m    234\u001b[0m                                  \u001b[0;34m'Check the list of available parameters '\u001b[0m\u001b[0;34m\u001b[0m\u001b[0;34m\u001b[0m\u001b[0m\n\u001b[1;32m    235\u001b[0m                                  \u001b[0;34m'with `estimator.get_params().keys()`.'\u001b[0m \u001b[0;34m%\u001b[0m\u001b[0;34m\u001b[0m\u001b[0;34m\u001b[0m\u001b[0m\n\u001b[0;32m--> 236\u001b[0;31m                                  (key, self))\n\u001b[0m\u001b[1;32m    237\u001b[0m \u001b[0;34m\u001b[0m\u001b[0m\n\u001b[1;32m    238\u001b[0m             \u001b[0;32mif\u001b[0m \u001b[0mdelim\u001b[0m\u001b[0;34m:\u001b[0m\u001b[0;34m\u001b[0m\u001b[0;34m\u001b[0m\u001b[0m\n",
      "\u001b[0;31mValueError\u001b[0m: Invalid parameter n_jobs for estimator Lasso(alpha=0.1, copy_X=True, fit_intercept=True, max_iter=5000,\n      normalize=False, positive=False, precompute=False, random_state=None,\n      selection='cyclic', tol=0.0001, warm_start=False). Check the list of available parameters with `estimator.get_params().keys()`."
     ]
    }
   ],
   "source": [
    "lasso_pipe_gridsearch.fit(X_train, y_train)\r\n",
    "lasso_pipe_gridsearch.best_estimator_"
   ]
  },
  {
   "cell_type": "code",
   "execution_count": null,
   "metadata": {
    "id": "ZYrELpcZp78C"
   },
   "outputs": [],
   "source": []
  },
  {
   "cell_type": "markdown",
   "metadata": {
    "id": "MFpLe1KOqRe-"
   },
   "source": [
    "#### Coef_ eval"
   ]
  },
  {
   "cell_type": "code",
   "execution_count": null,
   "metadata": {
    "id": "R6e47Ganqjtk"
   },
   "outputs": [],
   "source": []
  },
  {
   "cell_type": "code",
   "execution_count": null,
   "metadata": {
    "id": "by3NycpHqjvx"
   },
   "outputs": [],
   "source": []
  },
  {
   "cell_type": "code",
   "execution_count": null,
   "metadata": {
    "id": "HiMMSQLVqj58"
   },
   "outputs": [],
   "source": []
  },
  {
   "cell_type": "code",
   "execution_count": null,
   "metadata": {
    "id": "DK0n0ZQRp8Ey"
   },
   "outputs": [],
   "source": [
    "lasso_sc = StandardScaler()\r\n",
    "lasso_Z_train = lasso_sc.fit_transform(X_train)\r\n",
    "lasso_Z_test = lasso_sc.fit_transform(X_test)"
   ]
  },
  {
   "cell_type": "code",
   "execution_count": null,
   "metadata": {
    "id": "WhaCKmoBp8HQ"
   },
   "outputs": [],
   "source": [
    "lasso_coef_eval = Lasso(alpha = 145.60059950206485, max_iter=5000)"
   ]
  },
  {
   "cell_type": "code",
   "execution_count": null,
   "metadata": {
    "id": "4_Q3JSASp8Jf"
   },
   "outputs": [],
   "source": [
    "print(lasso_Z_train.shape)\r\n",
    "print(y_train.shape)"
   ]
  },
  {
   "cell_type": "code",
   "execution_count": null,
   "metadata": {
    "id": "6YpchHNfp8Lz"
   },
   "outputs": [],
   "source": [
    "lasso_coef_eval.fit(lasso_Z_train, y_train)\r\n",
    "print(f'Lasso R^2 Cross Validated Score: {round(cross_val_score(lasso_coef_eval, lasso_Z_train, y_train).mean(),4)}') "
   ]
  },
  {
   "cell_type": "code",
   "execution_count": null,
   "metadata": {
    "id": "D_xzpZgXp8OG"
   },
   "outputs": [],
   "source": [
    "lasso_coef_eval.intercept_"
   ]
  },
  {
   "cell_type": "code",
   "execution_count": null,
   "metadata": {
    "id": "MH6VzCBfp8Qa"
   },
   "outputs": [],
   "source": [
    "feature_importance = pd.DataFrame(list(zip(X_train.columns, lasso_coef_eval.coef_)))\r\n",
    "feature_importance"
   ]
  },
  {
   "cell_type": "code",
   "execution_count": null,
   "metadata": {
    "id": "uN3Vl-ebp8S8"
   },
   "outputs": [],
   "source": []
  },
  {
   "cell_type": "code",
   "execution_count": null,
   "metadata": {
    "id": "N-Lsf15_p8VE"
   },
   "outputs": [],
   "source": []
  }
 ],
 "metadata": {
  "accelerator": "TPU",
  "colab": {
   "machine_shape": "hm",
   "name": "jv_feature_evaluation.ipynb",
   "provenance": [],
   "toc_visible": true
  },
  "kernelspec": {
   "display_name": "Python 3",
   "language": "python",
   "name": "python3"
  },
  "language_info": {
   "codemirror_mode": {
    "name": "ipython",
    "version": 3
   },
   "file_extension": ".py",
   "mimetype": "text/x-python",
   "name": "python",
   "nbconvert_exporter": "python",
   "pygments_lexer": "ipython3",
   "version": "3.8.5"
  }
 },
 "nbformat": 4,
 "nbformat_minor": 4
}
