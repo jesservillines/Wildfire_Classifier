{
 "cells": [
  {
   "cell_type": "code",
   "execution_count": 1,
   "id": "welsh-update",
   "metadata": {},
   "outputs": [],
   "source": [
    "import pandas as pd\n",
    "import numpy as np\n",
    "import matplotlib.pyplot as plt\n",
    "import matplotlib\n",
    "import seaborn as sns\n",
    "from scipy.stats import linregress\n",
    "import sqlite3\n",
    "from urllib.request import urlopen\n",
    "import json\n",
    "import plotly.express as px\n",
    "import plotly.graph_objects as go\n",
    "from mpl_toolkits.basemap import Basemap\n",
    "\n",
    "with urlopen('https://raw.githubusercontent.com/plotly/datasets/master/geojson-counties-fips.json') as response:\n",
    "    counties = json.load(response)\n",
    "\n",
    "%config InlineBackend.figure_format = 'retina'\n",
    "\n",
    "import streamlit as st\n",
    "from __future__ import print_function\n",
    "from ipywidgets import interact, interactive, fixed, interact_manual\n",
    "import ipywidgets as widgets"
   ]
  },
  {
   "cell_type": "markdown",
   "id": "horizontal-welcome",
   "metadata": {},
   "source": [
    "### Mapping fires by location (lat, long) and size class (A-G)"
   ]
  },
  {
   "cell_type": "code",
   "execution_count": 24,
   "id": "unexpected-australian",
   "metadata": {
    "scrolled": true
   },
   "outputs": [
    {
     "data": {
      "text/html": [
       "<div>\n",
       "<style scoped>\n",
       "    .dataframe tbody tr th:only-of-type {\n",
       "        vertical-align: middle;\n",
       "    }\n",
       "\n",
       "    .dataframe tbody tr th {\n",
       "        vertical-align: top;\n",
       "    }\n",
       "\n",
       "    .dataframe thead th {\n",
       "        text-align: right;\n",
       "    }\n",
       "</style>\n",
       "<table border=\"1\" class=\"dataframe\">\n",
       "  <thead>\n",
       "    <tr style=\"text-align: right;\">\n",
       "      <th></th>\n",
       "      <th>latitude</th>\n",
       "      <th>longitude</th>\n",
       "      <th>month</th>\n",
       "      <th>year</th>\n",
       "      <th>fire_size_class</th>\n",
       "    </tr>\n",
       "  </thead>\n",
       "  <tbody>\n",
       "    <tr>\n",
       "      <th>0</th>\n",
       "      <td>40.036944</td>\n",
       "      <td>-121.005833</td>\n",
       "      <td>2</td>\n",
       "      <td>2005</td>\n",
       "      <td>1</td>\n",
       "    </tr>\n",
       "    <tr>\n",
       "      <th>1</th>\n",
       "      <td>38.933056</td>\n",
       "      <td>-120.404444</td>\n",
       "      <td>5</td>\n",
       "      <td>2004</td>\n",
       "      <td>1</td>\n",
       "    </tr>\n",
       "    <tr>\n",
       "      <th>2</th>\n",
       "      <td>38.984167</td>\n",
       "      <td>-120.735556</td>\n",
       "      <td>5</td>\n",
       "      <td>2004</td>\n",
       "      <td>1</td>\n",
       "    </tr>\n",
       "    <tr>\n",
       "      <th>3</th>\n",
       "      <td>38.559167</td>\n",
       "      <td>-119.913333</td>\n",
       "      <td>6</td>\n",
       "      <td>2004</td>\n",
       "      <td>1</td>\n",
       "    </tr>\n",
       "    <tr>\n",
       "      <th>4</th>\n",
       "      <td>38.559167</td>\n",
       "      <td>-119.933056</td>\n",
       "      <td>6</td>\n",
       "      <td>2004</td>\n",
       "      <td>1</td>\n",
       "    </tr>\n",
       "  </tbody>\n",
       "</table>\n",
       "</div>"
      ],
      "text/plain": [
       "    latitude   longitude  month  year  fire_size_class\n",
       "0  40.036944 -121.005833      2  2005                1\n",
       "1  38.933056 -120.404444      5  2004                1\n",
       "2  38.984167 -120.735556      5  2004                1\n",
       "3  38.559167 -119.913333      6  2004                1\n",
       "4  38.559167 -119.933056      6  2004                1"
      ]
     },
     "execution_count": 24,
     "metadata": {},
     "output_type": "execute_result"
    }
   ],
   "source": [
    "fire_position_input = pd.read_csv('./data/fire_lat_lon.csv', index_col=False) #reading in fire data with coordinates\n",
    "\n",
    "#mapping classes to numeric values\n",
    "fire_position_input['fire_size_class'] = fire_position_input['fire_size_class'].map({'A':int(1),\n",
    "                                                                         'B':int(2), \n",
    "                                                                         \"C\":int(3),\n",
    "                                                                         \"D\":int(4),\n",
    "                                                                         \"E\": int(5),\n",
    "                                                                         \"F\": int(6),\n",
    "                                                                         \"G\":int(7)})\n",
    "fire_position_input.head()"
   ]
  },
  {
   "cell_type": "code",
   "execution_count": 72,
   "id": "controlling-paste",
   "metadata": {},
   "outputs": [],
   "source": [
    "#  Creating a function to take in month and year and create a plot of all the fires of that month, color cordinated by their size. \n",
    "def fires_month_year(month, year):\n",
    "    fire_position = fire_position_input[fire_position_input['year'] == year]\n",
    "    fire_position = fire_position[fire_position['month'] == month]\n",
    "    fire_position.reset_index(inplace=True)\n",
    "\n",
    "    # Grabbing the lats and longs data\n",
    "    lats = []\n",
    "    lons = []\n",
    "    fire_class_list = []\n",
    "    for i in fire_position.index:\n",
    "        lats.append(fire_position['latitude'][i])\n",
    "        lons.append(fire_position['longitude'][i])\n",
    "        fire_class_list.append(float(fire_position['fire_size_class'][i]))\n",
    "\n",
    "    # found this out on \n",
    "    # https://makersportal.com/blog/2018/7/20/geographic-mapping-from-a-csv-file-using-python-and-basemap\n",
    "\n",
    "    # setting parameters for title and axes\n",
    "    font = {'family' : 'tahoma',\n",
    "            'size'   : 12}\n",
    "    plt.rc('font', **font)\n",
    "\n",
    "    # How much to zoom from coordinates (in degrees)\n",
    "    zoom_scale = 3\n",
    "\n",
    "    # Setup the bounding box for the zoom and bounds of the map\n",
    "    bbox = [np.min(lats)-zoom_scale,np.max(lats)+zoom_scale,\\\n",
    "            np.min(lons)-zoom_scale,np.max(lons)+zoom_scale]\n",
    "\n",
    "    fig, ax = plt.subplots(figsize=(16,7))\n",
    "\n",
    "    # Define the projection, scale, the corners of the map, and the resolution.\n",
    "    m = Basemap(projection='merc',llcrnrlat=bbox[0],urcrnrlat=bbox[1],\\\n",
    "                llcrnrlon=bbox[2],urcrnrlon=bbox[3],lat_ts=10,resolution='i')\n",
    "\n",
    "    # Draw coastlines and fill continents and water with color\n",
    "    m.drawcoastlines()\n",
    "    m.fillcontinents(color='#CCCCCC',lake_color='lightblue')\n",
    "\n",
    "    # draw parallels, meridians, and color boundaries\n",
    "    m.drawparallels(np.arange(bbox[0],bbox[1],(bbox[1]-bbox[0])/5),labels=[1,0,0,0])\n",
    "    m.drawmeridians(np.arange(bbox[2],bbox[3],(bbox[3]-bbox[2])/5),labels=[0,0,0,1],rotation=0)\n",
    "    m.drawmapboundary(fill_color='lightblue')\n",
    "\n",
    "    # format colors for fire size by class\n",
    "    cmap = plt.get_cmap('hot_r')\n",
    "    normalize = matplotlib.colors.Normalize(vmin=1, vmax=7) # 1 corresponds to small fires (class A), 7 - large ones (G)\n",
    "\n",
    "\n",
    "    for ii in range(0, len(fire_class_list)):\n",
    "        x,y = m(lons[ii],lats[ii])\n",
    "        color_interp = np.interp(fire_class_list[ii],[1, 7],[10,300])\n",
    "        plt.plot(x,y,marker='o',markersize=2,color=cmap(int(color_interp)))\n",
    "\n",
    "    # formating the color bar    \n",
    "    cax, _ = matplotlib.colorbar.make_axes(ax)\n",
    "    cbar = matplotlib.colorbar.ColorbarBase(cax, cmap=cmap,norm=normalize,label='Fire Size')\n",
    "\n",
    "    # save the figure and show it\n",
    "    plt.title(\"Fires in Western US states\")\n",
    "    \n",
    "    print(f'Number of fires started during {month}/{year} : {len(fire_position)}.')\n",
    "    print(f'large fires : {len(fire_position[fire_position[\"fire_size_class\"] >4])} ')\n",
    "    print(f'medium fire : {len(fire_position[(fire_position[\"fire_size_class\"] > 2) & (fire_position[\"fire_size_class\"]< 5)])}')\n",
    "    print(f'small fires : {len(fire_position[fire_position[\"fire_size_class\"] < 3])}')\n",
    "    \n",
    "    return (month, year) "
   ]
  },
  {
   "cell_type": "code",
   "execution_count": 73,
   "id": "metric-rescue",
   "metadata": {},
   "outputs": [
    {
     "data": {
      "application/vnd.jupyter.widget-view+json": {
       "model_id": "fc1baae7411e4d1b87573f8138a4f477",
       "version_major": 2,
       "version_minor": 0
      },
      "text/plain": [
       "interactive(children=(IntSlider(value=1, description='month', max=12, min=1), IntSlider(value=1992, descriptio…"
      ]
     },
     "metadata": {},
     "output_type": "display_data"
    },
    {
     "data": {
      "text/plain": [
       "<function __main__.fires_month_year(month, year)>"
      ]
     },
     "execution_count": 73,
     "metadata": {},
     "output_type": "execute_result"
    }
   ],
   "source": [
    "interact(fires_month_year, month = widgets.IntSlider(min = 1, max = 12, step = 1) ,\n",
    "         year =widgets.IntSlider(min = 1992, max = 2015, step = 1))\n"
   ]
  },
  {
   "cell_type": "markdown",
   "id": "opponent-possibility",
   "metadata": {},
   "source": [
    "-----------------------"
   ]
  },
  {
   "cell_type": "markdown",
   "id": "independent-photography",
   "metadata": {},
   "source": [
    "-----------------------"
   ]
  },
  {
   "cell_type": "code",
   "execution_count": null,
   "id": "immune-creature",
   "metadata": {},
   "outputs": [],
   "source": []
  }
 ],
 "metadata": {
  "kernelspec": {
   "display_name": "Python 3",
   "language": "python",
   "name": "python3"
  },
  "language_info": {
   "codemirror_mode": {
    "name": "ipython",
    "version": 3
   },
   "file_extension": ".py",
   "mimetype": "text/x-python",
   "name": "python",
   "nbconvert_exporter": "python",
   "pygments_lexer": "ipython3",
   "version": "3.9.1"
  }
 },
 "nbformat": 4,
 "nbformat_minor": 5
}
