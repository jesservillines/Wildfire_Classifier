{
 "cells": [
  {
   "cell_type": "markdown",
   "id": "clear-soccer",
   "metadata": {},
   "source": [
    "# Random Forest Classifier"
   ]
  },
  {
   "cell_type": "markdown",
   "id": "planned-postcard",
   "metadata": {},
   "source": [
    "## Contents\n",
    "- [Imports](#Imports)\n",
    "- [Prepare Dataset](#Prepare-Dataset)\n",
    "- [OPTION: Cluster Latitude and Longitude data](#OPTION:-Cluster-Latitude-and-Longitude-data)\n",
    "- [Bootstrap](#Bootstrap)\n",
    "- [One Hot Encode Features](#One-Hot-Encode-Features)\n",
    "- [Create Scaled X, y and Train, Test](#Create-Scaled-X,-y-and-Train,-Test)\n",
    "- [Compile and Fit Random Forest Classifier](#Compile-and-Fit-Random-Forest-Classifier)\n",
    "- [More Advanced Random Forest Classifier](#More-Advanced-Random-Forest-Classifier)\n",
    "- [Extract Best Model Features](#Extract-Best-Model-Features)\n",
    "- [Model Evaluation](#Model-Evaluation)"
   ]
  },
  {
   "cell_type": "markdown",
   "id": "assured-booking",
   "metadata": {},
   "source": [
    "## Overview\n",
    "This notebook explores the random forest classifier model. The goal from this model is not to produce the best predictive model, but to extract feature importance. Feature importance is useful to the scope of this project to help understand the situations that lend themselves towards creating wildfires.\n",
    "\n",
    "#### Top 3 Features:\n",
    "\n",
    "|Feature|Importance|Feature Description|\n",
    "|---|---|---|\n",
    "|tavg_t3m|0.05085|Average Temperature Past 3 Months|\n",
    "|pcp|0.04720|Month Precipitation|\n",
    "|tavg_t6m|0.04633|Average Temperature Past 6 Months|"
   ]
  },
  {
   "cell_type": "markdown",
   "id": "confidential-allergy",
   "metadata": {},
   "source": [
    "# Imports"
   ]
  },
  {
   "cell_type": "code",
   "execution_count": 1,
   "id": "allied-california",
   "metadata": {},
   "outputs": [],
   "source": [
    "# Import libraries.\n",
    "import boto3\n",
    "import io\n",
    "import pandas as pd\n",
    "import numpy as np\n",
    "from sklearn.ensemble import RandomForestClassifier, ExtraTreesClassifier\n",
    "from sklearn.metrics import plot_confusion_matrix, recall_score, accuracy_score, f1_score, make_scorer, precision_score\n",
    "from sklearn.model_selection import cross_val_score, train_test_split, GridSearchCV\n",
    "from sklearn.model_selection import validation_curve\n",
    "from sklearn.preprocessing import StandardScaler\n",
    "from sklearn.cluster import KMeans\n",
    "from matplotlib import pyplot\n",
    "import warnings\n",
    "warnings.filterwarnings('ignore')\n",
    "\n",
    "s3 = boto3.client('s3')\n",
    "\n",
    "%config InlineBackend.figure_format = 'retina'"
   ]
  },
  {
   "cell_type": "markdown",
   "id": "living-wyoming",
   "metadata": {},
   "source": [
    "# Prepare Dataset"
   ]
  },
  {
   "cell_type": "code",
   "execution_count": 2,
   "id": "mexican-moderator",
   "metadata": {},
   "outputs": [],
   "source": [
    "# Pull in cleaned and combined data from AWS \n",
    "noaa_on_fire = pd.read_csv('s3://git-to-amazon-s3-outputbucket-rorni8oehk4l/soulclimberchick/meteorology-fire-impact/data-files/mfi_df_yr_trail.csv')\n",
    "noaa_on_fire.drop(columns='Unnamed: 0', inplace=True)\n",
    "noaa_on_fire.dropna(inplace=True)"
   ]
  },
  {
   "cell_type": "code",
   "execution_count": 3,
   "id": "compliant-plaintiff",
   "metadata": {},
   "outputs": [
    {
     "data": {
      "text/plain": [
       "Index(['fire_code', 'fire_name', 'complex_name', 'stat_cause_code',\n",
       "       'stat_cause_descr', 'fire_size', 'fire_size_class', 'latitude',\n",
       "       'longitude', 'state', 'fips_code', 'cont_date_fixed', 'disc_date_fixed',\n",
       "       'time_burnt', 'month', 'year', 'yearmonth', 'pcp', 'tavg', 'pdsi',\n",
       "       'phdi', 'zndx', 'pmdi', 'cdd', 'hdd', 'sp01', 'sp02', 'sp03', 'sp06',\n",
       "       'sp09', 'sp12', 'sp24', 'tmin', 'tmax', 'tavg_t3m', 'tavg_t6m',\n",
       "       'tavg_t9m', 'tavg_t12m', 'pcp_t3m', 'pcp_t6m', 'pcp_t9m', 'pcp_t12m',\n",
       "       'pmdi_t3m', 'pmdi_t6m', 'pmdi_t9m', 'pmdi_t12m', 'pdsi_t3m', 'pdsi_t6m',\n",
       "       'pdsi_t9m', 'pdsi_t12m'],\n",
       "      dtype='object')"
      ]
     },
     "execution_count": 3,
     "metadata": {},
     "output_type": "execute_result"
    }
   ],
   "source": [
    "noaa_on_fire_btstrp.columns"
   ]
  },
  {
   "cell_type": "markdown",
   "id": "fuzzy-proportion",
   "metadata": {},
   "source": [
    "# OPTION: Cluster Latitude and Longitude data"
   ]
  },
  {
   "cell_type": "code",
   "execution_count": 4,
   "id": "buried-enemy",
   "metadata": {},
   "outputs": [],
   "source": [
    "# # Put lat/long into a matrix\n",
    "# location_data = round(noaa_on_fire[['longitude', 'latitude']],4) # round to decrease grid accuracy of lat/long\n",
    "\n",
    "# # Cluster lat/long\n",
    "# km = KMeans(n_clusters=200)\n",
    "# km.fit(location_data)\n",
    "\n",
    "# # Append clusters back into model_df\n",
    "# noaa_on_fire.loc[:, 'cluster'] = km.predict(location_data)"
   ]
  },
  {
   "cell_type": "markdown",
   "id": "excess-payroll",
   "metadata": {},
   "source": [
    "# Bootstrap"
   ]
  },
  {
   "cell_type": "code",
   "execution_count": null,
   "id": "tropical-regular",
   "metadata": {},
   "outputs": [],
   "source": [
    "noaa_on_fire_btstrp = pd.concat([noaa_on_fire, \n",
    "                                 noaa_on_fire[noaa_on_fire['fire_size_class'] == 'C'].sample(n = 100000, replace = True, random_state=11),\n",
    "                                 noaa_on_fire[noaa_on_fire['fire_size_class'] == 'D'].sample(n = 100000, replace = True, random_state=11),\n",
    "                                 noaa_on_fire[noaa_on_fire['fire_size_class'] == 'E'].sample(n = 100000, replace = True, random_state=11),\n",
    "                                 noaa_on_fire[noaa_on_fire['fire_size_class'] == 'F'].sample(n = 100000, replace = True, random_state=11),\n",
    "                                 noaa_on_fire[noaa_on_fire['fire_size_class'] == 'G'].sample(n = 100000, replace = True, random_state=11)], axis = 0)"
   ]
  },
  {
   "cell_type": "markdown",
   "id": "compatible-latvia",
   "metadata": {},
   "source": [
    "# One Hot Encode Features"
   ]
  },
  {
   "cell_type": "code",
   "execution_count": 5,
   "id": "super-circumstances",
   "metadata": {},
   "outputs": [],
   "source": [
    "noaa_on_fire_btstrp = pd.get_dummies(noaa_on_fire, columns=['state', 'month'], drop_first= True)\n",
    "#noaa_on_fire = pd.get_dummies(noaa_on_fire, columns=['cluster']) # location clustered by lat/long"
   ]
  },
  {
   "cell_type": "markdown",
   "id": "introductory-georgia",
   "metadata": {},
   "source": [
    "# Create Scaled X, y and Train, Test"
   ]
  },
  {
   "cell_type": "code",
   "execution_count": 7,
   "id": "median-slope",
   "metadata": {},
   "outputs": [],
   "source": [
    "# Set up X and y variables, and bootstrap data\n",
    "\n",
    "X = noaa_on_fire_btstrp[[ 'pcp', #3rd_Most_Important_Feature #\n",
    "                         'tavg', 'pdsi', 'phdi', 'zndx', 'pmdi', 'sp02','sp03', 'sp06', 'sp09', #10\n",
    "                         'sp12', 'sp24', 'tmin', 'tmax', 'month_2', 'month_3','month_4', 'month_5', 'cdd', 'hdd', #20\n",
    "                         'month_6', 'month_7', 'month_8', 'month_9','month_10', 'month_11', 'month_12', 'tavg_t12m','tavg_t9m', \n",
    "                         'tavg_t6m', #2nd_Most_Important_Feature #30\n",
    "                         'tavg_t3m', #Most_Important_Feature_ #31 \n",
    "                         'pcp_t12m', 'pcp_t9m', 'pcp_t6m','pcp_t3m', 'pmdi_t12m', 'pmdi_t9m', 'pmdi_t6m', 'pmdi_t3m', 'pdsi_t12m', #40\n",
    "                           'pdsi_t9m', 'pdsi_t6m', 'pdsi_t3m']] #43\n",
    "\n",
    "y = noaa_on_fire_btstrp['fire_size_class']\n",
    "\n",
    "# Train Test Split and scale data\n",
    "X_train, X_test, y_train, y_test = train_test_split(X, y, stratify=y)\n",
    "\n",
    "#Standard Scale data\n",
    "stan = StandardScaler()\n",
    "X_train = stan.fit_transform(X_train)\n",
    "X_test = stan.transform(X_test)"
   ]
  },
  {
   "cell_type": "markdown",
   "id": "polish-artist",
   "metadata": {},
   "source": [
    "#### Model Baseline"
   ]
  },
  {
   "cell_type": "code",
   "execution_count": 9,
   "id": "prescribed-armor",
   "metadata": {},
   "outputs": [
    {
     "data": {
      "text/plain": [
       "A    0.615586\n",
       "B    0.272828\n",
       "C    0.059007\n",
       "D    0.017875\n",
       "E    0.014640\n",
       "F    0.012505\n",
       "G    0.007558\n",
       "Name: fire_size_class, dtype: float64"
      ]
     },
     "execution_count": 9,
     "metadata": {},
     "output_type": "execute_result"
    }
   ],
   "source": [
    "# What is the accuracy of our baseline model?\n",
    "y.value_counts(normalize=True)"
   ]
  },
  {
   "cell_type": "markdown",
   "id": "rising-license",
   "metadata": {},
   "source": [
    "# Compile and Fit Random Forest Classifier"
   ]
  },
  {
   "cell_type": "code",
   "execution_count": 43,
   "id": "federal-decision",
   "metadata": {},
   "outputs": [],
   "source": [
    "# Instantiate simple RandomForestClassifier\n",
    "rf = RandomForestClassifier(n_estimators=100, n_jobs=-1)\n",
    "\n",
    "rf.fit(X_train, y_train)\n",
    "y_pred = rf.predict(X_test)"
   ]
  },
  {
   "cell_type": "code",
   "execution_count": null,
   "id": "distinguished-monitor",
   "metadata": {},
   "outputs": [],
   "source": [
    "# Fit and score on the training data.\n",
    "cross_val_score(rf, X_train, y_train, cv=5).mean()"
   ]
  },
  {
   "cell_type": "code",
   "execution_count": null,
   "id": "quiet-thickness",
   "metadata": {},
   "outputs": [],
   "source": [
    "# Score on the testing data.\n",
    "rf.score(X_test, y_test)"
   ]
  },
  {
   "cell_type": "code",
   "execution_count": null,
   "id": "piano-hardwood",
   "metadata": {},
   "outputs": [],
   "source": [
    "# Calculate Recall Score on random forest\n",
    "recall_score(y_train, rf.predict(X_train), average = 'weighted')"
   ]
  },
  {
   "cell_type": "code",
   "execution_count": null,
   "id": "promising-novel",
   "metadata": {},
   "outputs": [],
   "source": [
    "# Plot random forest confusion matrix\n",
    "plot_confusion_matrix(rf, X_test, y_test, cmap = 'YlOrBr', normalize= 'true');"
   ]
  },
  {
   "cell_type": "markdown",
   "id": "nominated-prophet",
   "metadata": {},
   "source": [
    "# More Advanced Random Forest Classifier"
   ]
  },
  {
   "cell_type": "code",
   "execution_count": null,
   "id": "defensive-boston",
   "metadata": {},
   "outputs": [],
   "source": [
    "# instantiate Validation Curve to evaluate estimators of the models\n",
    "num_est=[100, 200, 300]\n",
    "train_scoreNum, test_scoreNum = validation_curve(\n",
    "                                RandomForestClassifier(),\n",
    "                                X = X_train, y = y_train, \n",
    "                                param_name = 'n_estimators', \n",
    "                                param_range = num_est, cv = 3,\n",
    "                                n_jobs=-1)"
   ]
  },
  {
   "cell_type": "code",
   "execution_count": null,
   "id": "following-marine",
   "metadata": {},
   "outputs": [],
   "source": [
    "# Instantiate Random Forest Classifier \n",
    "forestVC = RandomForestClassifier(random_state = 1,\n",
    "                                  n_estimators = 750,\n",
    "                                  max_depth = 15, \n",
    "                                  min_samples_split = 5,  \n",
    "                                  min_samples_leaf = 1, \n",
    "                                  n_jobs=-1) \n",
    "modelVC = forestVC.fit(X_train, y_train) \n",
    "y_predVC = modelVC.predict(X_test)\n",
    "\n",
    "importance = modelVC.feature_importances_\n",
    "\n",
    "# summarize feature importance\n",
    "for i,v in enumerate(importance):\n",
    "    print('Feature: %0d, Score: %.5f' % (i,v))\n",
    "    \n",
    "# plot feature importance\n",
    "pyplot.bar([x for x in range(len(importance))], importance)\n",
    "pyplot.show()"
   ]
  },
  {
   "cell_type": "markdown",
   "id": "indoor-carnival",
   "metadata": {},
   "source": [
    "#### Gridsearch to find best parameters. It will take a while to run!"
   ]
  },
  {
   "cell_type": "code",
   "execution_count": 15,
   "id": "allied-class",
   "metadata": {},
   "outputs": [],
   "source": [
    "# # Set up parameters to grid search over - Keep Me!\n",
    "# n_estimators = [100, 300, 500]\n",
    "# max_depth = [5, 8, 15, 25, 30]\n",
    "# min_samples_split = [2, 5, 10, 15, 50]\n",
    "# min_samples_leaf = [1, 2, 5, 10] \n",
    "\n",
    "# hyperF = dict(n_estimators = n_estimators, max_depth = max_depth,  \n",
    "#               min_samples_split = min_samples_split, \n",
    "#              min_samples_leaf = min_samples_leaf)\n",
    "\n",
    "# gridF = GridSearchCV(rf, hyperF, cv = 3, verbose = 1, \n",
    "#                       n_jobs = -1)\n",
    "# bestF = gridF.fit(X_train, y_train)"
   ]
  },
  {
   "cell_type": "code",
   "execution_count": 16,
   "id": "noble-active",
   "metadata": {},
   "outputs": [],
   "source": [
    "# # List best features score\n",
    "# bestF.best_score_"
   ]
  },
  {
   "cell_type": "code",
   "execution_count": 17,
   "id": "derived-discretion",
   "metadata": {},
   "outputs": [],
   "source": [
    "# # List best parameters\n",
    "# bestF.best_params_"
   ]
  },
  {
   "cell_type": "markdown",
   "id": "fleet-scott",
   "metadata": {},
   "source": [
    "# Extract Best Model Features"
   ]
  },
  {
   "cell_type": "code",
   "execution_count": 12,
   "id": "welcome-machinery",
   "metadata": {},
   "outputs": [
    {
     "name": "stdout",
     "output_type": "stream",
     "text": [
      "Feature: 0, Score: 0.04720\n",
      "Feature: 1, Score: 0.02558\n",
      "Feature: 2, Score: 0.02324\n",
      "Feature: 3, Score: 0.01834\n",
      "Feature: 4, Score: 0.03848\n",
      "Feature: 5, Score: 0.02124\n",
      "Feature: 6, Score: 0.02542\n",
      "Feature: 7, Score: 0.02554\n",
      "Feature: 8, Score: 0.02111\n",
      "Feature: 9, Score: 0.02555\n",
      "Feature: 10, Score: 0.02735\n",
      "Feature: 11, Score: 0.02810\n",
      "Feature: 12, Score: 0.03935\n",
      "Feature: 13, Score: 0.02445\n",
      "Feature: 14, Score: 0.00078\n",
      "Feature: 15, Score: 0.00252\n",
      "Feature: 16, Score: 0.00289\n",
      "Feature: 17, Score: 0.00254\n",
      "Feature: 18, Score: 0.03166\n",
      "Feature: 19, Score: 0.02632\n",
      "Feature: 20, Score: 0.00351\n",
      "Feature: 21, Score: 0.00163\n",
      "Feature: 22, Score: 0.00202\n",
      "Feature: 23, Score: 0.00156\n",
      "Feature: 24, Score: 0.00096\n",
      "Feature: 25, Score: 0.00097\n",
      "Feature: 26, Score: 0.00064\n",
      "Feature: 27, Score: 0.04107\n",
      "Feature: 28, Score: 0.03528\n",
      "Feature: 29, Score: 0.04633\n",
      "Feature: 30, Score: 0.05085\n",
      "Feature: 31, Score: 0.04034\n",
      "Feature: 32, Score: 0.03549\n",
      "Feature: 33, Score: 0.03198\n",
      "Feature: 34, Score: 0.03091\n",
      "Feature: 35, Score: 0.03593\n",
      "Feature: 36, Score: 0.03304\n",
      "Feature: 37, Score: 0.02463\n",
      "Feature: 38, Score: 0.02239\n",
      "Feature: 39, Score: 0.03314\n",
      "Feature: 40, Score: 0.02520\n",
      "Feature: 41, Score: 0.02371\n",
      "Feature: 42, Score: 0.02075\n"
     ]
    },
    {
     "ename": "AttributeError",
     "evalue": "'BarContainer' object has no attribute 'show'",
     "output_type": "error",
     "traceback": [
      "\u001b[1;31m---------------------------------------------------------------------------\u001b[0m",
      "\u001b[1;31mAttributeError\u001b[0m                            Traceback (most recent call last)",
      "\u001b[1;32m<ipython-input-12-352ff60477cc>\u001b[0m in \u001b[0;36m<module>\u001b[1;34m\u001b[0m\n\u001b[0;32m     12\u001b[0m \u001b[1;31m# plot feature importance\u001b[0m\u001b[1;33m\u001b[0m\u001b[1;33m\u001b[0m\u001b[1;33m\u001b[0m\u001b[0m\n\u001b[0;32m     13\u001b[0m \u001b[0mfeature_importance\u001b[0m \u001b[1;33m=\u001b[0m \u001b[0mpyplot\u001b[0m\u001b[1;33m.\u001b[0m\u001b[0mbar\u001b[0m\u001b[1;33m(\u001b[0m\u001b[1;33m[\u001b[0m\u001b[0mx\u001b[0m \u001b[1;32mfor\u001b[0m \u001b[0mx\u001b[0m \u001b[1;32min\u001b[0m \u001b[0mrange\u001b[0m\u001b[1;33m(\u001b[0m\u001b[0mlen\u001b[0m\u001b[1;33m(\u001b[0m\u001b[0mimportance\u001b[0m\u001b[1;33m)\u001b[0m\u001b[1;33m)\u001b[0m\u001b[1;33m]\u001b[0m\u001b[1;33m,\u001b[0m \u001b[0mimportance\u001b[0m\u001b[1;33m)\u001b[0m\u001b[1;33m\u001b[0m\u001b[1;33m\u001b[0m\u001b[0m\n\u001b[1;32m---> 14\u001b[1;33m \u001b[0mfeature_importance\u001b[0m\u001b[1;33m.\u001b[0m\u001b[0mshow\u001b[0m\u001b[1;33m(\u001b[0m\u001b[1;33m)\u001b[0m\u001b[1;33m\u001b[0m\u001b[1;33m\u001b[0m\u001b[0m\n\u001b[0m",
      "\u001b[1;31mAttributeError\u001b[0m: 'BarContainer' object has no attribute 'show'"
     ]
    },
    {
     "data": {
      "image/png": "[encoded data removed]",
      "text/plain": [
       "<Figure size 432x288 with 1 Axes>"
      ]
     },
     "metadata": {
      "image/png": {
       "height": 248,
       "width": 378
      },
      "needs_background": "light"
     },
     "output_type": "display_data"
    }
   ],
   "source": [
    "# Run the model with the best params from the grid search\n",
    "forestOpt = RandomForestClassifier(random_state = 11, max_depth = 15, n_estimators = 100, min_samples_split = 10, min_samples_leaf = 10, n_jobs=-1)                             \n",
    "modelOpt = forestOpt.fit(X_train, y_train)\n",
    "y_pred = modelOpt.predict(X_test)\n",
    "\n",
    "importance = modelOpt.feature_importances_\n",
    "\n",
    "# summarize feature importance\n",
    "for i,v in enumerate(importance):\n",
    "    print('Feature: %0d, Score: %.5f' % (i,v))\n",
    "    \n",
    "# plot feature importance\n",
    "feature_importance = pyplot.bar([x for x in range(len(importance))], importance)\n",
    "feature_importance.show()"
   ]
  },
  {
   "cell_type": "markdown",
   "id": "tropical-right",
   "metadata": {},
   "source": [
    "# Model Evaluation"
   ]
  },
  {
   "cell_type": "code",
   "execution_count": 19,
   "id": "strange-literature",
   "metadata": {},
   "outputs": [
    {
     "data": {
      "text/plain": [
       "0.6255511881721503"
      ]
     },
     "execution_count": 19,
     "metadata": {},
     "output_type": "execute_result"
    }
   ],
   "source": [
    "# List recall score\n",
    "recall_score(y_train, modelOpt.predict(X_train), average = 'weighted')"
   ]
  },
  {
   "cell_type": "code",
   "execution_count": 20,
   "id": "canadian-checkout",
   "metadata": {},
   "outputs": [
    {
     "data": {
      "image/png": "[encoded data removed]",
      "text/plain": [
       "<Figure size 432x288 with 2 Axes>"
      ]
     },
     "metadata": {
      "image/png": {
       "height": 261,
       "width": 310
      },
      "needs_background": "light"
     },
     "output_type": "display_data"
    }
   ],
   "source": [
    "# Plot a confusion matrix\n",
    "plot_confusion_matrix(modelOpt, X_test, y_test, cmap = 'YlOrBr', normalize= 'true');"
   ]
  }
 ],
 "metadata": {
  "kernelspec": {
   "display_name": "Python 3",
   "language": "python",
   "name": "python3"
  },
  "language_info": {
   "codemirror_mode": {
    "name": "ipython",
    "version": 3
   },
   "file_extension": ".py",
   "mimetype": "text/x-python",
   "name": "python",
   "nbconvert_exporter": "python",
   "pygments_lexer": "ipython3",
   "version": "3.8.5"
  }
 },
 "nbformat": 4,
 "nbformat_minor": 5
}
